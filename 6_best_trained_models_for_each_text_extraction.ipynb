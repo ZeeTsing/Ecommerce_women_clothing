{
 "cells": [
  {
   "cell_type": "code",
   "execution_count": 4,
   "metadata": {},
   "outputs": [],
   "source": [
    "import numpy as np\n",
    "import pandas as pd\n",
    "import seaborn as sns\n",
    "import matplotlib.pyplot as plt\n",
    "from collections import Counter\n",
    "import random\n",
    "from sklearn.metrics import accuracy_score, f1_score,roc_auc_score,accuracy_score, confusion_matrix, roc_curve\n",
    "from sklearn.feature_extraction.text import CountVectorizer\n",
    "from sklearn.linear_model import LogisticRegressionCV\n",
    "import pickle"
   ]
  },
  {
   "cell_type": "code",
   "execution_count": 2,
   "metadata": {},
   "outputs": [],
   "source": [
    "df = pd.read_pickle('cleaned_df.pkl')"
   ]
  },
  {
   "cell_type": "code",
   "execution_count": 7,
   "metadata": {},
   "outputs": [],
   "source": [
    "#load best BOW model with Vectorizer\n",
    "\n",
    "file = open('output/BOW_LR_model.obj', 'rb') \n",
    "lrm = pickle.load(file)\n",
    "file.close()\n",
    "\n",
    "file = open('output/BOW_vect.obj', 'rb') \n",
    "Vect1 = pickle.load(file)\n",
    "file.close()"
   ]
  },
  {
   "cell_type": "code",
   "execution_count": 146,
   "metadata": {},
   "outputs": [],
   "source": [
    "test_string = ['I like this dress but the design is ugly',\n",
    "               'Flattering dress and lovely design. Highly recommended',\n",
    "               \"But I wish it looked more like on the model.\",\n",
    "               \"This dress is far nicer than I had anticipated.\",\n",
    "              \"The pictures are very deceiving. They make it look like just the sleeves should be the mesh see through.\"]"
   ]
  },
  {
   "cell_type": "code",
   "execution_count": 147,
   "metadata": {},
   "outputs": [],
   "source": [
    "test_vect = Vect1.transform(test_string)"
   ]
  },
  {
   "cell_type": "code",
   "execution_count": 148,
   "metadata": {},
   "outputs": [],
   "source": [
    "prediction = lrm.predict(test_vect)"
   ]
  },
  {
   "cell_type": "code",
   "execution_count": 149,
   "metadata": {},
   "outputs": [],
   "source": [
    "outcome = np.where(prediction,\"Positive\",\"Not Positive\")"
   ]
  },
  {
   "cell_type": "code",
   "execution_count": 150,
   "metadata": {},
   "outputs": [
    {
     "name": "stdout",
     "output_type": "stream",
     "text": [
      "The predicted outcome is Positive, Positive, Not Positive, Positive and Positive.\n"
     ]
    }
   ],
   "source": [
    "print(\"The predicted outcome is {}, {}, {}, {} and {}.\".format(outcome[0],outcome[1],outcome[2],outcome[3],outcome[4]))"
   ]
  },
  {
   "cell_type": "code",
   "execution_count": 83,
   "metadata": {},
   "outputs": [],
   "source": [
    "#load TF-IDF bigram LR model\n",
    "file = open('output/TF-IDF-2_vect.obj', 'rb') \n",
    "Vect_tfidf = pickle.load(file)\n",
    "file.close()\n",
    "\n",
    "file = open('output/TF-IDF-2_lrm.obj', 'rb') \n",
    "tfidf_lrm = pickle.load(file)\n",
    "file.close()"
   ]
  },
  {
   "cell_type": "code",
   "execution_count": 151,
   "metadata": {},
   "outputs": [],
   "source": [
    "test_vect2 = Vect_tfidf.transform(test_string)"
   ]
  },
  {
   "cell_type": "code",
   "execution_count": 152,
   "metadata": {},
   "outputs": [],
   "source": [
    "prediction = tfidf_lrm.predict(test_vect2)"
   ]
  },
  {
   "cell_type": "code",
   "execution_count": 153,
   "metadata": {},
   "outputs": [
    {
     "name": "stdout",
     "output_type": "stream",
     "text": [
      "The predicted outcome is Not Positive, Positive, Not Positive, Positive and Positive.\n"
     ]
    }
   ],
   "source": [
    "outcome = np.where(prediction,\"Positive\",\"Not Positive\")\n",
    "print(\"The predicted outcome is {}, {}, {}, {} and {}.\".format(outcome[0],outcome[1],outcome[2],outcome[3],outcome[4]))"
   ]
  },
  {
   "cell_type": "code",
   "execution_count": 45,
   "metadata": {},
   "outputs": [],
   "source": [
    "# load TF-IDF bigram + SVD model + LR"
   ]
  },
  {
   "cell_type": "code",
   "execution_count": 87,
   "metadata": {},
   "outputs": [],
   "source": [
    "file = open('output/Vectorizer.obj', 'rb') \n",
    "vect_2_lsa = pickle.load(file)\n",
    "file.close()\n",
    "\n",
    "file = open('output/LSA.obj', 'rb') \n",
    "LSA = pickle.load(file)\n",
    "file.close()\n",
    "\n",
    "file = open('output/model.obj', 'rb') \n",
    "tfidf_lsa_lrm = pickle.load(file)\n",
    "file.close()"
   ]
  },
  {
   "cell_type": "code",
   "execution_count": 154,
   "metadata": {},
   "outputs": [],
   "source": [
    "text_vect2_lsa = vect_2_lsa.transform(test_string)"
   ]
  },
  {
   "cell_type": "code",
   "execution_count": 155,
   "metadata": {},
   "outputs": [],
   "source": [
    "text_lsa_ready= LSA.transform(text_vect2_lsa)"
   ]
  },
  {
   "cell_type": "code",
   "execution_count": 156,
   "metadata": {},
   "outputs": [],
   "source": [
    "prediction = tfidf_lsa_lrm.predict(text_lsa_ready)"
   ]
  },
  {
   "cell_type": "code",
   "execution_count": 157,
   "metadata": {},
   "outputs": [
    {
     "name": "stdout",
     "output_type": "stream",
     "text": [
      "The predicted outcome is Not Positive, Positive, Not Positive, Positive and Not Positive.\n"
     ]
    }
   ],
   "source": [
    "outcome = np.where(prediction,\"Positive\",\"Not Positive\")\n",
    "print(\"The predicted outcome is {}, {}, {}, {} and {}.\".format(outcome[0],outcome[1],outcome[2],outcome[3],outcome[4]))"
   ]
  },
  {
   "cell_type": "code",
   "execution_count": 70,
   "metadata": {},
   "outputs": [],
   "source": [
    "# load text embedding model"
   ]
  },
  {
   "cell_type": "code",
   "execution_count": 110,
   "metadata": {},
   "outputs": [],
   "source": [
    "file = open('output/text_embedding_LR.obj', 'rb') \n",
    "TE_lr = pickle.load(file)\n",
    "file.close()"
   ]
  },
  {
   "cell_type": "code",
   "execution_count": 111,
   "metadata": {},
   "outputs": [],
   "source": [
    "import spacy\n",
    "nlp = spacy.load('en_core_web_lg')"
   ]
  },
  {
   "cell_type": "code",
   "execution_count": 158,
   "metadata": {},
   "outputs": [],
   "source": [
    "with nlp.disable_pipes():\n",
    "    test_vector = np.array([nlp(text).vector for text in test_string])"
   ]
  },
  {
   "cell_type": "code",
   "execution_count": 159,
   "metadata": {},
   "outputs": [],
   "source": [
    "prediction = TE_lr.predict(test_vector)"
   ]
  },
  {
   "cell_type": "code",
   "execution_count": 160,
   "metadata": {},
   "outputs": [
    {
     "name": "stdout",
     "output_type": "stream",
     "text": [
      "The predicted outcome is Not Positive, Positive, Not Positive, Not Positive and Not Positive.\n"
     ]
    }
   ],
   "source": [
    "outcome = np.where(prediction,\"Positive\",\"Not Positive\")\n",
    "print(\"The predicted outcome is {}, {}, {}, {} and {}.\".format(outcome[0],outcome[1],outcome[2],outcome[3],outcome[4]))"
   ]
  },
  {
   "cell_type": "code",
   "execution_count": null,
   "metadata": {},
   "outputs": [],
   "source": []
  }
 ],
 "metadata": {
  "kernelspec": {
   "display_name": "Python 3",
   "language": "python",
   "name": "python3"
  },
  "language_info": {
   "codemirror_mode": {
    "name": "ipython",
    "version": 3
   },
   "file_extension": ".py",
   "mimetype": "text/x-python",
   "name": "python",
   "nbconvert_exporter": "python",
   "pygments_lexer": "ipython3",
   "version": "3.7.3"
  }
 },
 "nbformat": 4,
 "nbformat_minor": 2
}

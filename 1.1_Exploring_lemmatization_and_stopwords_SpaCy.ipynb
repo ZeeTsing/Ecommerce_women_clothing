{
 "cells": [
  {
   "cell_type": "code",
   "execution_count": 27,
   "metadata": {},
   "outputs": [],
   "source": [
    "import numpy as np\n",
    "import pandas as pd\n",
    "import seaborn as sns\n",
    "import matplotlib.pyplot as plt\n",
    "from collections import Counter\n",
    "import random\n",
    "from sklearn.metrics import accuracy_score, f1_score,roc_auc_score,accuracy_score, confusion_matrix, roc_curve\n",
    "import nltk"
   ]
  },
  {
   "cell_type": "code",
   "execution_count": 76,
   "metadata": {},
   "outputs": [],
   "source": [
    "data_train = pd.read_pickle('train_set.pkl')\n",
    "data_test = pd.read_pickle('test_set.pkl')"
   ]
  },
  {
   "cell_type": "code",
   "execution_count": 126,
   "metadata": {},
   "outputs": [],
   "source": [
    "import spacy\n",
    "#nlp = spacy.load(\"en_core_web_sm\")\n",
    "#comment out as this does not work"
   ]
  },
  {
   "cell_type": "code",
   "execution_count": 127,
   "metadata": {},
   "outputs": [],
   "source": [
    "import en_core_web_sm\n",
    "nlp = en_core_web_sm.load()"
   ]
  },
  {
   "cell_type": "code",
   "execution_count": 66,
   "metadata": {},
   "outputs": [],
   "source": [
    "text = data_train.RAW_Text.values[:4]"
   ]
  },
  {
   "cell_type": "code",
   "execution_count": 67,
   "metadata": {},
   "outputs": [],
   "source": [
    "docs = nlp.pipe(text)"
   ]
  },
  {
   "cell_type": "markdown",
   "metadata": {},
   "source": [
    "We want to explore how to do it with SpaCy and combined with pandas"
   ]
  },
  {
   "cell_type": "code",
   "execution_count": 77,
   "metadata": {},
   "outputs": [
    {
     "name": "stdout",
     "output_type": "stream",
     "text": [
      "i\t\ti\t\tTrue\n",
      "am\t\tbe\t\tTrue\n",
      "5\t\t5\t\tFalse\n",
      "5\t\t5\t\tFalse\n",
      "  \t\t  \t\tFalse\n",
      "145\t\t145\t\tFalse\n",
      "lbs\t\tlbs\t\tFalse\n",
      " \t\t \t\tFalse\n",
      "a\t\ta\t\tTrue\n",
      "cup\t\tcup\t\tFalse\n",
      " \t\t \t\tFalse\n",
      "depending\t\tdepend\t\tFalse\n",
      "on\t\ton\t\tTrue\n",
      "the\t\tthe\t\tTrue\n",
      "style\t\tstyle\t\tFalse\n",
      "of\t\tof\t\tTrue\n",
      "the\t\tthe\t\tTrue\n",
      "shirt\t\tshirt\t\tFalse\n",
      "i\t\ti\t\tTrue\n",
      "am\t\tbe\t\tTrue\n",
      "between\t\tbetween\t\tTrue\n",
      "a\t\ta\t\tTrue\n",
      "medium\t\tmedium\t\tFalse\n",
      "and\t\tand\t\tTrue\n",
      "a\t\ta\t\tTrue\n",
      "small\t\tsmall\t\tFalse\n",
      "at\t\tat\t\tTrue\n",
      "retailer\t\tretailer\t\tFalse\n",
      " \t\t \t\tFalse\n",
      "in\t\tin\t\tTrue\n",
      "this\t\tthis\t\tTrue\n",
      "case\t\tcase\t\tFalse\n",
      "i\t\ti\t\tTrue\n",
      "purchased\t\tpurchase\t\tFalse\n",
      "a\t\ta\t\tTrue\n",
      "small\t\tsmall\t\tFalse\n",
      " \t\t \t\tFalse\n",
      "even\t\teven\t\tTrue\n",
      "in\t\tin\t\tTrue\n",
      "the\t\tthe\t\tTrue\n",
      "small\t\tsmall\t\tFalse\n",
      "the\t\tthe\t\tTrue\n",
      "body\t\tbody\t\tFalse\n",
      "has\t\thave\t\tTrue\n",
      "ample\t\tample\t\tFalse\n",
      "space\t\tspace\t\tFalse\n",
      "which\t\twhich\t\tTrue\n",
      "adds\t\tadd\t\tFalse\n",
      "to\t\tto\t\tTrue\n",
      "the\t\tthe\t\tTrue\n",
      "relax\t\trelax\t\tFalse\n",
      "look\t\tlook\t\tFalse\n",
      "without\t\twithout\t\tTrue\n",
      "appearing\t\tappear\t\tFalse\n",
      "sloppy\t\tsloppy\t\tFalse\n",
      " \t\t \t\tFalse\n",
      "and\t\tand\t\tTrue\n",
      "because\t\tbecause\t\tTrue\n",
      "the\t\tthe\t\tTrue\n",
      "shirt\t\tshirt\t\tFalse\n",
      "is\t\tbe\t\tTrue\n",
      "wider\t\twide\t\tFalse\n",
      "i\t\ti\t\tTrue\n",
      "would\t\twould\t\tTrue\n",
      "say\t\tsay\t\tTrue\n",
      "you\t\t-PRON-\t\tTrue\n",
      "can\t\tcan\t\tTrue\n",
      "easily\t\teasily\t\tFalse\n",
      "size\t\tsize\t\tFalse\n",
      "down\t\tdown\t\tTrue\n",
      " \t\t \t\tFalse\n",
      "the\t\tthe\t\tTrue\n",
      "shirt\t\tshirt\t\tFalse\n",
      "is\t\tbe\t\tTrue\n",
      "definitely\t\tdefinitely\t\tFalse\n",
      "flirty\t\tflirty\t\tFalse\n",
      "and\t\tand\t\tTrue\n",
      "fun\t\tfun\t\tFalse\n",
      "with\t\twith\t\tTrue\n",
      "a\t\ta\t\tTrue\n",
      "great\t\tgreat\t\tFalse\n",
      "print\t\tprint\t\tFalse\n",
      " \t\t \t\tFalse\n",
      "and\t\tand\t\tTrue\n",
      "easy\t\teasy\t\tFalse\n",
      "to\t\tto\t\tTrue\n",
      "wear\t\twear\t\tFalse\n",
      "off\t\toff\t\tTrue\n",
      "of\t\tof\t\tTrue\n",
      "the\t\tthe\t\tTrue\n",
      "shoulders\t\tshoulder\t\tFalse\n",
      " \t\t \t\tFalse\n",
      "i\t\ti\t\tTrue\n",
      "invested\t\tinvest\t\tFalse\n",
      "in\t\tin\t\tTrue\n",
      "another\t\tanother\t\tTrue\n",
      "retailer\t\tretailer\t\tFalse\n",
      "top\t\ttop\t\tTrue\n",
      "that\t\tthat\t\tTrue\n",
      "is\t\tbe\t\tTrue\n",
      "also\t\talso\t\tTrue\n",
      "an\t\tan\t\tTrue\n",
      " \t\t \t\tFalse\n",
      "off\t\toff\t\tTrue\n",
      "of\t\tof\t\tTrue\n",
      "the\t\tthe\t\tTrue\n",
      "shoulder\t\tshoulder\t\tFalse\n",
      " \t\t \t\tFalse\n",
      "design\t\tdesign\t\tFalse\n",
      "but\t\tbut\t\tTrue\n",
      "it\t\t-PRON-\t\tTrue\n",
      "does\t\tdo\t\tTrue\n",
      "not\t\tnot\t\tTrue\n",
      "so\t\tso\t\tTrue\n",
      "thin\t\tthin\t\tFalse\n",
      "and\t\tand\t\tTrue\n",
      "see\t\tsee\t\tTrue\n",
      "thru\t\tthru\t\tTrue\n",
      "it\t\t-PRON-\t\tTrue\n",
      "s\t\ts\t\tFalse\n",
      "not\t\tnot\t\tTrue\n",
      "even\t\teven\t\tTrue\n",
      "wearable\t\twearable\t\tFalse\n",
      "in\t\tin\t\tTrue\n",
      "public\t\tpublic\t\tFalse\n",
      " \t\t \t\tFalse\n",
      "extremely\t\textremely\t\tFalse\n",
      "cheap\t\tcheap\t\tFalse\n",
      "and\t\tand\t\tTrue\n",
      "ill\t\till\t\tFalse\n",
      "fitting\t\tfitting\t\tFalse\n",
      "for\t\tfor\t\tTrue\n",
      "any\t\tany\t\tTrue\n",
      "price\t\tprice\t\tFalse\n",
      "let\t\tlet\t\tFalse\n",
      "alone\t\talone\t\tTrue\n",
      "this\t\tthis\t\tTrue\n",
      "price\t\tprice\t\tFalse\n",
      " \t\t \t\tFalse\n",
      "i\t\ti\t\tTrue\n",
      "feel\t\tfeel\t\tFalse\n",
      "like\t\tlike\t\tFalse\n",
      "they\t\t-PRON-\t\tTrue\n",
      "will\t\twill\t\tTrue\n",
      "rip\t\trip\t\tFalse\n",
      "the\t\tthe\t\tTrue\n",
      "moment\t\tmoment\t\tFalse\n",
      "i\t\ti\t\tTrue\n",
      "wear\t\twear\t\tFalse\n",
      "them\t\t-PRON-\t\tTrue\n",
      "out\t\tout\t\tTrue\n",
      " \t\t \t\tFalse\n",
      "going\t\tgo\t\tFalse\n",
      "back\t\tback\t\tTrue\n",
      "just\t\tjust\t\tTrue\n",
      "bought\t\tbuy\t\tFalse\n",
      "these\t\tthese\t\tTrue\n",
      "today\t\ttoday\t\tFalse\n",
      "and\t\tand\t\tTrue\n",
      "they\t\t-PRON-\t\tTrue\n",
      "are\t\tbe\t\tTrue\n",
      "super\t\tsuper\t\tFalse\n",
      "soft\t\tsoft\t\tFalse\n",
      "and\t\tand\t\tTrue\n",
      "beautiful\t\tbeautiful\t\tFalse\n",
      " \t\t \t\tFalse\n",
      "also\t\talso\t\tTrue\n",
      " \t\t \t\tFalse\n",
      "100\t\t100\t\tFalse\n",
      " \t\t \t\tFalse\n",
      "cotton\t\tcotton\t\tFalse\n",
      " \t\t \t\tFalse\n",
      "yay\t\tyay\t\tFalse\n",
      " \t\t \t\tFalse\n",
      "i\t\ti\t\tTrue\n",
      "hate\t\thate\t\tFalse\n",
      "poly\t\tpoly\t\tFalse\n",
      "  \t\t  \t\tFalse\n",
      "thought\t\tthink\t\tFalse\n",
      "i\t\ti\t\tTrue\n",
      "should\t\tshould\t\tTrue\n",
      "mention\t\tmention\t\tFalse\n",
      "though\t\tthough\t\tTrue\n",
      "that\t\tthat\t\tTrue\n",
      "they\t\t-PRON-\t\tTrue\n",
      "do\t\tdo\t\tTrue\n",
      "shrink\t\tshrink\t\tFalse\n",
      "in\t\tin\t\tTrue\n",
      "the\t\tthe\t\tTrue\n",
      "dryer\t\tdryer\t\tFalse\n",
      " \t\t \t\tFalse\n",
      "so\t\tso\t\tTrue\n",
      "unless\t\tunless\t\tTrue\n",
      "you\t\t-PRON-\t\tTrue\n",
      "re\t\tre\t\tTrue\n",
      "skinny\t\tskinny\t\tFalse\n",
      " \t\t \t\tFalse\n",
      "you\t\t-PRON-\t\tTrue\n",
      "might\t\tmay\t\tTrue\n",
      "want\t\twant\t\tFalse\n",
      "to\t\tto\t\tTrue\n",
      "buy\t\tbuy\t\tFalse\n",
      "a\t\ta\t\tTrue\n",
      "size\t\tsize\t\tFalse\n",
      "up\t\tup\t\tTrue\n",
      "or\t\tor\t\tTrue\n",
      "hang\t\thang\t\tFalse\n",
      "them\t\t-PRON-\t\tTrue\n",
      "to\t\tto\t\tTrue\n",
      "dry\t\tdry\t\tFalse\n",
      "and\t\tand\t\tTrue\n",
      "then\t\tthen\t\tTrue\n",
      "put\t\tput\t\tTrue\n",
      "in\t\tin\t\tTrue\n",
      "the\t\tthe\t\tTrue\n",
      "dryer\t\tdryer\t\tFalse\n",
      "on\t\ton\t\tTrue\n",
      "low\t\tlow\t\tFalse\n",
      "to\t\tto\t\tTrue\n",
      "fluff\t\tfluff\t\tFalse\n",
      "lightweight\t\tlightweight\t\tFalse\n",
      "silk\t\tsilk\t\tFalse\n",
      "with\t\twith\t\tTrue\n",
      "sweet\t\tsweet\t\tFalse\n",
      "details\t\tdetail\t\tFalse\n",
      " \t\t \t\tFalse\n",
      "ruffles\t\truffle\t\tFalse\n",
      " \t\t \t\tFalse\n",
      "fits\t\tfit\t\tFalse\n",
      "comfortably\t\tcomfortably\t\tFalse\n",
      "and\t\tand\t\tTrue\n",
      "nice\t\tnice\t\tFalse\n",
      "for\t\tfor\t\tTrue\n",
      "workplace\t\tworkplace\t\tFalse\n",
      "with\t\twith\t\tTrue\n",
      "suit\t\tsuit\t\tFalse\n",
      "or\t\tor\t\tTrue\n",
      "more\t\tmore\t\tTrue\n",
      "casual\t\tcasual\t\tFalse\n"
     ]
    }
   ],
   "source": [
    "text = data_train.Text.values[:4]\n",
    "docs = nlp.pipe(text)\n",
    "\n",
    "tokens = []\n",
    "lemma = []\n",
    "is_stop = []\n",
    "lemma_and_stop = []\n",
    "remove_stop_only = []\n",
    "\n",
    "for doc in docs:\n",
    "    if doc.is_parsed:\n",
    "        tokens.append([n.text for n in doc])\n",
    "        lemma.append([n.lemma_ for n in doc])\n",
    "        is_stop.append([n.is_stop for n in doc])\n",
    "        lemma_and_stop.append([n.lemma_ for n in doc if n.is_stop == False])\n",
    "        remove_stop_only.append([n.text for n in doc if n.is_stop == False])\n",
    "    else:\n",
    "        # We want to make sure that the lists of parsed results have the\n",
    "        # same number of entries of the original Dataframe, so add some blanks in case the parse fails\n",
    "        tokens.append(None)\n",
    "        lemma.append(None)\n",
    "        is_stop.append(None)\n",
    "        lemma_and_stop.append(None)\n",
    "    for token in doc:\n",
    "        print(f\"{str(token)}\\t\\t{token.lemma_}\\t\\t{token.is_stop}\")\n"
   ]
  },
  {
   "cell_type": "code",
   "execution_count": 74,
   "metadata": {},
   "outputs": [
    {
     "data": {
      "text/plain": [
       "['5',\n",
       " '5',\n",
       " '  ',\n",
       " '145',\n",
       " 'lbs',\n",
       " ' ',\n",
       " 'cup',\n",
       " ' ',\n",
       " 'depend',\n",
       " 'style',\n",
       " 'shirt',\n",
       " 'medium',\n",
       " 'small',\n",
       " 'retailer',\n",
       " ' ',\n",
       " 'case',\n",
       " 'purchase',\n",
       " 'small',\n",
       " ' ',\n",
       " 'small',\n",
       " 'body',\n",
       " 'ample',\n",
       " 'space',\n",
       " 'add',\n",
       " 'relax',\n",
       " 'look',\n",
       " 'appear',\n",
       " 'sloppy',\n",
       " ' ',\n",
       " 'shirt',\n",
       " 'wide',\n",
       " 'easily',\n",
       " 'size',\n",
       " ' ',\n",
       " 'shirt',\n",
       " 'definitely',\n",
       " 'flirty',\n",
       " 'fun',\n",
       " 'great',\n",
       " 'print',\n",
       " ' ',\n",
       " 'easy',\n",
       " 'wear',\n",
       " 'shoulder',\n",
       " ' ',\n",
       " 'invest',\n",
       " 'retailer',\n",
       " ' ',\n",
       " 'shoulder',\n",
       " ' ',\n",
       " 'design']"
      ]
     },
     "execution_count": 74,
     "metadata": {},
     "output_type": "execute_result"
    }
   ],
   "source": [
    "lemma_and_stop[0]"
   ]
  },
  {
   "cell_type": "code",
   "execution_count": 129,
   "metadata": {},
   "outputs": [],
   "source": [
    "stopwords = spacy.lang.en.stop_words.STOP_WORDS"
   ]
  },
  {
   "cell_type": "code",
   "execution_count": 80,
   "metadata": {},
   "outputs": [],
   "source": [
    "from sklearn.feature_extraction.text import CountVectorizer\n",
    "\n",
    "# Fit the CountVectorizer to the training data (Bag of Words model)\n"
   ]
  },
  {
   "cell_type": "code",
   "execution_count": 90,
   "metadata": {},
   "outputs": [],
   "source": [
    "lemma_join = []\n",
    "\n",
    "for lem in lemma:\n",
    "    lemma_join.append(\" \".join(lem))"
   ]
  },
  {
   "cell_type": "code",
   "execution_count": 89,
   "metadata": {},
   "outputs": [
    {
     "data": {
      "text/plain": [
       "'i be 5 5    145 lbs   a cup   depend on the style of the shirt i be between a medium and a small at retailer   in this case i purchase a small   even in the small the body have ample space which add to the relax look without appear sloppy   and because the shirt be wide i would say -PRON- can easily size down   the shirt be definitely flirty and fun with a great print   and easy to wear off of the shoulder   i invest in another retailer top that be also an   off of the shoulder   design but -PRON- do not'"
      ]
     },
     "execution_count": 89,
     "metadata": {},
     "output_type": "execute_result"
    }
   ],
   "source": [
    "\" \".join(lemma[0])"
   ]
  },
  {
   "cell_type": "code",
   "execution_count": 91,
   "metadata": {},
   "outputs": [
    {
     "data": {
      "text/plain": [
       "['i be 5 5    145 lbs   a cup   depend on the style of the shirt i be between a medium and a small at retailer   in this case i purchase a small   even in the small the body have ample space which add to the relax look without appear sloppy   and because the shirt be wide i would say -PRON- can easily size down   the shirt be definitely flirty and fun with a great print   and easy to wear off of the shoulder   i invest in another retailer top that be also an   off of the shoulder   design but -PRON- do not',\n",
       " 'so thin and see thru -PRON- s not even wearable in public   extremely cheap and ill fitting for any price let alone this price   i feel like -PRON- will rip the moment i wear -PRON- out   go back',\n",
       " 'just buy these today and -PRON- be super soft and beautiful   also   100   cotton   yay   i hate poly    think i should mention though that -PRON- do shrink in the dryer   so unless -PRON- re skinny   -PRON- may want to buy a size up or hang -PRON- to dry and then put in the dryer on low to fluff',\n",
       " 'lightweight silk with sweet detail   ruffle   fit comfortably and nice for workplace with suit or more casual']"
      ]
     },
     "execution_count": 91,
     "metadata": {},
     "output_type": "execute_result"
    }
   ],
   "source": []
  },
  {
   "cell_type": "code",
   "execution_count": 94,
   "metadata": {},
   "outputs": [],
   "source": [
    "def lemma_and_stop (text):\n",
    "    docs = nlp.pipe(text)\n",
    "    tokens = []\n",
    "    lemma = []\n",
    "    lemma_and_stop = []\n",
    "\n",
    "    for doc in docs:\n",
    "        if doc.is_parsed:\n",
    "            tokens.append([n.text for n in doc])\n",
    "            lemma.append(\" \".join([n.lemma_ for n in doc]))\n",
    "            lemma_and_stop.append(\" \".join([n.lemma_ for n in doc if n.is_stop == False]))\n",
    "        else:\n",
    "            # We want to make sure that the lists of parsed results have the\n",
    "            # same number of entries of the original Dataframe, so add some blanks in case the parse fails\n",
    "            tokens.append(None)\n",
    "            lemma.append(None)\n",
    "            lemma_and_stop.append(None)\n",
    "    return tokens,lemma,lemma_and_stop"
   ]
  },
  {
   "cell_type": "code",
   "execution_count": 3,
   "metadata": {},
   "outputs": [],
   "source": [
    "df = pd.read_pickle('cleaned_df.pkl')"
   ]
  },
  {
   "cell_type": "code",
   "execution_count": 112,
   "metadata": {},
   "outputs": [],
   "source": [
    "corpus = df.RAW_Text.str.replace(r\"\\W\",\" \").str.lower()"
   ]
  },
  {
   "cell_type": "code",
   "execution_count": 113,
   "metadata": {},
   "outputs": [],
   "source": [
    "corpus_positive = corpus[df.Positively_rated == 1]"
   ]
  },
  {
   "cell_type": "code",
   "execution_count": 114,
   "metadata": {},
   "outputs": [],
   "source": [
    "corpus_negative = corpus[df.Positively_rated == 0]"
   ]
  },
  {
   "cell_type": "code",
   "execution_count": 168,
   "metadata": {},
   "outputs": [
    {
     "data": {
      "text/plain": [
       "17448"
      ]
     },
     "execution_count": 168,
     "metadata": {},
     "output_type": "execute_result"
    }
   ],
   "source": [
    "sum(df.Positively_rated)"
   ]
  },
  {
   "cell_type": "code",
   "execution_count": 169,
   "metadata": {},
   "outputs": [
    {
     "data": {
      "text/plain": [
       "22641"
      ]
     },
     "execution_count": 169,
     "metadata": {},
     "output_type": "execute_result"
    }
   ],
   "source": [
    "len(df)"
   ]
  },
  {
   "cell_type": "code",
   "execution_count": 115,
   "metadata": {},
   "outputs": [],
   "source": [
    "corpus_positive = \" \".join(corpus_positive)"
   ]
  },
  {
   "cell_type": "code",
   "execution_count": 100,
   "metadata": {},
   "outputs": [
    {
     "data": {
      "text/plain": [
       "original_ind\n",
       "0        Absolutely wonderful   silky and sexy and comf...\n",
       "1        Love this dress   it s sooo pretty   i happene...\n",
       "2        I had such high hopes for this dress and reall...\n",
       "3        I love  love  love this jumpsuit  it s fun  fl...\n",
       "4        This shirt is very flattering to all due to th...\n",
       "                               ...                        \n",
       "23481    I was very happy to snag this dress at such a ...\n",
       "23482    It reminds me of maternity clothes  soft  stre...\n",
       "23483    This fit well  but the top was very see throug...\n",
       "23484    I bought this dress for a wedding i have this ...\n",
       "23485    This dress in a lovely platinum is feminine an...\n",
       "Name: RAW_Text, Length: 22641, dtype: object"
      ]
     },
     "execution_count": 100,
     "metadata": {},
     "output_type": "execute_result"
    }
   ],
   "source": []
  },
  {
   "cell_type": "code",
   "execution_count": 116,
   "metadata": {},
   "outputs": [],
   "source": [
    "corpus_positive = nltk.Text(nltk.word_tokenize(corpus_positive))"
   ]
  },
  {
   "cell_type": "code",
   "execution_count": 117,
   "metadata": {},
   "outputs": [],
   "source": [
    "corpus_negative = \" \".join(corpus_negative)"
   ]
  },
  {
   "cell_type": "code",
   "execution_count": 118,
   "metadata": {},
   "outputs": [],
   "source": [
    "corpus_negative = nltk.Text(nltk.word_tokenize(corpus_negative))"
   ]
  },
  {
   "cell_type": "code",
   "execution_count": 32,
   "metadata": {},
   "outputs": [],
   "source": [
    "from nltk.probability import FreqDist"
   ]
  },
  {
   "cell_type": "code",
   "execution_count": 119,
   "metadata": {},
   "outputs": [],
   "source": [
    "pos = FreqDist(corpus_positive)"
   ]
  },
  {
   "cell_type": "code",
   "execution_count": 121,
   "metadata": {},
   "outputs": [
    {
     "name": "stdout",
     "output_type": "stream",
     "text": [
      "FreqDist({'the': 55681, 'i': 51562, 'and': 38513, 'it': 37289, 'a': 33989, 'is': 24241, 'this': 19675, 'to': 18717, 'in': 15877, 'but': 11941, 'on': 11169, 'for': 10857, 'with': 10853, 'of': 9801, 'so': 9355, 'my': 8599, 'dress': 8036, 'love': 7742, 'that': 7634, 'was': 7232, 'size': 7079, 's': 6994, 'not': 6822, 't': 6277, 'very': 6193, ...})\n"
     ]
    }
   ],
   "source": [
    "pos.pprint(maxlen=25)"
   ]
  },
  {
   "cell_type": "code",
   "execution_count": 120,
   "metadata": {},
   "outputs": [],
   "source": [
    "neg = FreqDist(corpus_negative)"
   ]
  },
  {
   "cell_type": "code",
   "execution_count": 122,
   "metadata": {},
   "outputs": [
    {
     "name": "stdout",
     "output_type": "stream",
     "text": [
      "FreqDist({'the': 20485, 'i': 15508, 'it': 11995, 'and': 10496, 'a': 9029, 'is': 6400, 'this': 6087, 'to': 5866, 'was': 4989, 'in': 4846, 'but': 4615, 'on': 4159, 'of': 3628, 'not': 3159, 'for': 3143, 'so': 2668, 't': 2578, 'dress': 2531, 'my': 2429, 'that': 2380, 'like': 2221, 'me': 2119, 'have': 2060, 'very': 2024, 'top': 1964, ...})\n"
     ]
    }
   ],
   "source": [
    "neg.pprint(maxlen=25)"
   ]
  },
  {
   "cell_type": "code",
   "execution_count": 123,
   "metadata": {},
   "outputs": [
    {
     "data": {
      "text/plain": [
       "12411"
      ]
     },
     "execution_count": 123,
     "metadata": {},
     "output_type": "execute_result"
    }
   ],
   "source": [
    "stopwords.add('s')\n",
    "stopwords.add('t')\n",
    "stopwords.add('m')\n",
    "stopwords.add('5')"
   ]
  },
  {
   "cell_type": "code",
   "execution_count": 143,
   "metadata": {},
   "outputs": [],
   "source": [
    "pos_key = [key for key in list(pos.keys()) if key not in stopwords]\n",
    "neg_key = [key for key in list(neg.keys()) if key not in stopwords]"
   ]
  },
  {
   "cell_type": "code",
   "execution_count": 144,
   "metadata": {},
   "outputs": [],
   "source": [
    "pos_freq = []\n",
    "for key in pos_key:\n",
    "    pos_freq.append((key,pos[key]))\n",
    "\n",
    "pos_freq_sorted = sorted(pos_freq,key = lambda x: x[1],reverse = True)"
   ]
  },
  {
   "cell_type": "code",
   "execution_count": 163,
   "metadata": {},
   "outputs": [],
   "source": [
    "df_pos = pd.DataFrame(pos_freq_sorted[:15], columns =['Tag', 'Freq']) "
   ]
  },
  {
   "cell_type": "code",
   "execution_count": null,
   "metadata": {},
   "outputs": [],
   "source": []
  },
  {
   "cell_type": "code",
   "execution_count": 146,
   "metadata": {},
   "outputs": [],
   "source": [
    "neg_freq = []\n",
    "for key in neg_key:\n",
    "    neg_freq.append((key,neg[key]))\n",
    "\n",
    "neg_freq_sorted = sorted(neg_freq,key = lambda x: x[1],reverse = True)"
   ]
  },
  {
   "cell_type": "code",
   "execution_count": 162,
   "metadata": {},
   "outputs": [],
   "source": [
    "neg_tags,neg_freq = zip(*neg_freq_sorted[:15])"
   ]
  },
  {
   "cell_type": "code",
   "execution_count": 164,
   "metadata": {},
   "outputs": [],
   "source": [
    "df_neg = pd.DataFrame(neg_freq_sorted[:15], columns =['Tag', 'Freq']) "
   ]
  },
  {
   "cell_type": "code",
   "execution_count": 171,
   "metadata": {},
   "outputs": [],
   "source": [
    "df_pos['Prct'] = df_pos.Freq/17448\n",
    "df_neg['Prct'] = df_neg.Freq/(22641-17448)"
   ]
  },
  {
   "cell_type": "code",
   "execution_count": 180,
   "metadata": {},
   "outputs": [
    {
     "data": {
      "image/png": "[encoded data removed]",
      "text/plain": [
       "<Figure size 432x288 with 1 Axes>"
      ]
     },
     "metadata": {
      "needs_background": "light"
     },
     "output_type": "display_data"
    }
   ],
   "source": [
    "sns.barplot(x=\"Freq\", y=\"Tag\", data=df_pos,palette=\"Greens_d\")\n",
    "plt.savefig(\"output\\most_freq_pos.png\")"
   ]
  },
  {
   "cell_type": "code",
   "execution_count": 179,
   "metadata": {},
   "outputs": [
    {
     "data": {
      "image/png": "[encoded data removed]",
      "text/plain": [
       "<Figure size 432x288 with 1 Axes>"
      ]
     },
     "metadata": {
      "needs_background": "light"
     },
     "output_type": "display_data"
    }
   ],
   "source": [
    "sns.barplot(x=\"Freq\", y=\"Tag\", data=df_neg,palette=\"Blues_d\")\n",
    "plt.savefig(\"output\\most_freq_neg.png\")"
   ]
  },
  {
   "cell_type": "code",
   "execution_count": null,
   "metadata": {},
   "outputs": [],
   "source": []
  }
 ],
 "metadata": {
  "kernelspec": {
   "display_name": "Python 3",
   "language": "python",
   "name": "python3"
  },
  "language_info": {
   "codemirror_mode": {
    "name": "ipython",
    "version": 3
   },
   "file_extension": ".py",
   "mimetype": "text/x-python",
   "name": "python",
   "nbconvert_exporter": "python",
   "pygments_lexer": "ipython3",
   "version": "3.7.3"
  }
 },
 "nbformat": 4,
 "nbformat_minor": 2
}

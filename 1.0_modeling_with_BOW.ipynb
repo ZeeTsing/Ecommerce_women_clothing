{
 "cells": [
  {
   "cell_type": "code",
   "execution_count": 1,
   "metadata": {},
   "outputs": [],
   "source": [
    "import numpy as np\n",
    "import pandas as pd\n",
    "import seaborn as sns\n",
    "import matplotlib.pyplot as plt\n",
    "from collections import Counter\n",
    "import random\n",
    "from sklearn.metrics import accuracy_score, f1_score,roc_auc_score,accuracy_score, confusion_matrix, roc_curve\n",
    "from sklearn.feature_extraction.text import CountVectorizer\n",
    "from sklearn.linear_model import LogisticRegressionCV"
   ]
  },
  {
   "cell_type": "code",
   "execution_count": 36,
   "metadata": {},
   "outputs": [],
   "source": [
    "df = pd.read_pickle('cleaned_df.pkl')\n",
    "seed = 123"
   ]
  },
  {
   "cell_type": "code",
   "execution_count": 3,
   "metadata": {},
   "outputs": [
    {
     "data": {
      "text/html": [
       "<div>\n",
       "<style scoped>\n",
       "    .dataframe tbody tr th:only-of-type {\n",
       "        vertical-align: middle;\n",
       "    }\n",
       "\n",
       "    .dataframe tbody tr th {\n",
       "        vertical-align: top;\n",
       "    }\n",
       "\n",
       "    .dataframe thead th {\n",
       "        text-align: right;\n",
       "    }\n",
       "</style>\n",
       "<table border=\"1\" class=\"dataframe\">\n",
       "  <thead>\n",
       "    <tr style=\"text-align: right;\">\n",
       "      <th></th>\n",
       "      <th>clothing_ID</th>\n",
       "      <th>Age</th>\n",
       "      <th>Title</th>\n",
       "      <th>Text</th>\n",
       "      <th>RAW_Text</th>\n",
       "      <th>review_len</th>\n",
       "      <th>Positive_fb_count</th>\n",
       "      <th>Division</th>\n",
       "      <th>Department</th>\n",
       "      <th>Class</th>\n",
       "      <th>Positively_rated</th>\n",
       "      <th>Reco</th>\n",
       "    </tr>\n",
       "    <tr>\n",
       "      <th>original_ind</th>\n",
       "      <th></th>\n",
       "      <th></th>\n",
       "      <th></th>\n",
       "      <th></th>\n",
       "      <th></th>\n",
       "      <th></th>\n",
       "      <th></th>\n",
       "      <th></th>\n",
       "      <th></th>\n",
       "      <th></th>\n",
       "      <th></th>\n",
       "      <th></th>\n",
       "    </tr>\n",
       "  </thead>\n",
       "  <tbody>\n",
       "    <tr>\n",
       "      <th>0</th>\n",
       "      <td>767</td>\n",
       "      <td>33</td>\n",
       "      <td>NaN</td>\n",
       "      <td>absolutelywonderfulsilkyandsexyandcomfortable</td>\n",
       "      <td>Absolutely wonderful - silky and sexy and comf...</td>\n",
       "      <td>53</td>\n",
       "      <td>0</td>\n",
       "      <td>Initmates</td>\n",
       "      <td>Intimate</td>\n",
       "      <td>Intimates</td>\n",
       "      <td>1</td>\n",
       "      <td>1</td>\n",
       "    </tr>\n",
       "    <tr>\n",
       "      <th>1</th>\n",
       "      <td>1080</td>\n",
       "      <td>34</td>\n",
       "      <td>NaN</td>\n",
       "      <td>lovethisdressitssoooprettyihappenedtofinditina...</td>\n",
       "      <td>Love this dress!  it's sooo pretty.  i happene...</td>\n",
       "      <td>303</td>\n",
       "      <td>4</td>\n",
       "      <td>General</td>\n",
       "      <td>Dresses</td>\n",
       "      <td>Dresses</td>\n",
       "      <td>1</td>\n",
       "      <td>1</td>\n",
       "    </tr>\n",
       "    <tr>\n",
       "      <th>2</th>\n",
       "      <td>1077</td>\n",
       "      <td>60</td>\n",
       "      <td>some major design flaws</td>\n",
       "      <td>ihadsuchhighhopesforthisdressandreallywantedit...</td>\n",
       "      <td>I had such high hopes for this dress and reall...</td>\n",
       "      <td>500</td>\n",
       "      <td>0</td>\n",
       "      <td>General</td>\n",
       "      <td>Dresses</td>\n",
       "      <td>Dresses</td>\n",
       "      <td>0</td>\n",
       "      <td>0</td>\n",
       "    </tr>\n",
       "    <tr>\n",
       "      <th>3</th>\n",
       "      <td>1049</td>\n",
       "      <td>50</td>\n",
       "      <td>my favorite buy</td>\n",
       "      <td>ilovelovelovethisjumpsuititsfunflirtyandfabulo...</td>\n",
       "      <td>I love, love, love this jumpsuit. it's fun, fl...</td>\n",
       "      <td>124</td>\n",
       "      <td>0</td>\n",
       "      <td>General Petite</td>\n",
       "      <td>Bottoms</td>\n",
       "      <td>Pants</td>\n",
       "      <td>1</td>\n",
       "      <td>1</td>\n",
       "    </tr>\n",
       "    <tr>\n",
       "      <th>4</th>\n",
       "      <td>847</td>\n",
       "      <td>47</td>\n",
       "      <td>flattering shirt</td>\n",
       "      <td>thisshirtisveryflatteringtoallduetotheadjustab...</td>\n",
       "      <td>This shirt is very flattering to all due to th...</td>\n",
       "      <td>192</td>\n",
       "      <td>6</td>\n",
       "      <td>General</td>\n",
       "      <td>Tops</td>\n",
       "      <td>Blouses</td>\n",
       "      <td>1</td>\n",
       "      <td>1</td>\n",
       "    </tr>\n",
       "  </tbody>\n",
       "</table>\n",
       "</div>"
      ],
      "text/plain": [
       "              clothing_ID  Age                    Title  \\\n",
       "original_ind                                              \n",
       "0                     767   33                      NaN   \n",
       "1                    1080   34                      NaN   \n",
       "2                    1077   60  some major design flaws   \n",
       "3                    1049   50         my favorite buy    \n",
       "4                     847   47         flattering shirt   \n",
       "\n",
       "                                                           Text  \\\n",
       "original_ind                                                      \n",
       "0                 absolutelywonderfulsilkyandsexyandcomfortable   \n",
       "1             lovethisdressitssoooprettyihappenedtofinditina...   \n",
       "2             ihadsuchhighhopesforthisdressandreallywantedit...   \n",
       "3             ilovelovelovethisjumpsuititsfunflirtyandfabulo...   \n",
       "4             thisshirtisveryflatteringtoallduetotheadjustab...   \n",
       "\n",
       "                                                       RAW_Text  review_len  \\\n",
       "original_ind                                                                  \n",
       "0             Absolutely wonderful - silky and sexy and comf...          53   \n",
       "1             Love this dress!  it's sooo pretty.  i happene...         303   \n",
       "2             I had such high hopes for this dress and reall...         500   \n",
       "3             I love, love, love this jumpsuit. it's fun, fl...         124   \n",
       "4             This shirt is very flattering to all due to th...         192   \n",
       "\n",
       "              Positive_fb_count        Division Department      Class  \\\n",
       "original_ind                                                            \n",
       "0                             0       Initmates   Intimate  Intimates   \n",
       "1                             4         General    Dresses    Dresses   \n",
       "2                             0         General    Dresses    Dresses   \n",
       "3                             0  General Petite    Bottoms      Pants   \n",
       "4                             6         General       Tops    Blouses   \n",
       "\n",
       "              Positively_rated  Reco  \n",
       "original_ind                          \n",
       "0                            1     1  \n",
       "1                            1     1  \n",
       "2                            0     0  \n",
       "3                            1     1  \n",
       "4                            1     1  "
      ]
     },
     "execution_count": 3,
     "metadata": {},
     "output_type": "execute_result"
    }
   ],
   "source": [
    "df.head()"
   ]
  },
  {
   "cell_type": "code",
   "execution_count": 4,
   "metadata": {},
   "outputs": [],
   "source": [
    "#define our own train test split, as I wish to keep the train/test as seperate data frames for easy reference\n",
    "def train_test_split_df (df,test_size = 0.2):\n",
    "    idx = list(df.index)\n",
    "    random.Random(seed).shuffle(idx)\n",
    "    test_len = int(test_size * len(df))\n",
    "    return df.loc[idx[test_len:]],df.loc[idx[:test_len]]"
   ]
  },
  {
   "cell_type": "code",
   "execution_count": 5,
   "metadata": {},
   "outputs": [],
   "source": [
    "data_train,data_test = train_test_split_df(df)"
   ]
  },
  {
   "cell_type": "code",
   "execution_count": 37,
   "metadata": {},
   "outputs": [],
   "source": [
    "data_train.to_pickle('train_set.pkl')\n",
    "data_test.to_pickle('test_set.pkl')"
   ]
  },
  {
   "cell_type": "code",
   "execution_count": 37,
   "metadata": {},
   "outputs": [],
   "source": [
    "data_train = pd.read_pickle('train_set.pkl')\n",
    "data_test = pd.read_pickle('test_set.pkl')"
   ]
  },
  {
   "cell_type": "code",
   "execution_count": 41,
   "metadata": {},
   "outputs": [],
   "source": [
    "columns_to_keep = ['clothing_ID','Age','review_len','Positive_fb_count','Division','Department','Class']\n",
    "categorical_features = ['Division','Department','Class']\n",
    "data_train_features_only_wo_text = data_train[columns_to_keep]"
   ]
  },
  {
   "cell_type": "code",
   "execution_count": 42,
   "metadata": {},
   "outputs": [],
   "source": [
    "data_train_features_only_dummied = pd.get_dummies(data_train_features_only_wo_text,categorical_features)"
   ]
  },
  {
   "cell_type": "code",
   "execution_count": 43,
   "metadata": {},
   "outputs": [],
   "source": [
    "data_test_features_only_wo_text = data_train[columns_to_keep]\n",
    "data_test_features_only_dummied = pd.get_dummies(data_test_features_only_wo_text,categorical_features)"
   ]
  },
  {
   "cell_type": "markdown",
   "metadata": {},
   "source": [
    "We will start with our first bag of words model without any lemmatization and stopwords removal"
   ]
  },
  {
   "cell_type": "code",
   "execution_count": 38,
   "metadata": {},
   "outputs": [],
   "source": [
    "from sklearn.model_selection import train_test_split\n",
    "\n",
    "# Split data into training and validation set\n",
    "X_train, X_val, y_train, y_val = train_test_split(data_train.Text, \n",
    "                                                    data_train.Positively_rated, test_size=0.25,\n",
    "                                                    random_state=0)"
   ]
  },
  {
   "cell_type": "code",
   "execution_count": 39,
   "metadata": {},
   "outputs": [],
   "source": [
    "from sklearn.feature_extraction.text import CountVectorizer\n",
    "\n",
    "# Fit the CountVectorizer to the training data (Bag of Words model)\n",
    "vect = CountVectorizer().fit(X_train)"
   ]
  },
  {
   "cell_type": "code",
   "execution_count": 12,
   "metadata": {},
   "outputs": [
    {
     "data": {
      "text/plain": [
       "['00',\n",
       " 'ate',\n",
       " 'charlie',\n",
       " 'designed',\n",
       " 'filigree',\n",
       " 'host',\n",
       " 'loungers',\n",
       " 'ot',\n",
       " 'raves',\n",
       " 'shrunk',\n",
       " 'tangerine',\n",
       " 'war']"
      ]
     },
     "execution_count": 12,
     "metadata": {},
     "output_type": "execute_result"
    }
   ],
   "source": [
    "vect.get_feature_names()[::1000]"
   ]
  },
  {
   "cell_type": "code",
   "execution_count": 13,
   "metadata": {},
   "outputs": [
    {
     "data": {
      "text/plain": [
       "11458"
      ]
     },
     "execution_count": 13,
     "metadata": {},
     "output_type": "execute_result"
    }
   ],
   "source": [
    "len(vect.get_feature_names())"
   ]
  },
  {
   "cell_type": "code",
   "execution_count": 44,
   "metadata": {},
   "outputs": [],
   "source": [
    "# transform the documents in the training data to a document-term matrix\n",
    "X_train_vectorized = vect.transform(X_train).toarray()\n",
    "X_train_add = data_train_features_only_dummied.loc[list(X_train.index)].to_numpy()\n",
    "X_train_vect_stack = np.hstack((X_train_vectorized,X_train_add))"
   ]
  },
  {
   "cell_type": "code",
   "execution_count": 45,
   "metadata": {},
   "outputs": [],
   "source": [
    "def model_fit_train_score (model,x_train,y_train,x_val,y_val):\n",
    "    '''This function takes in five arguments:model (model object), X_train, y_train, X_test_val,y_val\n",
    "    The data will be fitted using the model passed in by the user\n",
    "    It returns the fitted model object and Accuracy score as well as F1 score and AUC (area under curve)'''\n",
    "    model.fit(x_train,y_train)\n",
    "    y_pred = model.predict(x_val)\n",
    "    predictions = model.predict_proba(x_val)\n",
    "    \n",
    "    keys = ['predictions','predict_proba','Accuracy','F1','AUC']\n",
    "    \n",
    "    results_dict = dict.fromkeys(keys)\n",
    "    results_dict['predictions'] = y_pred\n",
    "    results_dict['predict_proba'] = predictions[:,1]\n",
    "    results_dict['Accuracy'] = accuracy_score(y_true=y_val, y_pred=y_pred)\n",
    "    results_dict['F1'] = f1_score(y_true=y_val, y_pred=y_pred)\n",
    "    results_dict['AUC'] = roc_auc_score(y_val, predictions[:,1])\n",
    "    \n",
    "    return model,results_dict"
   ]
  },
  {
   "cell_type": "code",
   "execution_count": 46,
   "metadata": {},
   "outputs": [],
   "source": [
    "#X_val need to be treated the same as X_train\n",
    "X_val_vectorized = vect.transform(X_val).toarray()\n",
    "X_val_add = data_train_features_only_dummied.loc[list(X_val.index)].to_numpy()\n",
    "X_val_vect_stack = np.hstack((X_val_vectorized,X_val_add))"
   ]
  },
  {
   "cell_type": "code",
   "execution_count": 47,
   "metadata": {},
   "outputs": [
    {
     "name": "stderr",
     "output_type": "stream",
     "text": [
      "C:\\Users\\Zhiqing\\Anaconda3\\lib\\site-packages\\sklearn\\linear_model\\_logistic.py:940: ConvergenceWarning: lbfgs failed to converge (status=1):\n",
      "STOP: TOTAL NO. of ITERATIONS REACHED LIMIT.\n",
      "\n",
      "Increase the number of iterations (max_iter) or scale the data as shown in:\n",
      "    https://scikit-learn.org/stable/modules/preprocessing.html\n",
      "Please also refer to the documentation for alternative solver options:\n",
      "    https://scikit-learn.org/stable/modules/linear_model.html#logistic-regression\n",
      "  extra_warning_msg=_LOGISTIC_SOLVER_CONVERGENCE_MSG)\n"
     ]
    }
   ],
   "source": [
    "from sklearn.linear_model import LogisticRegression\n",
    "\n",
    "# Train the model\n",
    "model = LogisticRegression()\n",
    "\n",
    "fitted_model,results = model_fit_train_score(model,X_train_vect_stack, y_train,X_val_vect_stack,y_val)"
   ]
  },
  {
   "cell_type": "code",
   "execution_count": 48,
   "metadata": {},
   "outputs": [
    {
     "name": "stdout",
     "output_type": "stream",
     "text": [
      "Accuracy: 0.830 \n",
      "F1 score: 0.895 \n",
      "AUC score: 0.860\n"
     ]
    }
   ],
   "source": [
    "print(f\"Accuracy: {results['Accuracy']:.3f} \\nF1 score: {results['F1']:.3f} \\nAUC score: {results['AUC']:.3f}\")"
   ]
  },
  {
   "cell_type": "code",
   "execution_count": 34,
   "metadata": {},
   "outputs": [],
   "source": [
    "def print_confusion_matrix(confusion_matrix, class_names, cmap = 'Greens',figsize = (10,7), fontsize=10):\n",
    "    \"\"\"Prints a confusion matrix, as returned by sklearn.metrics.confusion_matrix, as a heatmap.\n",
    "    \n",
    "    Arguments\n",
    "    ---------\n",
    "    confusion_matrix: numpy.ndarray\n",
    "        The numpy.ndarray object returned from a call to sklearn.metrics.confusion_matrix. \n",
    "        Similarly constructed ndarrays can also be used.\n",
    "    class_names: list\n",
    "        An ordered list of class names, in the order they index the given confusion matrix.\n",
    "    figsize: tuple\n",
    "        A 2-long tuple, the first value determining the horizontal size of the ouputted figure,\n",
    "        the second determining the vertical size. Defaults to (10,7).\n",
    "    fontsize: int\n",
    "        Font size for axes labels. Defaults to 14.\n",
    "        \n",
    "    Returns\n",
    "    -------\n",
    "    matplotlib.figure.Figure\n",
    "        The resulting confusion matrix figure\n",
    "    \"\"\"\n",
    "    df_cm = pd.DataFrame(confusion_matrix, index=class_names, columns=class_names, )\n",
    "    fig = plt.figure(figsize=figsize)\n",
    "    try:\n",
    "        heatmap = sns.heatmap(df_cm, annot=True, fmt=\"d\",cmap = cmap)\n",
    "    except ValueError:\n",
    "        raise ValueError(\"Confusion matrix values must be integers.\")\n",
    "    heatmap.yaxis.set_ticklabels(heatmap.yaxis.get_ticklabels(), rotation=0, ha='right', fontsize=fontsize)\n",
    "    heatmap.xaxis.set_ticklabels(heatmap.xaxis.get_ticklabels(), rotation=45, ha='right', fontsize=fontsize)\n",
    "    plt.ylabel('True label')\n",
    "    plt.xlabel('Predicted label')\n",
    "    return fig"
   ]
  },
  {
   "cell_type": "code",
   "execution_count": 57,
   "metadata": {},
   "outputs": [
    {
     "data": {
      "image/png": "[encoded data removed]",
      "text/plain": [
       "<Figure size 720x504 with 2 Axes>"
      ]
     },
     "metadata": {
      "needs_background": "light"
     },
     "output_type": "display_data"
    }
   ],
   "source": [
    "conf_mat = confusion_matrix(y_true=y_val, y_pred=results['predictions'])\n",
    "cm = print_confusion_matrix(conf_mat, ['Negative', 'Positive'],cmap = 'viridis_r')\n",
    "plt.savefig('output\\with_all_fea.png')"
   ]
  },
  {
   "cell_type": "markdown",
   "metadata": {},
   "source": [
    "For this project we will maximize accuracy because we want to identify negative and positive comments respectively\n"
   ]
  },
  {
   "cell_type": "code",
   "execution_count": 28,
   "metadata": {},
   "outputs": [],
   "source": [
    "def plot_ROC(y_true,y_proba,AUC,figsize = (7,5),color = 'darkturquoise',title='ROC Curve'):\n",
    "    '''Helper function to plot ROC graph'''\n",
    "    fpr, tpr, thresholds = roc_curve(y_true, y_proba)\n",
    "    #set size\n",
    "    plt.figure(figsize=figsize)\n",
    "    #plot\n",
    "    plt.plot(fpr, tpr,lw=2,c=color,label = f\"AUC: {AUC:.2f}\")\n",
    "    #adjustments\n",
    "    plt.plot([0,1],[0,1],c='grey',ls='--')\n",
    "    plt.legend()\n",
    "    plt.xlim([-0.05,1.05])\n",
    "    plt.ylim([-0.05,1.05])\n",
    "    plt.xlabel('False positive rate')\n",
    "    plt.ylabel('True positive rate')\n",
    "    plt.title(title);"
   ]
  },
  {
   "cell_type": "code",
   "execution_count": 22,
   "metadata": {},
   "outputs": [
    {
     "data": {
      "image/png": "[encoded data removed]",
      "text/plain": [
       "<Figure size 504x360 with 1 Axes>"
      ]
     },
     "metadata": {
      "needs_background": "light"
     },
     "output_type": "display_data"
    }
   ],
   "source": [
    "plot_ROC(y_val,results['predict_proba'],results['AUC'])\n",
    "plt.savefig(\"ROC_curve_1st_model_w_all_features.png\")"
   ]
  },
  {
   "cell_type": "markdown",
   "metadata": {},
   "source": [
    "Now let's try to fit the model using just the text component and throw away all the other features"
   ]
  },
  {
   "cell_type": "code",
   "execution_count": 58,
   "metadata": {},
   "outputs": [],
   "source": [
    "model = LogisticRegression()"
   ]
  },
  {
   "cell_type": "code",
   "execution_count": 59,
   "metadata": {},
   "outputs": [
    {
     "name": "stderr",
     "output_type": "stream",
     "text": [
      "C:\\Users\\Zhiqing\\Anaconda3\\lib\\site-packages\\sklearn\\linear_model\\_logistic.py:940: ConvergenceWarning: lbfgs failed to converge (status=1):\n",
      "STOP: TOTAL NO. of ITERATIONS REACHED LIMIT.\n",
      "\n",
      "Increase the number of iterations (max_iter) or scale the data as shown in:\n",
      "    https://scikit-learn.org/stable/modules/preprocessing.html\n",
      "Please also refer to the documentation for alternative solver options:\n",
      "    https://scikit-learn.org/stable/modules/linear_model.html#logistic-regression\n",
      "  extra_warning_msg=_LOGISTIC_SOLVER_CONVERGENCE_MSG)\n"
     ]
    }
   ],
   "source": [
    "fitted_model,results = model_fit_train_score(model,X_train_vectorized, y_train,X_val_vectorized,y_val)"
   ]
  },
  {
   "cell_type": "code",
   "execution_count": 60,
   "metadata": {},
   "outputs": [
    {
     "name": "stdout",
     "output_type": "stream",
     "text": [
      "Accuracy: 0.869 \n",
      "F1 score: 0.916 \n",
      "AUC score: 0.912\n"
     ]
    }
   ],
   "source": [
    "print(f\"Accuracy: {results['Accuracy']:.3f} \\nF1 score: {results['F1']:.3f} \\nAUC score: {results['AUC']:.3f}\")"
   ]
  },
  {
   "cell_type": "code",
   "execution_count": 63,
   "metadata": {},
   "outputs": [
    {
     "data": {
      "image/png": "[encoded data removed]",
      "text/plain": [
       "<Figure size 720x504 with 2 Axes>"
      ]
     },
     "metadata": {
      "needs_background": "light"
     },
     "output_type": "display_data"
    }
   ],
   "source": [
    "conf_mat = confusion_matrix(y_true=y_val, y_pred=results['predictions'])\n",
    "cm = print_confusion_matrix(conf_mat, ['Negative', 'Positive'],cmap = 'viridis_r')\n",
    "plt.savefig('output/text_only_conf.png')"
   ]
  },
  {
   "cell_type": "code",
   "execution_count": 27,
   "metadata": {},
   "outputs": [
    {
     "data": {
      "image/png": "[encoded data removed]",
      "text/plain": [
       "<Figure size 504x360 with 1 Axes>"
      ]
     },
     "metadata": {
      "needs_background": "light"
     },
     "output_type": "display_data"
    }
   ],
   "source": [
    "plot_ROC(y_val,results['predict_proba'],results['AUC'])"
   ]
  },
  {
   "cell_type": "code",
   "execution_count": 32,
   "metadata": {},
   "outputs": [
    {
     "data": {
      "text/plain": [
       "list"
      ]
     },
     "execution_count": 32,
     "metadata": {},
     "output_type": "execute_result"
    }
   ],
   "source": [
    "type(vect.get_feature_names())"
   ]
  },
  {
   "cell_type": "code",
   "execution_count": 33,
   "metadata": {},
   "outputs": [
    {
     "name": "stdout",
     "output_type": "stream",
     "text": [
      "Smallest Coefs:\n",
      "['poor' 'within' 'awful' 'unflattering' 'drab' 'start' 'cheap' 'bad'\n",
      " 'disappointed' 'completely']\n",
      "\n",
      "Largest Coefs: \n",
      "['highly' 'compliments' 'pleased' 'sexy' 'breast' 'hesitant' 'helps'\n",
      " 'gigantic' 'paired' 'stylish']\n"
     ]
    }
   ],
   "source": [
    "#try to see the \n",
    "feature_names = np.array(vect.get_feature_names())\n",
    "\n",
    "# Sort the coefficients from the model\n",
    "sorted_coef_index = model.coef_[0].argsort()\n",
    "\n",
    "# Find the 10 smallest and 10 largest coefficients\n",
    "# The 10 largest coefficients are being indexed using [:-11:-1] \n",
    "# so the list returned is in order of largest to smallest\n",
    "print('Smallest Coefs:\\n{}\\n'.format(feature_names[sorted_coef_index[:10]]))\n",
    "print('Largest Coefs: \\n{}'.format(feature_names[sorted_coef_index[:-11:-1]]))"
   ]
  },
  {
   "cell_type": "code",
   "execution_count": null,
   "metadata": {},
   "outputs": [],
   "source": []
  },
  {
   "cell_type": "markdown",
   "metadata": {},
   "source": [
    "It is quite a surprising finding, it shows that when we only fit the logistic regression model with the review textx only, the model performance improves by reading AUC score..\n",
    "\n",
    "Let's see if we need to keep the other features other than review by looking at the feature importance/ ranking from logistic model and random forest"
   ]
  },
  {
   "cell_type": "code",
   "execution_count": 81,
   "metadata": {},
   "outputs": [],
   "source": [
    "model = LogisticRegression()\n",
    "fitted_model,results = model_fit_train_score(model,X_train_add, y_train,X_val_add,y_val)"
   ]
  },
  {
   "cell_type": "code",
   "execution_count": 82,
   "metadata": {},
   "outputs": [
    {
     "name": "stdout",
     "output_type": "stream",
     "text": [
      "Accuracy: 0.767 \n",
      "F1 score: 0.868 \n",
      "AUC score: 0.561\n"
     ]
    }
   ],
   "source": [
    "print(f\"Accuracy: {results['Accuracy']:.3f} \\nF1 score: {results['F1']:.3f} \\nAUC score: {results['AUC']:.3f}\")"
   ]
  },
  {
   "cell_type": "code",
   "execution_count": 83,
   "metadata": {},
   "outputs": [
    {
     "data": {
      "image/png": "[encoded data removed]",
      "text/plain": [
       "<Figure size 720x504 with 2 Axes>"
      ]
     },
     "metadata": {
      "needs_background": "light"
     },
     "output_type": "display_data"
    }
   ],
   "source": [
    "conf_mat = confusion_matrix(y_true=y_val, y_pred=results['predictions'])\n",
    "cm = print_confusion_matrix(conf_mat, ['Negative', 'Positive'])"
   ]
  },
  {
   "cell_type": "code",
   "execution_count": 84,
   "metadata": {},
   "outputs": [
    {
     "data": {
      "image/png": "[encoded data removed]",
      "text/plain": [
       "<Figure size 504x360 with 1 Axes>"
      ]
     },
     "metadata": {
      "needs_background": "light"
     },
     "output_type": "display_data"
    }
   ],
   "source": [
    "plot_ROC(y_val,results['predict_proba'],results['AUC'])"
   ]
  },
  {
   "cell_type": "markdown",
   "metadata": {},
   "source": [
    "This model performs slightly better than a random guess.. Let's see what is the most importance feature"
   ]
  },
  {
   "cell_type": "code",
   "execution_count": 85,
   "metadata": {},
   "outputs": [
    {
     "data": {
      "text/plain": [
       "array([[ 0.00080608,  0.00991823, -0.00059365, -0.01683983,  0.29137688,\n",
       "        -0.00956062,  0.03067579,  0.31652341, -0.10889516,  0.12248189,\n",
       "        -0.06278421,  0.07074864, -0.03819385,  0.01261134,  0.02916623,\n",
       "        -0.10889516, -0.01853184, -0.04028818,  0.003896  ,  0.01227683,\n",
       "         0.10796285, -0.0631013 , -0.02103325,  0.03670926,  0.0663256 ,\n",
       "         0.0584718 ,  0.03974682, -0.03819385,  0.10112685,  0.04255263,\n",
       "         0.05909376,  0.04193453,  0.00182638,  0.00144609]])"
      ]
     },
     "execution_count": 85,
     "metadata": {},
     "output_type": "execute_result"
    }
   ],
   "source": [
    "fitted_model.coef_"
   ]
  },
  {
   "cell_type": "code",
   "execution_count": 87,
   "metadata": {},
   "outputs": [
    {
     "name": "stdout",
     "output_type": "stream",
     "text": [
      "Smallest Coefs:\n",
      "['Department_Dresses' 'Class_Dresses' 'Class_Sweaters' 'Department_Tops'\n",
      " 'Class_Blouses' 'Class_Trend' 'Department_Trend' 'Class_Skirts'\n",
      " 'Class_Pants' 'Positive_fb_count']\n",
      "\n",
      "Largest Coefs: \n",
      "['Department_Intimate' 'Division_Initmates' 'Department_Bottoms'\n",
      " 'Class_Lounge' 'Class_Jeans' 'Department_Jackets' 'Class_Sleep'\n",
      " 'Class_Shorts' 'Class_Jackets' 'Class_Legwear']\n"
     ]
    }
   ],
   "source": [
    "feature_names = np.array(data_train_features_only_dummied.columns)\n",
    "\n",
    "# Sort the coefficients from the model\n",
    "sorted_coef_index = model.coef_[0].argsort()\n",
    "\n",
    "# Find the 10 smallest and 10 largest coefficients\n",
    "# The 10 largest coefficients are being indexed using [:-11:-1] \n",
    "# so the list returned is in order of largest to smallest\n",
    "print('Smallest Coefs:\\n{}\\n'.format(feature_names[sorted_coef_index[:10]]))\n",
    "print('Largest Coefs: \\n{}'.format(feature_names[sorted_coef_index[:-11:-1]]))"
   ]
  },
  {
   "cell_type": "code",
   "execution_count": 88,
   "metadata": {},
   "outputs": [
    {
     "data": {
      "text/plain": [
       "34"
      ]
     },
     "execution_count": 88,
     "metadata": {},
     "output_type": "execute_result"
    }
   ],
   "source": [
    "len(feature_names)"
   ]
  },
  {
   "cell_type": "code",
   "execution_count": 90,
   "metadata": {},
   "outputs": [],
   "source": [
    "from sklearn.ensemble import RandomForestClassifier\n",
    "model = RandomForestClassifier()"
   ]
  },
  {
   "cell_type": "code",
   "execution_count": 91,
   "metadata": {},
   "outputs": [],
   "source": [
    "fitted_model,results = model_fit_train_score(model,X_train_add, y_train,X_val_add,y_val)"
   ]
  },
  {
   "cell_type": "code",
   "execution_count": 92,
   "metadata": {},
   "outputs": [
    {
     "name": "stdout",
     "output_type": "stream",
     "text": [
      "Accuracy: 0.741 \n",
      "F1 score: 0.847 \n",
      "AUC score: 0.566\n"
     ]
    }
   ],
   "source": [
    "print(f\"Accuracy: {results['Accuracy']:.3f} \\nF1 score: {results['F1']:.3f} \\nAUC score: {results['AUC']:.3f}\")"
   ]
  },
  {
   "cell_type": "code",
   "execution_count": 94,
   "metadata": {},
   "outputs": [],
   "source": [
    "sorted_impt_index = fitted_model.feature_importances_.argsort()"
   ]
  },
  {
   "cell_type": "code",
   "execution_count": 99,
   "metadata": {},
   "outputs": [
    {
     "name": "stdout",
     "output_type": "stream",
     "text": [
      "Most important features: \n",
      "['review_len' 'Age' 'clothing_ID' 'Positive_fb_count' 'Division_General'\n",
      " 'Division_General Petite' 'Class_Knits' 'Class_Blouses' 'Class_Sweaters']\n"
     ]
    }
   ],
   "source": [
    "print('Most important features: \\n{}'.format(feature_names[sorted_impt_index[:-10:-1]]))"
   ]
  },
  {
   "cell_type": "markdown",
   "metadata": {},
   "source": [
    "Let's try to add the features one by one to the review text\n",
    "\n",
    "Starting with the most importance found in random forest model"
   ]
  },
  {
   "cell_type": "code",
   "execution_count": 115,
   "metadata": {},
   "outputs": [],
   "source": [
    "# transform the documents in the training data to a document-term matrix\n",
    "X_train_to_add = data_train_features_only_dummied.loc[list(X_train.index),'review_len'].to_numpy().reshape((13584,1))\n",
    "X_train_vect_stack_1 = np.hstack((X_train_vectorized,X_train_to_add))"
   ]
  },
  {
   "cell_type": "code",
   "execution_count": 113,
   "metadata": {},
   "outputs": [],
   "source": [
    "X_val_to_add = data_train_features_only_dummied.loc[list(X_val.index),\"review_len\"].to_numpy().reshape((4529,1))\n",
    "X_val_vect_stack_1 = np.hstack((X_val_vectorized,X_val_to_add))"
   ]
  },
  {
   "cell_type": "code",
   "execution_count": 117,
   "metadata": {},
   "outputs": [
    {
     "name": "stderr",
     "output_type": "stream",
     "text": [
      "C:\\Users\\Zhiqing\\Anaconda3\\lib\\site-packages\\sklearn\\linear_model\\_logistic.py:940: ConvergenceWarning: lbfgs failed to converge (status=1):\n",
      "STOP: TOTAL NO. of ITERATIONS REACHED LIMIT.\n",
      "\n",
      "Increase the number of iterations (max_iter) or scale the data as shown in:\n",
      "    https://scikit-learn.org/stable/modules/preprocessing.html\n",
      "Please also refer to the documentation for alternative solver options:\n",
      "    https://scikit-learn.org/stable/modules/linear_model.html#logistic-regression\n",
      "  extra_warning_msg=_LOGISTIC_SOLVER_CONVERGENCE_MSG)\n"
     ]
    }
   ],
   "source": [
    "model = LogisticRegression()\n",
    "fitted_model,results = model_fit_train_score(model,X_train_vect_stack_1, y_train,X_val_vect_stack_1,y_val)"
   ]
  },
  {
   "cell_type": "code",
   "execution_count": 118,
   "metadata": {},
   "outputs": [
    {
     "name": "stdout",
     "output_type": "stream",
     "text": [
      "Accuracy: 0.854 \n",
      "F1 score: 0.909 \n",
      "AUC score: 0.897\n"
     ]
    }
   ],
   "source": [
    "print(f\"Accuracy: {results['Accuracy']:.3f} \\nF1 score: {results['F1']:.3f} \\nAUC score: {results['AUC']:.3f}\")"
   ]
  },
  {
   "cell_type": "markdown",
   "metadata": {},
   "source": [
    "The model still performs worse than the text alone;\n",
    "\n",
    "We will focus on using only the text for sentiment reviews\n",
    "\n",
    "What about recommendation?"
   ]
  },
  {
   "cell_type": "code",
   "execution_count": 125,
   "metadata": {},
   "outputs": [],
   "source": [
    "y2_train = data_train.loc[list(y_train.index),\"Reco\"]\n",
    "y2_val = data_train.loc[list(y_val.index),\"Reco\"]"
   ]
  },
  {
   "cell_type": "code",
   "execution_count": 126,
   "metadata": {},
   "outputs": [
    {
     "name": "stderr",
     "output_type": "stream",
     "text": [
      "C:\\Users\\Zhiqing\\Anaconda3\\lib\\site-packages\\sklearn\\linear_model\\_logistic.py:940: ConvergenceWarning: lbfgs failed to converge (status=1):\n",
      "STOP: TOTAL NO. of ITERATIONS REACHED LIMIT.\n",
      "\n",
      "Increase the number of iterations (max_iter) or scale the data as shown in:\n",
      "    https://scikit-learn.org/stable/modules/preprocessing.html\n",
      "Please also refer to the documentation for alternative solver options:\n",
      "    https://scikit-learn.org/stable/modules/linear_model.html#logistic-regression\n",
      "  extra_warning_msg=_LOGISTIC_SOLVER_CONVERGENCE_MSG)\n"
     ]
    }
   ],
   "source": [
    "model = LogisticRegression()\n",
    "fitted_model,results = model_fit_train_score(model,X_train_vectorized, y2_train,X_val_vectorized,y2_val)"
   ]
  },
  {
   "cell_type": "code",
   "execution_count": 127,
   "metadata": {},
   "outputs": [
    {
     "name": "stdout",
     "output_type": "stream",
     "text": [
      "Accuracy: 0.887 \n",
      "F1 score: 0.932 \n",
      "AUC score: 0.915\n"
     ]
    }
   ],
   "source": [
    "print(f\"Accuracy: {results['Accuracy']:.3f} \\nF1 score: {results['F1']:.3f} \\nAUC score: {results['AUC']:.3f}\")"
   ]
  },
  {
   "cell_type": "code",
   "execution_count": 128,
   "metadata": {},
   "outputs": [
    {
     "data": {
      "image/png": "[encoded data removed]",
      "text/plain": [
       "<Figure size 720x504 with 2 Axes>"
      ]
     },
     "metadata": {
      "needs_background": "light"
     },
     "output_type": "display_data"
    }
   ],
   "source": [
    "conf_mat = confusion_matrix(y_true=y_val, y_pred=results['predictions'])\n",
    "cm = print_confusion_matrix(conf_mat, ['Negative', 'Positive'])"
   ]
  },
  {
   "cell_type": "markdown",
   "metadata": {},
   "source": [
    "Recommendation is quite similar to the rating, let's focus our effort on maximizing performance for rating for now.. and we will check the reco once we have time"
   ]
  },
  {
   "cell_type": "code",
   "execution_count": 37,
   "metadata": {},
   "outputs": [],
   "source": [
    "model = LogisticRegressionCV(Cs = [0.1,0.5,1,5,10],cv = 5,penalty =  'l2',max_iter = 500,random_state = seed,\n",
    "         multi_class = 'ovr')"
   ]
  },
  {
   "cell_type": "code",
   "execution_count": 38,
   "metadata": {
    "scrolled": true
   },
   "outputs": [
    {
     "name": "stderr",
     "output_type": "stream",
     "text": [
      "/Users/zhengzhiqing/opt/anaconda3/envs/metisnow/lib/python3.7/site-packages/sklearn/linear_model/_logistic.py:940: ConvergenceWarning: lbfgs failed to converge (status=1):\n",
      "STOP: TOTAL NO. of ITERATIONS REACHED LIMIT.\n",
      "\n",
      "Increase the number of iterations (max_iter) or scale the data as shown in:\n",
      "    https://scikit-learn.org/stable/modules/preprocessing.html\n",
      "Please also refer to the documentation for alternative solver options:\n",
      "    https://scikit-learn.org/stable/modules/linear_model.html#logistic-regression\n",
      "  extra_warning_msg=_LOGISTIC_SOLVER_CONVERGENCE_MSG)\n",
      "/Users/zhengzhiqing/opt/anaconda3/envs/metisnow/lib/python3.7/site-packages/sklearn/linear_model/_logistic.py:940: ConvergenceWarning: lbfgs failed to converge (status=1):\n",
      "STOP: TOTAL NO. of ITERATIONS REACHED LIMIT.\n",
      "\n",
      "Increase the number of iterations (max_iter) or scale the data as shown in:\n",
      "    https://scikit-learn.org/stable/modules/preprocessing.html\n",
      "Please also refer to the documentation for alternative solver options:\n",
      "    https://scikit-learn.org/stable/modules/linear_model.html#logistic-regression\n",
      "  extra_warning_msg=_LOGISTIC_SOLVER_CONVERGENCE_MSG)\n"
     ]
    }
   ],
   "source": [
    "fitted_model,results = model_fit_train_score(model,X_train_vectorized, y_train,X_val_vectorized,y_val)"
   ]
  },
  {
   "cell_type": "code",
   "execution_count": 39,
   "metadata": {},
   "outputs": [
    {
     "data": {
      "text/plain": [
       "LogisticRegressionCV(Cs=[0.1, 0.5, 1, 5, 10], class_weight=None, cv=5,\n",
       "                     dual=False, fit_intercept=True, intercept_scaling=1.0,\n",
       "                     l1_ratios=None, max_iter=500, multi_class='ovr',\n",
       "                     n_jobs=None, penalty='l2', random_state=123, refit=True,\n",
       "                     scoring=None, solver='lbfgs', tol=0.0001, verbose=0)"
      ]
     },
     "execution_count": 39,
     "metadata": {},
     "output_type": "execute_result"
    }
   ],
   "source": [
    "fitted_model"
   ]
  },
  {
   "cell_type": "code",
   "execution_count": 40,
   "metadata": {},
   "outputs": [
    {
     "data": {
      "text/plain": [
       "array([0.1])"
      ]
     },
     "execution_count": 40,
     "metadata": {},
     "output_type": "execute_result"
    }
   ],
   "source": [
    "fitted_model.C_"
   ]
  },
  {
   "cell_type": "code",
   "execution_count": 41,
   "metadata": {},
   "outputs": [
    {
     "name": "stdout",
     "output_type": "stream",
     "text": [
      "Accuracy: 0.877 \n",
      "F1 score: 0.922 \n",
      "AUC score: 0.922\n"
     ]
    }
   ],
   "source": [
    "print(f\"Accuracy: {results['Accuracy']:.3f} \\nF1 score: {results['F1']:.3f} \\nAUC score: {results['AUC']:.3f}\")"
   ]
  },
  {
   "cell_type": "code",
   "execution_count": 42,
   "metadata": {},
   "outputs": [
    {
     "name": "stdout",
     "output_type": "stream",
     "text": [
      "Smallest Coefs:\n",
      "['disappointed' 'unflattering' 'returning' 'cheap' 'bad' 'returned'\n",
      " 'wanted' 'disappointing' 'completely' 'huge']\n",
      "\n",
      "Largest Coefs: \n",
      "['compliments' 'perfect' 'comfortable' 'highly' 'glad' 'perfectly'\n",
      " 'amazing' 'love' 'happy' 'comfy']\n"
     ]
    }
   ],
   "source": [
    "#try to see the \n",
    "feature_names = np.array(vect.get_feature_names())\n",
    "\n",
    "# Sort the coefficients from the model\n",
    "sorted_coef_index = model.coef_[0].argsort()\n",
    "\n",
    "# Find the 10 smallest and 10 largest coefficients\n",
    "# The 10 largest coefficients are being indexed using [:-11:-1] \n",
    "# so the list returned is in order of largest to smallest\n",
    "print('Smallest Coefs:\\n{}\\n'.format(feature_names[sorted_coef_index[:10]]))\n",
    "print('Largest Coefs: \\n{}'.format(feature_names[sorted_coef_index[:-11:-1]]))"
   ]
  },
  {
   "cell_type": "code",
   "execution_count": 23,
   "metadata": {},
   "outputs": [],
   "source": [
    "model = LogisticRegressionCV(Cs = [0.1,0.15,0.2,0.3],cv = 5,penalty =  'l2',max_iter = 500,random_state = seed,\n",
    "         multi_class = 'ovr')\n",
    "fitted_model,results = model_fit_train_score(model,X_train_vectorized, y_train,X_val_vectorized,y_val)"
   ]
  },
  {
   "cell_type": "code",
   "execution_count": 24,
   "metadata": {},
   "outputs": [
    {
     "data": {
      "text/plain": [
       "array([0.15])"
      ]
     },
     "execution_count": 24,
     "metadata": {},
     "output_type": "execute_result"
    }
   ],
   "source": [
    "fitted_model.C_"
   ]
  },
  {
   "cell_type": "code",
   "execution_count": 25,
   "metadata": {},
   "outputs": [
    {
     "name": "stdout",
     "output_type": "stream",
     "text": [
      "Accuracy: 0.875 \n",
      "F1 score: 0.921 \n",
      "AUC score: 0.922\n"
     ]
    }
   ],
   "source": [
    "print(f\"Accuracy: {results['Accuracy']:.3f} \\nF1 score: {results['F1']:.3f} \\nAUC score: {results['AUC']:.3f}\")"
   ]
  },
  {
   "cell_type": "code",
   "execution_count": 26,
   "metadata": {},
   "outputs": [
    {
     "data": {
      "image/png": "[encoded data removed]",
      "text/plain": [
       "<Figure size 720x504 with 2 Axes>"
      ]
     },
     "metadata": {
      "needs_background": "light"
     },
     "output_type": "display_data"
    }
   ],
   "source": [
    "conf_mat = confusion_matrix(y_true=y_val, y_pred=results['predictions'])\n",
    "cm = print_confusion_matrix(conf_mat, ['Negative', 'Positive'])"
   ]
  },
  {
   "cell_type": "code",
   "execution_count": 29,
   "metadata": {},
   "outputs": [
    {
     "data": {
      "image/png": "[encoded data removed]",
      "text/plain": [
       "<Figure size 504x360 with 1 Axes>"
      ]
     },
     "metadata": {
      "needs_background": "light"
     },
     "output_type": "display_data"
    }
   ],
   "source": [
    "plot_ROC(y_val,results['predict_proba'],results['AUC'])\n",
    "plt.savefig(\"ROC_curve_1st_model_wopt_c.png\")"
   ]
  },
  {
   "cell_type": "code",
   "execution_count": 31,
   "metadata": {},
   "outputs": [
    {
     "name": "stdout",
     "output_type": "stream",
     "text": [
      "Smallest Coefs:\n",
      "['unflattering' 'disappointed' 'cheap' 'bad' 'returning' 'returned'\n",
      " 'disappointing' 'completely' 'wanted' 'poor']\n",
      "\n",
      "Largest Coefs: \n",
      "['compliments' 'perfect' 'comfortable' 'highly' 'amazing' 'glad' 'happy'\n",
      " 'feminine' 'sold' 'perfectly']\n"
     ]
    }
   ],
   "source": [
    "#try to see the most relavent features\n",
    "feature_names = np.array(vect.get_feature_names())\n",
    "\n",
    "# Sort the coefficients from the model\n",
    "sorted_coef_index = model.coef_[0].argsort()\n",
    "\n",
    "# Find the 10 smallest and 10 largest coefficients\n",
    "# The 10 largest coefficients are being indexed using [:-11:-1] \n",
    "# so the list returned is in order of largest to smallest\n",
    "print('Smallest Coefs:\\n{}\\n'.format(feature_names[sorted_coef_index[:10]]))\n",
    "print('Largest Coefs: \\n{}'.format(feature_names[sorted_coef_index[:-11:-1]]))"
   ]
  },
  {
   "cell_type": "markdown",
   "metadata": {},
   "source": [
    "We found our optimized parameter C for a model that is built by countvectorizer without stop word removal nor lemmatization\n",
    "\n",
    "Now we want to check if stopwords removal will help to improve the model"
   ]
  },
  {
   "cell_type": "code",
   "execution_count": 64,
   "metadata": {},
   "outputs": [],
   "source": [
    "import spacy\n",
    "import en_core_web_sm"
   ]
  },
  {
   "cell_type": "code",
   "execution_count": 65,
   "metadata": {},
   "outputs": [],
   "source": [
    "nlp = en_core_web_sm.load()\n",
    "stopwords = list(spacy.lang.en.stop_words.STOP_WORDS)"
   ]
  },
  {
   "cell_type": "code",
   "execution_count": 66,
   "metadata": {},
   "outputs": [
    {
     "name": "stderr",
     "output_type": "stream",
     "text": [
      "C:\\Users\\Zhiqing\\Anaconda3\\lib\\site-packages\\sklearn\\feature_extraction\\text.py:385: UserWarning: Your stop_words may be inconsistent with your preprocessing. Tokenizing the stop words generated tokens ['ll', 've'] not in stop_words.\n",
      "  'stop_words.' % sorted(inconsistent))\n"
     ]
    }
   ],
   "source": [
    "vect_stop_words_rm = CountVectorizer(stop_words=stopwords).fit(X_train)\n",
    "X_train_vectorized_rm = vect_stop_words_rm.transform(X_train)\n",
    "X_val_vectorized_rm = vect_stop_words_rm.transform(X_val)"
   ]
  },
  {
   "cell_type": "code",
   "execution_count": 67,
   "metadata": {},
   "outputs": [],
   "source": [
    "model = LogisticRegressionCV(Cs = [0.1,0.15,0.2,0.3],cv = 5,penalty =  'l2',max_iter = 500,random_state = seed,\n",
    "         multi_class = 'ovr')\n",
    "fitted_model,results = model_fit_train_score(model,X_train_vectorized_rm, y_train,X_val_vectorized_rm,y_val)"
   ]
  },
  {
   "cell_type": "code",
   "execution_count": 68,
   "metadata": {},
   "outputs": [
    {
     "data": {
      "text/plain": [
       "array([0.3])"
      ]
     },
     "execution_count": 68,
     "metadata": {},
     "output_type": "execute_result"
    }
   ],
   "source": [
    "fitted_model.C_"
   ]
  },
  {
   "cell_type": "code",
   "execution_count": 69,
   "metadata": {},
   "outputs": [
    {
     "name": "stdout",
     "output_type": "stream",
     "text": [
      "Accuracy: 0.866 \n",
      "F1 score: 0.915 \n",
      "AUC score: 0.907\n"
     ]
    }
   ],
   "source": [
    "print(f\"Accuracy: {results['Accuracy']:.3f} \\nF1 score: {results['F1']:.3f} \\nAUC score: {results['AUC']:.3f}\")"
   ]
  },
  {
   "cell_type": "code",
   "execution_count": 52,
   "metadata": {},
   "outputs": [
    {
     "name": "stdout",
     "output_type": "stream",
     "text": [
      "Smallest Coefs:\n",
      "['unflattering' 'disappointed' 'bad' 'poor' 'disappointing' 'cheap'\n",
      " 'returned' 'awful' 'completely' 'wanted']\n",
      "\n",
      "Largest Coefs: \n",
      "['compliments' 'highly' 'perfect' 'glad' 'pleased' 'stylish' 'elegant'\n",
      " 'paired' 'comfortable' 'works']\n"
     ]
    }
   ],
   "source": [
    "feature_names = np.array(vect_stop_words_rm.get_feature_names())\n",
    "\n",
    "# Sort the coefficients from the model\n",
    "sorted_coef_index = fitted_model.coef_[0].argsort()\n",
    "\n",
    "# Find the 10 smallest and 10 largest coefficients\n",
    "# The 10 largest coefficients are being indexed using [:-11:-1] \n",
    "# so the list returned is in order of largest to smallest\n",
    "print('Smallest Coefs:\\n{}\\n'.format(feature_names[sorted_coef_index[:10]]))\n",
    "print('Largest Coefs: \\n{}'.format(feature_names[sorted_coef_index[:-11:-1]]))"
   ]
  },
  {
   "cell_type": "code",
   "execution_count": 72,
   "metadata": {},
   "outputs": [
    {
     "data": {
      "image/png": "[encoded data removed]",
      "text/plain": [
       "<Figure size 720x504 with 2 Axes>"
      ]
     },
     "metadata": {
      "needs_background": "light"
     },
     "output_type": "display_data"
    }
   ],
   "source": [
    "conf_mat = confusion_matrix(y_true=y_val, y_pred=results['predictions'])\n",
    "cm = print_confusion_matrix(conf_mat, ['Negative', 'Positive'],cmap = 'viridis_r')\n",
    "plt.savefig('output/remove_stpw.png')"
   ]
  },
  {
   "cell_type": "markdown",
   "metadata": {},
   "source": [
    "Interestingly, removing stop words makes the model performs worse; maybe the list of stopwords is not suitable for this data?\n",
    "We can always explore more here\n",
    "\n",
    "Next we would like to explore if lemmatization could improve the model. We will use the lemmatizer provided by SpaCy"
   ]
  },
  {
   "cell_type": "code",
   "execution_count": 73,
   "metadata": {},
   "outputs": [],
   "source": [
    "def lemma_and_stop (text):\n",
    "    docs = nlp.pipe(text)\n",
    "    lemma = []\n",
    "    lemma_and_stop = []\n",
    "\n",
    "    for doc in docs:\n",
    "        if doc.is_parsed:\n",
    "            lemma.append(\" \".join([n.lemma_ for n in doc]))\n",
    "            lemma_and_stop.append(\" \".join([n.lemma_ for n in doc if n.is_stop == False]))\n",
    "        else:\n",
    "            # We want to make sure that the lists of parsed results have the\n",
    "            # same number of entries of the original Dataframe, so add some blanks in case the parse fails\n",
    "            lemma.append(None)\n",
    "            lemma_and_stop.append(None)\n",
    "    return lemma,lemma_and_stop"
   ]
  },
  {
   "cell_type": "code",
   "execution_count": 74,
   "metadata": {},
   "outputs": [],
   "source": [
    "lemma_X_train,lem_and_stop_X_train = lemma_and_stop(X_train)"
   ]
  },
  {
   "cell_type": "code",
   "execution_count": 75,
   "metadata": {},
   "outputs": [
    {
     "data": {
      "text/plain": [
       "['this be really cute but do run large   if -PRON- in between size size down   the fabric at the front be super bulky but with a small size could be ok   -PRON- be so itchy   imo uncomfotably so   i would have return for a small size have -PRON- not be so uncomfortable   ugh why   i love the sleeve   very cute bell   and the back hung nicely   -PRON- need to make this in a cotton   vocoder and no wool   love bit could not bear -PRON-']"
      ]
     },
     "execution_count": 75,
     "metadata": {},
     "output_type": "execute_result"
    }
   ],
   "source": [
    "lemma_X_train[:1]"
   ]
  },
  {
   "cell_type": "code",
   "execution_count": 76,
   "metadata": {},
   "outputs": [],
   "source": [
    "lemma_X_val,lem_and_stop_X_val = lemma_and_stop(X_val)"
   ]
  },
  {
   "cell_type": "code",
   "execution_count": 77,
   "metadata": {},
   "outputs": [],
   "source": [
    "vectorizer = CountVectorizer().fit(lemma_X_train)\n",
    "X_train_vectorized_lm = vectorizer.transform(lemma_X_train)\n",
    "X_val_vectorized_lm = vectorizer.transform(lemma_X_val)"
   ]
  },
  {
   "cell_type": "code",
   "execution_count": 78,
   "metadata": {},
   "outputs": [],
   "source": [
    "model = LogisticRegressionCV(Cs = [0.1,0.15,0.2,0.3],cv = 5,penalty =  'l2',max_iter = 500,random_state = seed,\n",
    "         multi_class = 'ovr')\n",
    "fitted_model,results = model_fit_train_score(model,X_train_vectorized_lm, y_train,X_val_vectorized_lm,y_val)"
   ]
  },
  {
   "cell_type": "code",
   "execution_count": 72,
   "metadata": {},
   "outputs": [
    {
     "data": {
      "text/plain": [
       "array([0.3])"
      ]
     },
     "execution_count": 72,
     "metadata": {},
     "output_type": "execute_result"
    }
   ],
   "source": [
    "fitted_model.C_"
   ]
  },
  {
   "cell_type": "code",
   "execution_count": 79,
   "metadata": {},
   "outputs": [
    {
     "name": "stdout",
     "output_type": "stream",
     "text": [
      "Accuracy: 0.870 \n",
      "F1 score: 0.917 \n",
      "AUC score: 0.916\n"
     ]
    }
   ],
   "source": [
    "print(f\"Accuracy: {results['Accuracy']:.3f} \\nF1 score: {results['F1']:.3f} \\nAUC score: {results['AUC']:.3f}\")"
   ]
  },
  {
   "cell_type": "code",
   "execution_count": 80,
   "metadata": {},
   "outputs": [
    {
     "data": {
      "image/png": "[encoded data removed]",
      "text/plain": [
       "<Figure size 720x504 with 2 Axes>"
      ]
     },
     "metadata": {
      "needs_background": "light"
     },
     "output_type": "display_data"
    }
   ],
   "source": [
    "conf_mat = confusion_matrix(y_true=y_val, y_pred=results['predictions'])\n",
    "cm = print_confusion_matrix(conf_mat, ['Negative', 'Positive'],cmap = 'viridis_r')\n",
    "plt.savefig('output/lemmatized_only.png')"
   ]
  },
  {
   "cell_type": "code",
   "execution_count": null,
   "metadata": {},
   "outputs": [],
   "source": []
  },
  {
   "cell_type": "markdown",
   "metadata": {},
   "source": [
    "I realize that comparing stopwords and lemmatization v.s. original model this way has some flaw: i.e. the model is tested on only one validation set.. I will adapat the model_fit_train_score to reflect our latest use case\n",
    "\n",
    "(in fact all the comparison before is flawed)"
   ]
  },
  {
   "cell_type": "code",
   "execution_count": 12,
   "metadata": {},
   "outputs": [],
   "source": [
    "from sklearn.model_selection import StratifiedKFold\n",
    "from collections import defaultdict\n",
    "\n",
    "def model_fit_train_score_skf (model,X,y,kfold = 5):\n",
    "    '''This function takes in three arguments:model (model object), X,y\n",
    "    It will be splitted by stratified k fold algo\n",
    "    The data will be fitted using the model passed in by the user\n",
    "    It returns the fitted model object and lists of Accuracy score as well as F1 score and AUC (area under curve)'''\n",
    "    skf = StratifiedKFold(n_splits=kfold)\n",
    "    results_dict = defaultdict()\n",
    "    predict = []\n",
    "    predict_prob = []\n",
    "    Accuracy = []\n",
    "    F1 = []\n",
    "    AUC = []\n",
    "    \n",
    "    for train_index, test_index in skf.split(X, y):\n",
    "        #get current split\n",
    "        x_train, x_val = X[train_index], X[test_index]\n",
    "        y_train, y_val = y[train_index], y[test_index]\n",
    "        #fit model with latest train set\n",
    "        model.fit(x_train,y_train)\n",
    "        #calculate predictions\n",
    "        y_pred = model.predict(x_val)\n",
    "        predictions = model.predict_proba(x_val)\n",
    "        predict.append(y_pred)\n",
    "        predict_prob.append(predictions[:,1])\n",
    "        Accuracy.append(accuracy_score(y_true=y_val, y_pred=y_pred))\n",
    "        F1.append(f1_score(y_true=y_val, y_pred=y_pred))\n",
    "        AUC.append(roc_auc_score(y_val, predictions[:,1]))\n",
    "    \n",
    "    results_dict['predictions'] = predict\n",
    "    results_dict['predict_proba'] = predict_prob\n",
    "    results_dict['Accuracy_mean'] = np.mean(Accuracy)\n",
    "    results_dict['F1_mean'] = np.mean(F1)\n",
    "    results_dict['AUC_mean'] = np.mean(AUC)\n",
    "    results_dict['Accuracy_std'] = np.std(Accuracy)\n",
    "    results_dict['F1_std'] = np.std(F1)\n",
    "    results_dict['AUC_std'] = np.std(AUC)\n",
    "    \n",
    "    return model,results_dict"
   ]
  },
  {
   "cell_type": "markdown",
   "metadata": {},
   "source": [
    "Model with little pre-processing"
   ]
  },
  {
   "cell_type": "code",
   "execution_count": 3,
   "metadata": {},
   "outputs": [],
   "source": [
    "vect = CountVectorizer().fit(data_train.RAW_Text)"
   ]
  },
  {
   "cell_type": "code",
   "execution_count": 4,
   "metadata": {},
   "outputs": [],
   "source": [
    "X_vect = vect.transform(data_train.RAW_Text)"
   ]
  },
  {
   "cell_type": "code",
   "execution_count": 74,
   "metadata": {},
   "outputs": [],
   "source": [
    "model = LogisticRegressionCV(Cs = [0.1,0.15,0.2,0.3],cv = 5,penalty =  'l2',max_iter = 200,random_state = seed,\n",
    "         multi_class = 'ovr')\n",
    "fitted_model,results = model_fit_train_score_skf(model,X_vect,np.array(data_train.Positively_rated))"
   ]
  },
  {
   "cell_type": "code",
   "execution_count": 75,
   "metadata": {},
   "outputs": [
    {
     "name": "stdout",
     "output_type": "stream",
     "text": [
      "Accuracy: 0.878 \n",
      "F1 score: 0.923 \n",
      "AUC score: 0.923\n"
     ]
    }
   ],
   "source": [
    "print(f\"Accuracy: {results['Accuracy_mean']:.3f} \\nF1 score: {results['F1_mean']:.3f} \\nAUC score: {results['AUC_mean']:.3f}\")"
   ]
  },
  {
   "cell_type": "code",
   "execution_count": null,
   "metadata": {},
   "outputs": [],
   "source": [
    "fitted_model.C_"
   ]
  },
  {
   "cell_type": "markdown",
   "metadata": {},
   "source": [
    "Model with just lemmatization"
   ]
  },
  {
   "cell_type": "code",
   "execution_count": 79,
   "metadata": {},
   "outputs": [],
   "source": [
    "lemma_X,lem_and_stop_X = lemma_and_stop(data_train.RAW_Text)"
   ]
  },
  {
   "cell_type": "code",
   "execution_count": 80,
   "metadata": {},
   "outputs": [],
   "source": [
    "vectorizer = CountVectorizer().fit(lemma_X)\n",
    "X_lemma_vect = vectorizer.transform(lemma_X)"
   ]
  },
  {
   "cell_type": "code",
   "execution_count": 81,
   "metadata": {},
   "outputs": [
    {
     "name": "stderr",
     "output_type": "stream",
     "text": [
      "C:\\Users\\Zhiqing\\Anaconda3\\lib\\site-packages\\sklearn\\linear_model\\_logistic.py:940: ConvergenceWarning: lbfgs failed to converge (status=1):\n",
      "STOP: TOTAL NO. of ITERATIONS REACHED LIMIT.\n",
      "\n",
      "Increase the number of iterations (max_iter) or scale the data as shown in:\n",
      "    https://scikit-learn.org/stable/modules/preprocessing.html\n",
      "Please also refer to the documentation for alternative solver options:\n",
      "    https://scikit-learn.org/stable/modules/linear_model.html#logistic-regression\n",
      "  extra_warning_msg=_LOGISTIC_SOLVER_CONVERGENCE_MSG)\n",
      "C:\\Users\\Zhiqing\\Anaconda3\\lib\\site-packages\\sklearn\\linear_model\\_logistic.py:940: ConvergenceWarning: lbfgs failed to converge (status=1):\n",
      "STOP: TOTAL NO. of ITERATIONS REACHED LIMIT.\n",
      "\n",
      "Increase the number of iterations (max_iter) or scale the data as shown in:\n",
      "    https://scikit-learn.org/stable/modules/preprocessing.html\n",
      "Please also refer to the documentation for alternative solver options:\n",
      "    https://scikit-learn.org/stable/modules/linear_model.html#logistic-regression\n",
      "  extra_warning_msg=_LOGISTIC_SOLVER_CONVERGENCE_MSG)\n",
      "C:\\Users\\Zhiqing\\Anaconda3\\lib\\site-packages\\sklearn\\linear_model\\_logistic.py:940: ConvergenceWarning: lbfgs failed to converge (status=1):\n",
      "STOP: TOTAL NO. of ITERATIONS REACHED LIMIT.\n",
      "\n",
      "Increase the number of iterations (max_iter) or scale the data as shown in:\n",
      "    https://scikit-learn.org/stable/modules/preprocessing.html\n",
      "Please also refer to the documentation for alternative solver options:\n",
      "    https://scikit-learn.org/stable/modules/linear_model.html#logistic-regression\n",
      "  extra_warning_msg=_LOGISTIC_SOLVER_CONVERGENCE_MSG)\n",
      "C:\\Users\\Zhiqing\\Anaconda3\\lib\\site-packages\\sklearn\\linear_model\\_logistic.py:940: ConvergenceWarning: lbfgs failed to converge (status=1):\n",
      "STOP: TOTAL NO. of ITERATIONS REACHED LIMIT.\n",
      "\n",
      "Increase the number of iterations (max_iter) or scale the data as shown in:\n",
      "    https://scikit-learn.org/stable/modules/preprocessing.html\n",
      "Please also refer to the documentation for alternative solver options:\n",
      "    https://scikit-learn.org/stable/modules/linear_model.html#logistic-regression\n",
      "  extra_warning_msg=_LOGISTIC_SOLVER_CONVERGENCE_MSG)\n",
      "C:\\Users\\Zhiqing\\Anaconda3\\lib\\site-packages\\sklearn\\linear_model\\_logistic.py:940: ConvergenceWarning: lbfgs failed to converge (status=1):\n",
      "STOP: TOTAL NO. of ITERATIONS REACHED LIMIT.\n",
      "\n",
      "Increase the number of iterations (max_iter) or scale the data as shown in:\n",
      "    https://scikit-learn.org/stable/modules/preprocessing.html\n",
      "Please also refer to the documentation for alternative solver options:\n",
      "    https://scikit-learn.org/stable/modules/linear_model.html#logistic-regression\n",
      "  extra_warning_msg=_LOGISTIC_SOLVER_CONVERGENCE_MSG)\n",
      "C:\\Users\\Zhiqing\\Anaconda3\\lib\\site-packages\\sklearn\\linear_model\\_logistic.py:940: ConvergenceWarning: lbfgs failed to converge (status=1):\n",
      "STOP: TOTAL NO. of ITERATIONS REACHED LIMIT.\n",
      "\n",
      "Increase the number of iterations (max_iter) or scale the data as shown in:\n",
      "    https://scikit-learn.org/stable/modules/preprocessing.html\n",
      "Please also refer to the documentation for alternative solver options:\n",
      "    https://scikit-learn.org/stable/modules/linear_model.html#logistic-regression\n",
      "  extra_warning_msg=_LOGISTIC_SOLVER_CONVERGENCE_MSG)\n"
     ]
    }
   ],
   "source": [
    "model = LogisticRegressionCV(Cs = [0.1,0.15,0.2,0.3],cv = 5,penalty =  'l2',max_iter = 200,random_state = seed,\n",
    "         multi_class = 'ovr')\n",
    "fitted_model,results = model_fit_train_score_skf(model,X_lemma_vect,np.array(data_train.Positively_rated))"
   ]
  },
  {
   "cell_type": "code",
   "execution_count": 82,
   "metadata": {},
   "outputs": [
    {
     "data": {
      "text/plain": [
       "array([0.15])"
      ]
     },
     "execution_count": 82,
     "metadata": {},
     "output_type": "execute_result"
    }
   ],
   "source": [
    "fitted_model.C_"
   ]
  },
  {
   "cell_type": "code",
   "execution_count": 83,
   "metadata": {},
   "outputs": [
    {
     "name": "stdout",
     "output_type": "stream",
     "text": [
      "Accuracy: 0.875 \n",
      "F1 score: 0.921 \n",
      "AUC score: 0.917\n"
     ]
    }
   ],
   "source": [
    "print(f\"Accuracy: {results['Accuracy_mean']:.3f} \\nF1 score: {results['F1_mean']:.3f} \\nAUC score: {results['AUC_mean']:.3f}\")"
   ]
  },
  {
   "cell_type": "markdown",
   "metadata": {},
   "source": [
    "Model with stopwords only"
   ]
  },
  {
   "cell_type": "code",
   "execution_count": 107,
   "metadata": {},
   "outputs": [
    {
     "name": "stderr",
     "output_type": "stream",
     "text": [
      "C:\\Users\\Zhiqing\\Anaconda3\\lib\\site-packages\\sklearn\\feature_extraction\\text.py:385: UserWarning: Your stop_words may be inconsistent with your preprocessing. Tokenizing the stop words generated tokens ['ll', 've'] not in stop_words.\n",
      "  'stop_words.' % sorted(inconsistent))\n"
     ]
    }
   ],
   "source": [
    "vect_stop_words_rm = CountVectorizer(stop_words=stopwords).fit(data_train.Text)\n",
    "X_vectorized_rm = vect_stop_words_rm.transform(data_train.Text)"
   ]
  },
  {
   "cell_type": "code",
   "execution_count": 109,
   "metadata": {},
   "outputs": [],
   "source": [
    "model = LogisticRegressionCV(Cs = [0.1,0.15,0.2,0.3],cv = 5,penalty =  'l2',max_iter = 500,random_state = seed,\n",
    "         multi_class = 'ovr')\n",
    "fitted_model,results = model_fit_train_score_skf(model,X_vectorized_rm, np.array(data_train.Positively_rated))"
   ]
  },
  {
   "cell_type": "code",
   "execution_count": 111,
   "metadata": {},
   "outputs": [
    {
     "name": "stdout",
     "output_type": "stream",
     "text": [
      "Accuracy: 0.870 \n",
      "F1 score: 0.918 \n",
      "AUC score: 0.913\n"
     ]
    }
   ],
   "source": [
    "print(f\"Accuracy: {results['Accuracy_mean']:.3f} \\nF1 score: {results['F1_mean']:.3f} \\nAUC score: {results['AUC_mean']:.3f}\")"
   ]
  },
  {
   "cell_type": "markdown",
   "metadata": {},
   "source": [
    "Note: removing stopword or lemmatization would slightly decrease the performance of the model. We will not remove neither one for the BOW model\n",
    "\n",
    "Next, try MNB and SVC to see if it improves the performance"
   ]
  },
  {
   "cell_type": "code",
   "execution_count": 23,
   "metadata": {},
   "outputs": [],
   "source": [
    "from sklearn.naive_bayes import MultinomialNB\n",
    "from sklearn.model_selection import GridSearchCV\n",
    "clf = MultinomialNB()"
   ]
  },
  {
   "cell_type": "code",
   "execution_count": 29,
   "metadata": {},
   "outputs": [
    {
     "name": "stdout",
     "output_type": "stream",
     "text": [
      "Fitting 5 folds for each of 4 candidates, totalling 20 fits\n"
     ]
    },
    {
     "name": "stderr",
     "output_type": "stream",
     "text": [
      "[Parallel(n_jobs=-1)]: Using backend LokyBackend with 4 concurrent workers.\n",
      "[Parallel(n_jobs=-1)]: Done  20 out of  20 | elapsed:    0.1s finished\n"
     ]
    }
   ],
   "source": [
    "parameters_MNB = {'alpha':[0.5,1,5,10]       }\n",
    "clf_grid = GridSearchCV(estimator = clf, param_grid = parameters_MNB, verbose=1,n_jobs = -1,\n",
    "                        scoring='f1',cv = 5,refit='AUC',\n",
    "                        return_train_score=True).fit(X_vect, np.array(data_train.Positively_rated))"
   ]
  },
  {
   "cell_type": "code",
   "execution_count": 30,
   "metadata": {},
   "outputs": [
    {
     "data": {
      "text/plain": [
       "MultinomialNB(alpha=1, class_prior=None, fit_prior=True)"
      ]
     },
     "execution_count": 30,
     "metadata": {},
     "output_type": "execute_result"
    }
   ],
   "source": [
    "clf_grid.best_estimator_"
   ]
  },
  {
   "cell_type": "code",
   "execution_count": 25,
   "metadata": {},
   "outputs": [],
   "source": [
    "best_clf = eval(str(clf_grid.best_estimator_))"
   ]
  },
  {
   "cell_type": "code",
   "execution_count": 26,
   "metadata": {},
   "outputs": [],
   "source": [
    "fitted_model,results = model_fit_train_score_skf(best_clf,X_vect, y)"
   ]
  },
  {
   "cell_type": "code",
   "execution_count": 27,
   "metadata": {},
   "outputs": [
    {
     "name": "stdout",
     "output_type": "stream",
     "text": [
      "Accuracy: 0.876 \n",
      "F1 score: 0.920 \n",
      "AUC score: 0.920\n"
     ]
    }
   ],
   "source": [
    "print(f\"Accuracy: {results['Accuracy_mean']:.3f} \\nF1 score: {results['F1_mean']:.3f} \\nAUC score: {results['AUC_mean']:.3f}\")"
   ]
  },
  {
   "cell_type": "code",
   "execution_count": 36,
   "metadata": {},
   "outputs": [],
   "source": [
    "from sklearn.svm import LinearSVC\n",
    "from sklearn.metrics import make_scorer\n"
   ]
  },
  {
   "cell_type": "code",
   "execution_count": 38,
   "metadata": {},
   "outputs": [],
   "source": [
    "scoring = {'AUC': 'roc_auc'}"
   ]
  },
  {
   "cell_type": "code",
   "execution_count": 52,
   "metadata": {},
   "outputs": [
    {
     "name": "stdout",
     "output_type": "stream",
     "text": [
      "Fitting 5 folds for each of 36 candidates, totalling 180 fits\n"
     ]
    },
    {
     "name": "stderr",
     "output_type": "stream",
     "text": [
      "[Parallel(n_jobs=-1)]: Using backend LokyBackend with 4 concurrent workers.\n",
      "[Parallel(n_jobs=-1)]: Done 130 tasks      | elapsed:    0.4s\n",
      "[Parallel(n_jobs=-1)]: Done 180 out of 180 | elapsed:    0.5s finished\n"
     ]
    }
   ],
   "source": [
    "clf = LinearSVC()\n",
    "parameters_SVC = {'C':[0.00001,0.0001,0.001,0.005,0.01,0.05], 'penalty':['l1','l2','elasticnet'],'loss':['hinge','squared_hinge'] \n",
    "                }\n",
    "clf_grid = GridSearchCV(estimator = clf, param_grid = parameters_SVC, verbose=1,n_jobs = -1,\n",
    "                        scoring='f1',cv = 5,refit='AUC',\n",
    "                        return_train_score=True).fit(X_vect, np.array(data_train.Positively_rated))"
   ]
  },
  {
   "cell_type": "code",
   "execution_count": 58,
   "metadata": {},
   "outputs": [
    {
     "data": {
      "text/plain": [
       "{'mean_fit_time': array([0.00359039, 0.0058866 , 0.00309348, 0.00339141, 0.00977292,\n",
       "        0.00738034, 0.00678148, 0.00518575, 0.00379   , 0.00299163,\n",
       "        0.0176549 , 0.00298958, 0.00289483, 0.0165554 , 0.00518551,\n",
       "        0.00299201, 0.0127656 , 0.00817766, 0.00398932, 0.0103724 ,\n",
       "        0.00339074, 0.00299201, 0.00797839, 0.00638266, 0.00319133,\n",
       "        0.01555862, 0.00339026, 0.00279226, 0.01017175, 0.00378942,\n",
       "        0.00299129, 0.01376281, 0.00518622, 0.00339108, 0.01156836,\n",
       "        0.00279236]),\n",
       " 'std_fit_time': array([7.98130349e-04, 4.91503388e-04, 2.06846276e-04, 7.98630933e-04,\n",
       "        3.24083107e-03, 8.28696253e-03, 6.59739378e-03, 3.99041471e-04,\n",
       "        1.16300654e-03, 6.81059687e-07, 7.87899246e-03, 6.30242644e-04,\n",
       "        4.91249119e-04, 1.32548191e-02, 4.38778401e-03, 1.11420836e-06,\n",
       "        8.25844566e-03, 5.54959513e-03, 3.02562019e-03, 4.88228395e-04,\n",
       "        7.97892536e-04, 9.72560790e-07, 1.09284125e-03, 5.41128314e-03,\n",
       "        3.99184522e-04, 9.19758724e-03, 7.98249335e-04, 3.98945933e-04,\n",
       "        3.11530184e-03, 7.45971128e-04, 1.26698782e-06, 7.46633468e-04,\n",
       "        3.11636704e-03, 4.88578284e-04, 2.86266759e-03, 3.98755426e-04]),\n",
       " 'mean_score_time': array([0.        , 0.00159502, 0.        , 0.        , 0.00558558,\n",
       "        0.        , 0.        , 0.00119762, 0.        , 0.        ,\n",
       "        0.0013967 , 0.        , 0.        , 0.00179543, 0.        ,\n",
       "        0.        , 0.00159655, 0.        , 0.        , 0.00239296,\n",
       "        0.        , 0.        , 0.00159636, 0.        , 0.        ,\n",
       "        0.00119696, 0.        , 0.        , 0.00179529, 0.        ,\n",
       "        0.        , 0.00099759, 0.        , 0.        , 0.00139632,\n",
       "        0.        ]),\n",
       " 'std_score_time': array([0.00000000e+00, 4.88033316e-04, 0.00000000e+00, 0.00000000e+00,\n",
       "        8.68578445e-03, 0.00000000e+00, 0.00000000e+00, 3.98254480e-04,\n",
       "        0.00000000e+00, 0.00000000e+00, 4.88285799e-04, 0.00000000e+00,\n",
       "        0.00000000e+00, 3.99065545e-04, 0.00000000e+00, 0.00000000e+00,\n",
       "        4.88597253e-04, 0.00000000e+00, 0.00000000e+00, 2.32574336e-03,\n",
       "        0.00000000e+00, 0.00000000e+00, 4.88344124e-04, 0.00000000e+00,\n",
       "        0.00000000e+00, 3.98350818e-04, 0.00000000e+00, 0.00000000e+00,\n",
       "        7.46990376e-04, 0.00000000e+00, 0.00000000e+00, 6.97552626e-07,\n",
       "        0.00000000e+00, 0.00000000e+00, 4.87818643e-04, 0.00000000e+00]),\n",
       " 'param_C': masked_array(data=[1e-05, 1e-05, 1e-05, 1e-05, 1e-05, 1e-05, 0.0001,\n",
       "                    0.0001, 0.0001, 0.0001, 0.0001, 0.0001, 0.001, 0.001,\n",
       "                    0.001, 0.001, 0.001, 0.001, 0.005, 0.005, 0.005, 0.005,\n",
       "                    0.005, 0.005, 0.01, 0.01, 0.01, 0.01, 0.01, 0.01, 0.05,\n",
       "                    0.05, 0.05, 0.05, 0.05, 0.05],\n",
       "              mask=[False, False, False, False, False, False, False, False,\n",
       "                    False, False, False, False, False, False, False, False,\n",
       "                    False, False, False, False, False, False, False, False,\n",
       "                    False, False, False, False, False, False, False, False,\n",
       "                    False, False, False, False],\n",
       "        fill_value='?',\n",
       "             dtype=object),\n",
       " 'param_loss': masked_array(data=['hinge', 'hinge', 'hinge', 'squared_hinge',\n",
       "                    'squared_hinge', 'squared_hinge', 'hinge', 'hinge',\n",
       "                    'hinge', 'squared_hinge', 'squared_hinge',\n",
       "                    'squared_hinge', 'hinge', 'hinge', 'hinge',\n",
       "                    'squared_hinge', 'squared_hinge', 'squared_hinge',\n",
       "                    'hinge', 'hinge', 'hinge', 'squared_hinge',\n",
       "                    'squared_hinge', 'squared_hinge', 'hinge', 'hinge',\n",
       "                    'hinge', 'squared_hinge', 'squared_hinge',\n",
       "                    'squared_hinge', 'hinge', 'hinge', 'hinge',\n",
       "                    'squared_hinge', 'squared_hinge', 'squared_hinge'],\n",
       "              mask=[False, False, False, False, False, False, False, False,\n",
       "                    False, False, False, False, False, False, False, False,\n",
       "                    False, False, False, False, False, False, False, False,\n",
       "                    False, False, False, False, False, False, False, False,\n",
       "                    False, False, False, False],\n",
       "        fill_value='?',\n",
       "             dtype=object),\n",
       " 'param_penalty': masked_array(data=['l1', 'l2', 'elasticnet', 'l1', 'l2', 'elasticnet',\n",
       "                    'l1', 'l2', 'elasticnet', 'l1', 'l2', 'elasticnet',\n",
       "                    'l1', 'l2', 'elasticnet', 'l1', 'l2', 'elasticnet',\n",
       "                    'l1', 'l2', 'elasticnet', 'l1', 'l2', 'elasticnet',\n",
       "                    'l1', 'l2', 'elasticnet', 'l1', 'l2', 'elasticnet',\n",
       "                    'l1', 'l2', 'elasticnet', 'l1', 'l2', 'elasticnet'],\n",
       "              mask=[False, False, False, False, False, False, False, False,\n",
       "                    False, False, False, False, False, False, False, False,\n",
       "                    False, False, False, False, False, False, False, False,\n",
       "                    False, False, False, False, False, False, False, False,\n",
       "                    False, False, False, False],\n",
       "        fill_value='?',\n",
       "             dtype=object),\n",
       " 'params': [{'C': 1e-05, 'loss': 'hinge', 'penalty': 'l1'},\n",
       "  {'C': 1e-05, 'loss': 'hinge', 'penalty': 'l2'},\n",
       "  {'C': 1e-05, 'loss': 'hinge', 'penalty': 'elasticnet'},\n",
       "  {'C': 1e-05, 'loss': 'squared_hinge', 'penalty': 'l1'},\n",
       "  {'C': 1e-05, 'loss': 'squared_hinge', 'penalty': 'l2'},\n",
       "  {'C': 1e-05, 'loss': 'squared_hinge', 'penalty': 'elasticnet'},\n",
       "  {'C': 0.0001, 'loss': 'hinge', 'penalty': 'l1'},\n",
       "  {'C': 0.0001, 'loss': 'hinge', 'penalty': 'l2'},\n",
       "  {'C': 0.0001, 'loss': 'hinge', 'penalty': 'elasticnet'},\n",
       "  {'C': 0.0001, 'loss': 'squared_hinge', 'penalty': 'l1'},\n",
       "  {'C': 0.0001, 'loss': 'squared_hinge', 'penalty': 'l2'},\n",
       "  {'C': 0.0001, 'loss': 'squared_hinge', 'penalty': 'elasticnet'},\n",
       "  {'C': 0.001, 'loss': 'hinge', 'penalty': 'l1'},\n",
       "  {'C': 0.001, 'loss': 'hinge', 'penalty': 'l2'},\n",
       "  {'C': 0.001, 'loss': 'hinge', 'penalty': 'elasticnet'},\n",
       "  {'C': 0.001, 'loss': 'squared_hinge', 'penalty': 'l1'},\n",
       "  {'C': 0.001, 'loss': 'squared_hinge', 'penalty': 'l2'},\n",
       "  {'C': 0.001, 'loss': 'squared_hinge', 'penalty': 'elasticnet'},\n",
       "  {'C': 0.005, 'loss': 'hinge', 'penalty': 'l1'},\n",
       "  {'C': 0.005, 'loss': 'hinge', 'penalty': 'l2'},\n",
       "  {'C': 0.005, 'loss': 'hinge', 'penalty': 'elasticnet'},\n",
       "  {'C': 0.005, 'loss': 'squared_hinge', 'penalty': 'l1'},\n",
       "  {'C': 0.005, 'loss': 'squared_hinge', 'penalty': 'l2'},\n",
       "  {'C': 0.005, 'loss': 'squared_hinge', 'penalty': 'elasticnet'},\n",
       "  {'C': 0.01, 'loss': 'hinge', 'penalty': 'l1'},\n",
       "  {'C': 0.01, 'loss': 'hinge', 'penalty': 'l2'},\n",
       "  {'C': 0.01, 'loss': 'hinge', 'penalty': 'elasticnet'},\n",
       "  {'C': 0.01, 'loss': 'squared_hinge', 'penalty': 'l1'},\n",
       "  {'C': 0.01, 'loss': 'squared_hinge', 'penalty': 'l2'},\n",
       "  {'C': 0.01, 'loss': 'squared_hinge', 'penalty': 'elasticnet'},\n",
       "  {'C': 0.05, 'loss': 'hinge', 'penalty': 'l1'},\n",
       "  {'C': 0.05, 'loss': 'hinge', 'penalty': 'l2'},\n",
       "  {'C': 0.05, 'loss': 'hinge', 'penalty': 'elasticnet'},\n",
       "  {'C': 0.05, 'loss': 'squared_hinge', 'penalty': 'l1'},\n",
       "  {'C': 0.05, 'loss': 'squared_hinge', 'penalty': 'l2'},\n",
       "  {'C': 0.05, 'loss': 'squared_hinge', 'penalty': 'elasticnet'}],\n",
       " 'split0_test_score': array([       nan, 0.87171501,        nan,        nan, 0.87171501,\n",
       "               nan,        nan, 0.87171501,        nan,        nan,\n",
       "        0.87171501,        nan,        nan, 0.87171501,        nan,\n",
       "               nan, 0.87171501,        nan,        nan, 0.87171501,\n",
       "               nan,        nan, 0.87171501,        nan,        nan,\n",
       "        0.87171501,        nan,        nan, 0.87171501,        nan,\n",
       "               nan, 0.87171501,        nan,        nan, 0.87171501,\n",
       "               nan]),\n",
       " 'split1_test_score': array([       nan, 0.87171501,        nan,        nan, 0.87171501,\n",
       "               nan,        nan, 0.87171501,        nan,        nan,\n",
       "        0.87171501,        nan,        nan, 0.87171501,        nan,\n",
       "               nan, 0.87171501,        nan,        nan, 0.87171501,\n",
       "               nan,        nan, 0.87171501,        nan,        nan,\n",
       "        0.87171501,        nan,        nan, 0.87171501,        nan,\n",
       "               nan, 0.87171501,        nan,        nan, 0.87171501,\n",
       "               nan]),\n",
       " 'split2_test_score': array([       nan, 0.87171501,        nan,        nan, 0.87171501,\n",
       "               nan,        nan, 0.87171501,        nan,        nan,\n",
       "        0.87171501,        nan,        nan, 0.87171501,        nan,\n",
       "               nan, 0.87171501,        nan,        nan, 0.87171501,\n",
       "               nan,        nan, 0.87171501,        nan,        nan,\n",
       "        0.87171501,        nan,        nan, 0.87171501,        nan,\n",
       "               nan, 0.87171501,        nan,        nan, 0.87171501,\n",
       "               nan]),\n",
       " 'split3_test_score': array([       nan, 0.87171501,        nan,        nan, 0.87171501,\n",
       "               nan,        nan, 0.87171501,        nan,        nan,\n",
       "        0.87171501,        nan,        nan, 0.87171501,        nan,\n",
       "               nan, 0.87171501,        nan,        nan, 0.87171501,\n",
       "               nan,        nan, 0.87171501,        nan,        nan,\n",
       "        0.87171501,        nan,        nan, 0.87171501,        nan,\n",
       "               nan, 0.87171501,        nan,        nan, 0.87171501,\n",
       "               nan]),\n",
       " 'split4_test_score': array([       nan, 0.87149533,        nan,        nan, 0.87149533,\n",
       "               nan,        nan, 0.87149533,        nan,        nan,\n",
       "        0.87149533,        nan,        nan, 0.87149533,        nan,\n",
       "               nan, 0.87149533,        nan,        nan, 0.87149533,\n",
       "               nan,        nan, 0.87149533,        nan,        nan,\n",
       "        0.87149533,        nan,        nan, 0.87149533,        nan,\n",
       "               nan, 0.87149533,        nan,        nan, 0.87149533,\n",
       "               nan]),\n",
       " 'mean_test_score': array([       nan, 0.87167107,        nan,        nan, 0.87167107,\n",
       "               nan,        nan, 0.87167107,        nan,        nan,\n",
       "        0.87167107,        nan,        nan, 0.87167107,        nan,\n",
       "               nan, 0.87167107,        nan,        nan, 0.87167107,\n",
       "               nan,        nan, 0.87167107,        nan,        nan,\n",
       "        0.87167107,        nan,        nan, 0.87167107,        nan,\n",
       "               nan, 0.87167107,        nan,        nan, 0.87167107,\n",
       "               nan]),\n",
       " 'std_test_score': array([           nan, 8.78726629e-05,            nan,            nan,\n",
       "        8.78726629e-05,            nan,            nan, 8.78726629e-05,\n",
       "                   nan,            nan, 8.78726629e-05,            nan,\n",
       "                   nan, 8.78726629e-05,            nan,            nan,\n",
       "        8.78726629e-05,            nan,            nan, 8.78726629e-05,\n",
       "                   nan,            nan, 8.78726629e-05,            nan,\n",
       "                   nan, 8.78726629e-05,            nan,            nan,\n",
       "        8.78726629e-05,            nan,            nan, 8.78726629e-05,\n",
       "                   nan,            nan, 8.78726629e-05,            nan]),\n",
       " 'rank_test_score': array([21,  1, 34, 33,  1, 32, 31,  1, 30, 29,  1, 28, 27,  1, 26, 25,  1,\n",
       "        22, 24,  1, 23, 35,  1, 20, 18,  1, 16, 15,  1, 13, 14,  1, 17, 19,\n",
       "         1, 36]),\n",
       " 'split0_train_score': array([      nan, 0.8716601,       nan,       nan, 0.8716601,       nan,\n",
       "              nan, 0.8716601,       nan,       nan, 0.8716601,       nan,\n",
       "              nan, 0.8716601,       nan,       nan, 0.8716601,       nan,\n",
       "              nan, 0.8716601,       nan,       nan, 0.8716601,       nan,\n",
       "              nan, 0.8716601,       nan,       nan, 0.8716601,       nan,\n",
       "              nan, 0.8716601,       nan,       nan, 0.8716601,       nan]),\n",
       " 'split1_train_score': array([      nan, 0.8716601,       nan,       nan, 0.8716601,       nan,\n",
       "              nan, 0.8716601,       nan,       nan, 0.8716601,       nan,\n",
       "              nan, 0.8716601,       nan,       nan, 0.8716601,       nan,\n",
       "              nan, 0.8716601,       nan,       nan, 0.8716601,       nan,\n",
       "              nan, 0.8716601,       nan,       nan, 0.8716601,       nan,\n",
       "              nan, 0.8716601,       nan,       nan, 0.8716601,       nan]),\n",
       " 'split2_train_score': array([      nan, 0.8716601,       nan,       nan, 0.8716601,       nan,\n",
       "              nan, 0.8716601,       nan,       nan, 0.8716601,       nan,\n",
       "              nan, 0.8716601,       nan,       nan, 0.8716601,       nan,\n",
       "              nan, 0.8716601,       nan,       nan, 0.8716601,       nan,\n",
       "              nan, 0.8716601,       nan,       nan, 0.8716601,       nan,\n",
       "              nan, 0.8716601,       nan,       nan, 0.8716601,       nan]),\n",
       " 'split3_train_score': array([      nan, 0.8716601,       nan,       nan, 0.8716601,       nan,\n",
       "              nan, 0.8716601,       nan,       nan, 0.8716601,       nan,\n",
       "              nan, 0.8716601,       nan,       nan, 0.8716601,       nan,\n",
       "              nan, 0.8716601,       nan,       nan, 0.8716601,       nan,\n",
       "              nan, 0.8716601,       nan,       nan, 0.8716601,       nan,\n",
       "              nan, 0.8716601,       nan,       nan, 0.8716601,       nan]),\n",
       " 'split4_train_score': array([       nan, 0.87171501,        nan,        nan, 0.87171501,\n",
       "               nan,        nan, 0.87171501,        nan,        nan,\n",
       "        0.87171501,        nan,        nan, 0.87171501,        nan,\n",
       "               nan, 0.87171501,        nan,        nan, 0.87171501,\n",
       "               nan,        nan, 0.87171501,        nan,        nan,\n",
       "        0.87171501,        nan,        nan, 0.87171501,        nan,\n",
       "               nan, 0.87171501,        nan,        nan, 0.87171501,\n",
       "               nan]),\n",
       " 'mean_train_score': array([       nan, 0.87167108,        nan,        nan, 0.87167108,\n",
       "               nan,        nan, 0.87167108,        nan,        nan,\n",
       "        0.87167108,        nan,        nan, 0.87167108,        nan,\n",
       "               nan, 0.87167108,        nan,        nan, 0.87167108,\n",
       "               nan,        nan, 0.87167108,        nan,        nan,\n",
       "        0.87167108,        nan,        nan, 0.87167108,        nan,\n",
       "               nan, 0.87167108,        nan,        nan, 0.87167108,\n",
       "               nan]),\n",
       " 'std_train_score': array([           nan, 2.19649582e-05,            nan,            nan,\n",
       "        2.19649582e-05,            nan,            nan, 2.19649582e-05,\n",
       "                   nan,            nan, 2.19649582e-05,            nan,\n",
       "                   nan, 2.19649582e-05,            nan,            nan,\n",
       "        2.19649582e-05,            nan,            nan, 2.19649582e-05,\n",
       "                   nan,            nan, 2.19649582e-05,            nan,\n",
       "                   nan, 2.19649582e-05,            nan,            nan,\n",
       "        2.19649582e-05,            nan,            nan, 2.19649582e-05,\n",
       "                   nan,            nan, 2.19649582e-05,            nan])}"
      ]
     },
     "execution_count": 58,
     "metadata": {},
     "output_type": "execute_result"
    }
   ],
   "source": [
    "clf_grid.cv_results_"
   ]
  },
  {
   "cell_type": "code",
   "execution_count": 54,
   "metadata": {},
   "outputs": [
    {
     "data": {
      "text/plain": [
       "LinearSVC(C=1e-05, class_weight=None, dual=True, fit_intercept=True,\n",
       "          intercept_scaling=1, loss='hinge', max_iter=1000, multi_class='ovr',\n",
       "          penalty='l2', random_state=None, tol=0.0001, verbose=0)"
      ]
     },
     "execution_count": 54,
     "metadata": {},
     "output_type": "execute_result"
    }
   ],
   "source": [
    "clf_grid.best_estimator_"
   ]
  },
  {
   "cell_type": "code",
   "execution_count": 56,
   "metadata": {},
   "outputs": [
    {
     "data": {
      "text/plain": [
       "0.8716750733217493"
      ]
     },
     "execution_count": 56,
     "metadata": {},
     "output_type": "execute_result"
    }
   ],
   "source": [
    "clf_grid.best_score_"
   ]
  },
  {
   "cell_type": "code",
   "execution_count": 59,
   "metadata": {},
   "outputs": [],
   "source": [
    "#best estimator returned by grid search\n",
    "best_SVC = SVC(C=0.00001, probability=True, kernel='linear')"
   ]
  },
  {
   "cell_type": "code",
   "execution_count": 61,
   "metadata": {},
   "outputs": [],
   "source": [
    "fitted_model,results = model_fit_train_score_skf(best_SVC,X_vect, np.array(data_train.Positively_rated))"
   ]
  },
  {
   "cell_type": "code",
   "execution_count": 62,
   "metadata": {},
   "outputs": [
    {
     "name": "stdout",
     "output_type": "stream",
     "text": [
      "Accuracy: 0.773 \n",
      "F1 score: 0.872 \n",
      "AUC score: 0.500\n"
     ]
    }
   ],
   "source": [
    "print(f\"Accuracy: {results['Accuracy_mean']:.3f} \\nF1 score: {results['F1_mean']:.3f} \\nAUC score: {results['AUC_mean']:.3f}\")"
   ]
  },
  {
   "cell_type": "code",
   "execution_count": 64,
   "metadata": {},
   "outputs": [
    {
     "data": {
      "text/plain": [
       "defaultdict(None,\n",
       "            {'predictions': [array([1, 1, 1, ..., 1, 1, 1], dtype=int64),\n",
       "              array([1, 1, 1, ..., 1, 1, 1], dtype=int64),\n",
       "              array([1, 1, 1, ..., 1, 1, 1], dtype=int64),\n",
       "              array([1, 1, 1, ..., 1, 1, 1], dtype=int64),\n",
       "              array([1, 1, 1, ..., 1, 1, 1], dtype=int64)],\n",
       "             'predict_proba': [array([0.77254239, 0.77254239, 0.77254239, ..., 0.77254239, 0.77254239,\n",
       "                     0.77254239]),\n",
       "              array([0.77256698, 0.77256698, 0.77256698, ..., 0.77256698, 0.77256698,\n",
       "                     0.77256698]),\n",
       "              array([0.7726493, 0.7726493, 0.7726493, ..., 0.7726493, 0.7726493,\n",
       "                     0.7726493]),\n",
       "              array([0.77256079, 0.77256079, 0.77256079, ..., 0.77256079, 0.77256079,\n",
       "                     0.77256079]),\n",
       "              array([0.77256079, 0.77256079, 0.77256079, ..., 0.77256079, 0.77256079,\n",
       "                     0.77256079])],\n",
       "             'Accuracy_mean': 0.7725390561833235,\n",
       "             'F1_mean': 0.8716750733217493,\n",
       "             'AUC_mean': 0.49989276778876146,\n",
       "             'Accuracy_std': 3.0762105165811336e-05,\n",
       "             'F1_std': 1.9582020411299976e-05,\n",
       "             'AUC_std': 0.00021442186072319426})"
      ]
     },
     "execution_count": 64,
     "metadata": {},
     "output_type": "execute_result"
    }
   ],
   "source": []
  },
  {
   "cell_type": "markdown",
   "metadata": {},
   "source": [
    "Now we would like to apply LSA on BOW model and see if it can improve performance"
   ]
  },
  {
   "cell_type": "code",
   "execution_count": 5,
   "metadata": {},
   "outputs": [],
   "source": [
    "from sklearn.decomposition import TruncatedSVD"
   ]
  },
  {
   "cell_type": "code",
   "execution_count": 16,
   "metadata": {},
   "outputs": [],
   "source": [
    "SVD = TruncatedSVD(n_components=300, algorithm='randomized', n_iter=5, random_state=seed, tol=0.0)"
   ]
  },
  {
   "cell_type": "code",
   "execution_count": 17,
   "metadata": {},
   "outputs": [],
   "source": [
    "X_vect_SVD = SVD.fit_transform(X_vect)"
   ]
  },
  {
   "cell_type": "code",
   "execution_count": 20,
   "metadata": {},
   "outputs": [],
   "source": [
    "y = np.array(data_train.Positively_rated)\n",
    "model = LogisticRegressionCV(Cs = [0.1,0.15,0.2,0.3,1,5],cv = 5,penalty =  'l2',max_iter = 500,random_state = seed,\n",
    "         multi_class = 'ovr')\n",
    "fitted_model,results = model_fit_train_score_skf(model,X_vect_SVD, y)"
   ]
  },
  {
   "cell_type": "code",
   "execution_count": 21,
   "metadata": {},
   "outputs": [
    {
     "name": "stdout",
     "output_type": "stream",
     "text": [
      "Accuracy: 0.864 \n",
      "F1 score: 0.914 \n",
      "AUC score: 0.905\n"
     ]
    }
   ],
   "source": [
    "print(f\"Accuracy: {results['Accuracy_mean']:.3f} \\nF1 score: {results['F1_mean']:.3f} \\nAUC score: {results['AUC_mean']:.3f}\")"
   ]
  },
  {
   "cell_type": "markdown",
   "metadata": {},
   "source": [
    "Now we would like to add random forest classifier in the game"
   ]
  },
  {
   "cell_type": "code",
   "execution_count": 31,
   "metadata": {},
   "outputs": [],
   "source": [
    "from sklearn.ensemble import RandomForestClassifier\n",
    "clf = RandomForestClassifier()"
   ]
  },
  {
   "cell_type": "code",
   "execution_count": null,
   "metadata": {},
   "outputs": [],
   "source": [
    "'''parameters_rf = {'n_estimators':[100]}\n",
    "clf_grid = GridSearchCV(estimator = clf, param_grid = parameters_rf, verbose=1,n_jobs = -1,\n",
    "                        scoring='f1',cv = 5,refit='AUC',\n",
    "                        return_train_score=True).fit(X_vect, np.array(data_train.Positively_rated))'''"
   ]
  },
  {
   "cell_type": "code",
   "execution_count": 32,
   "metadata": {},
   "outputs": [],
   "source": [
    "fitted_model,results = model_fit_train_score_skf(clf,X_vect, y)"
   ]
  },
  {
   "cell_type": "code",
   "execution_count": 33,
   "metadata": {},
   "outputs": [
    {
     "name": "stdout",
     "output_type": "stream",
     "text": [
      "Accuracy: 0.820 \n",
      "F1 score: 0.895 \n",
      "AUC score: 0.912\n"
     ]
    }
   ],
   "source": [
    "print(f\"Accuracy: {results['Accuracy_mean']:.3f} \\nF1 score: {results['F1_mean']:.3f} \\nAUC score: {results['AUC_mean']:.3f}\")"
   ]
  },
  {
   "cell_type": "code",
   "execution_count": null,
   "metadata": {},
   "outputs": [],
   "source": []
  }
 ],
 "metadata": {
  "kernelspec": {
   "display_name": "Python 3",
   "language": "python",
   "name": "python3"
  },
  "language_info": {
   "codemirror_mode": {
    "name": "ipython",
    "version": 3
   },
   "file_extension": ".py",
   "mimetype": "text/x-python",
   "name": "python",
   "nbconvert_exporter": "python",
   "pygments_lexer": "ipython3",
   "version": "3.7.3"
  }
 },
 "nbformat": 4,
 "nbformat_minor": 2
}

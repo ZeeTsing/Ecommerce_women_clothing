{
 "cells": [
  {
   "cell_type": "code",
   "execution_count": 37,
   "metadata": {},
   "outputs": [],
   "source": [
    "import numpy as np\n",
    "import pandas as pd\n",
    "import seaborn as sns\n",
    "import matplotlib.pyplot as plt\n",
    "from collections import Counter\n",
    "import random\n",
    "from sklearn.metrics import accuracy_score, f1_score,roc_auc_score,accuracy_score, confusion_matrix, roc_curve"
   ]
  },
  {
   "cell_type": "code",
   "execution_count": 7,
   "metadata": {},
   "outputs": [],
   "source": [
    "df = pd.read_pickle('cleaned_df.pkl')\n",
    "seed = 123"
   ]
  },
  {
   "cell_type": "code",
   "execution_count": 3,
   "metadata": {},
   "outputs": [
    {
     "data": {
      "text/html": [
       "<div>\n",
       "<style scoped>\n",
       "    .dataframe tbody tr th:only-of-type {\n",
       "        vertical-align: middle;\n",
       "    }\n",
       "\n",
       "    .dataframe tbody tr th {\n",
       "        vertical-align: top;\n",
       "    }\n",
       "\n",
       "    .dataframe thead th {\n",
       "        text-align: right;\n",
       "    }\n",
       "</style>\n",
       "<table border=\"1\" class=\"dataframe\">\n",
       "  <thead>\n",
       "    <tr style=\"text-align: right;\">\n",
       "      <th></th>\n",
       "      <th>clothing_ID</th>\n",
       "      <th>Age</th>\n",
       "      <th>Title</th>\n",
       "      <th>Text</th>\n",
       "      <th>review_len</th>\n",
       "      <th>Positive_fb_count</th>\n",
       "      <th>Division</th>\n",
       "      <th>Department</th>\n",
       "      <th>Class</th>\n",
       "      <th>Positively_rated</th>\n",
       "      <th>Reco</th>\n",
       "    </tr>\n",
       "    <tr>\n",
       "      <th>original_ind</th>\n",
       "      <th></th>\n",
       "      <th></th>\n",
       "      <th></th>\n",
       "      <th></th>\n",
       "      <th></th>\n",
       "      <th></th>\n",
       "      <th></th>\n",
       "      <th></th>\n",
       "      <th></th>\n",
       "      <th></th>\n",
       "      <th></th>\n",
       "    </tr>\n",
       "  </thead>\n",
       "  <tbody>\n",
       "    <tr>\n",
       "      <th>0</th>\n",
       "      <td>767</td>\n",
       "      <td>33</td>\n",
       "      <td>absolutely wonderful</td>\n",
       "      <td>absolutely wonderful   silky and sexy and comf...</td>\n",
       "      <td>53</td>\n",
       "      <td>0</td>\n",
       "      <td>Initmates</td>\n",
       "      <td>Intimate</td>\n",
       "      <td>Intimates</td>\n",
       "      <td>1</td>\n",
       "      <td>1</td>\n",
       "    </tr>\n",
       "    <tr>\n",
       "      <th>1</th>\n",
       "      <td>1080</td>\n",
       "      <td>34</td>\n",
       "      <td>love this dress</td>\n",
       "      <td>love this dress   it s sooo pretty   i happene...</td>\n",
       "      <td>303</td>\n",
       "      <td>4</td>\n",
       "      <td>General</td>\n",
       "      <td>Dresses</td>\n",
       "      <td>Dresses</td>\n",
       "      <td>1</td>\n",
       "      <td>1</td>\n",
       "    </tr>\n",
       "    <tr>\n",
       "      <th>2</th>\n",
       "      <td>1077</td>\n",
       "      <td>60</td>\n",
       "      <td>some major design flaws</td>\n",
       "      <td>i had such high hopes for this dress and reall...</td>\n",
       "      <td>500</td>\n",
       "      <td>0</td>\n",
       "      <td>General</td>\n",
       "      <td>Dresses</td>\n",
       "      <td>Dresses</td>\n",
       "      <td>0</td>\n",
       "      <td>0</td>\n",
       "    </tr>\n",
       "    <tr>\n",
       "      <th>3</th>\n",
       "      <td>1049</td>\n",
       "      <td>50</td>\n",
       "      <td>my favorite buy</td>\n",
       "      <td>i love  love  love this jumpsuit  it s fun  fl...</td>\n",
       "      <td>124</td>\n",
       "      <td>0</td>\n",
       "      <td>General Petite</td>\n",
       "      <td>Bottoms</td>\n",
       "      <td>Pants</td>\n",
       "      <td>1</td>\n",
       "      <td>1</td>\n",
       "    </tr>\n",
       "    <tr>\n",
       "      <th>4</th>\n",
       "      <td>847</td>\n",
       "      <td>47</td>\n",
       "      <td>flattering shirt</td>\n",
       "      <td>this shirt is very flattering to all due to th...</td>\n",
       "      <td>192</td>\n",
       "      <td>6</td>\n",
       "      <td>General</td>\n",
       "      <td>Tops</td>\n",
       "      <td>Blouses</td>\n",
       "      <td>1</td>\n",
       "      <td>1</td>\n",
       "    </tr>\n",
       "  </tbody>\n",
       "</table>\n",
       "</div>"
      ],
      "text/plain": [
       "              clothing_ID  Age                    Title  \\\n",
       "original_ind                                              \n",
       "0                     767   33   absolutely wonderful     \n",
       "1                    1080   34         love this dress    \n",
       "2                    1077   60  some major design flaws   \n",
       "3                    1049   50         my favorite buy    \n",
       "4                     847   47         flattering shirt   \n",
       "\n",
       "                                                           Text  review_len  \\\n",
       "original_ind                                                                  \n",
       "0             absolutely wonderful   silky and sexy and comf...          53   \n",
       "1             love this dress   it s sooo pretty   i happene...         303   \n",
       "2             i had such high hopes for this dress and reall...         500   \n",
       "3             i love  love  love this jumpsuit  it s fun  fl...         124   \n",
       "4             this shirt is very flattering to all due to th...         192   \n",
       "\n",
       "              Positive_fb_count        Division Department      Class  \\\n",
       "original_ind                                                            \n",
       "0                             0       Initmates   Intimate  Intimates   \n",
       "1                             4         General    Dresses    Dresses   \n",
       "2                             0         General    Dresses    Dresses   \n",
       "3                             0  General Petite    Bottoms      Pants   \n",
       "4                             6         General       Tops    Blouses   \n",
       "\n",
       "              Positively_rated  Reco  \n",
       "original_ind                          \n",
       "0                            1     1  \n",
       "1                            1     1  \n",
       "2                            0     0  \n",
       "3                            1     1  \n",
       "4                            1     1  "
      ]
     },
     "execution_count": 3,
     "metadata": {},
     "output_type": "execute_result"
    }
   ],
   "source": [
    "df.head()"
   ]
  },
  {
   "cell_type": "code",
   "execution_count": 8,
   "metadata": {},
   "outputs": [],
   "source": [
    "#define our own train test split, as I wish to keep the train/test as seperate data frames for easy reference\n",
    "def train_test_split_df (df,test_size = 0.2):\n",
    "    idx = list(df.index)\n",
    "    random.Random(seed).shuffle(idx)\n",
    "    test_len = int(test_size * len(df))\n",
    "    return df.loc[idx[test_len:]],df.loc[idx[:test_len]]"
   ]
  },
  {
   "cell_type": "code",
   "execution_count": 9,
   "metadata": {},
   "outputs": [],
   "source": [
    "data_train,data_test = train_test_split_df(df)"
   ]
  },
  {
   "cell_type": "code",
   "execution_count": 10,
   "metadata": {},
   "outputs": [],
   "source": [
    "data_train.to_pickle('train_set.pkl')\n",
    "data_test.to_pickle('test_set.pkl')"
   ]
  },
  {
   "cell_type": "code",
   "execution_count": 11,
   "metadata": {},
   "outputs": [],
   "source": [
    "columns_to_keep = ['clothing_ID','Age','review_len','Positive_fb_count','Division','Department','Class']\n",
    "categorical_features = ['Division','Department','Class']\n",
    "data_train_features_only_wo_text = data_train[columns_to_keep]"
   ]
  },
  {
   "cell_type": "code",
   "execution_count": 12,
   "metadata": {},
   "outputs": [],
   "source": [
    "data_train_features_only_dummied = pd.get_dummies(data_train_features_only_wo_text,categorical_features)"
   ]
  },
  {
   "cell_type": "code",
   "execution_count": 13,
   "metadata": {},
   "outputs": [],
   "source": [
    "data_test_features_only_wo_text = data_train[columns_to_keep]\n",
    "data_test_features_only_dummied = pd.get_dummies(data_test_features_only_wo_text,categorical_features)"
   ]
  },
  {
   "cell_type": "markdown",
   "metadata": {},
   "source": [
    "We will start with our first bag of words model without any lemmatization and stopwords removal"
   ]
  },
  {
   "cell_type": "code",
   "execution_count": 14,
   "metadata": {},
   "outputs": [],
   "source": [
    "from sklearn.model_selection import train_test_split\n",
    "\n",
    "# Split data into training and validation set\n",
    "X_train, X_val, y_train, y_val = train_test_split(data_train.Text, \n",
    "                                                    data_train.Positively_rated, test_size=0.25,\n",
    "                                                    random_state=0)"
   ]
  },
  {
   "cell_type": "code",
   "execution_count": 15,
   "metadata": {},
   "outputs": [],
   "source": [
    "from sklearn.feature_extraction.text import CountVectorizer\n",
    "\n",
    "# Fit the CountVectorizer to the training data (Bag of Words model)\n",
    "vect = CountVectorizer().fit(X_train)"
   ]
  },
  {
   "cell_type": "code",
   "execution_count": 16,
   "metadata": {},
   "outputs": [
    {
     "data": {
      "text/plain": [
       "['00',\n",
       " 'ate',\n",
       " 'charlie',\n",
       " 'designed',\n",
       " 'filigree',\n",
       " 'host',\n",
       " 'loungers',\n",
       " 'ot',\n",
       " 'raves',\n",
       " 'shrunk',\n",
       " 'tangerine',\n",
       " 'war']"
      ]
     },
     "execution_count": 16,
     "metadata": {},
     "output_type": "execute_result"
    }
   ],
   "source": [
    "vect.get_feature_names()[::1000]"
   ]
  },
  {
   "cell_type": "code",
   "execution_count": 17,
   "metadata": {},
   "outputs": [
    {
     "data": {
      "text/plain": [
       "11458"
      ]
     },
     "execution_count": 17,
     "metadata": {},
     "output_type": "execute_result"
    }
   ],
   "source": [
    "len(vect.get_feature_names())"
   ]
  },
  {
   "cell_type": "code",
   "execution_count": 111,
   "metadata": {},
   "outputs": [],
   "source": [
    "# transform the documents in the training data to a document-term matrix\n",
    "X_train_vectorized = vect.transform(X_train).toarray()\n",
    "X_train_add = data_train_features_only_dummied.loc[list(X_train.index)].to_numpy()\n",
    "X_train_vect_stack = np.hstack((X_train_vectorized,X_train_add))"
   ]
  },
  {
   "cell_type": "code",
   "execution_count": 35,
   "metadata": {},
   "outputs": [],
   "source": [
    "def model_fit_train_score (model,x_train,y_train,x_val,y_val):\n",
    "    '''This function takes in five arguments:model (model object), X_train, y_train, X_test_val,y_val\n",
    "    The data will be fitted using the model passed in by the user\n",
    "    It returns the fitted model object and Accuracy score as well as F1 score and AUC (area under curve)'''\n",
    "    model.fit(x_train,y_train)\n",
    "    y_pred = model.predict(x_val)\n",
    "    predictions = model.predict_proba(x_val)\n",
    "    \n",
    "    keys = ['predictions','predict_proba','Accuracy','F1','AUC']\n",
    "    \n",
    "    results_dict = dict.fromkeys(keys)\n",
    "    results_dict['predictions'] = y_pred\n",
    "    results_dict['predict_proba'] = predictions[:,1]\n",
    "    results_dict['Accuracy'] = accuracy_score(y_true=y_val, y_pred=y_pred)\n",
    "    results_dict['F1'] = f1_score(y_true=y_val, y_pred=y_pred)\n",
    "    results_dict['AUC'] = roc_auc_score(y_val, predictions[:,1])\n",
    "    \n",
    "    return model,results_dict"
   ]
  },
  {
   "cell_type": "code",
   "execution_count": null,
   "metadata": {},
   "outputs": [],
   "source": [
    "#X_val need to be treated the same as X_train\n",
    "X_val_vectorized = vect.transform(X_val).toarray()\n",
    "X_val_add = data_train_features_only_dummied.loc[list(X_val.index)].to_numpy()\n",
    "X_val_vect_stack = np.hstack((X_val_vectorized,X_val_add))"
   ]
  },
  {
   "cell_type": "code",
   "execution_count": 80,
   "metadata": {},
   "outputs": [
    {
     "name": "stderr",
     "output_type": "stream",
     "text": [
      "C:\\Users\\Zhiqing\\Anaconda3\\lib\\site-packages\\sklearn\\linear_model\\_logistic.py:940: ConvergenceWarning: lbfgs failed to converge (status=1):\n",
      "STOP: TOTAL NO. of ITERATIONS REACHED LIMIT.\n",
      "\n",
      "Increase the number of iterations (max_iter) or scale the data as shown in:\n",
      "    https://scikit-learn.org/stable/modules/preprocessing.html\n",
      "Please also refer to the documentation for alternative solver options:\n",
      "    https://scikit-learn.org/stable/modules/linear_model.html#logistic-regression\n",
      "  extra_warning_msg=_LOGISTIC_SOLVER_CONVERGENCE_MSG)\n"
     ]
    }
   ],
   "source": [
    "from sklearn.linear_model import LogisticRegression\n",
    "\n",
    "# Train the model\n",
    "model = LogisticRegression()\n",
    "\n",
    "fitted_model,results = model_fit_train_score(model,X_train_vect_stack, y_train,X_val_vect_stack,y_val)"
   ]
  },
  {
   "cell_type": "code",
   "execution_count": 46,
   "metadata": {},
   "outputs": [
    {
     "name": "stdout",
     "output_type": "stream",
     "text": [
      "Accuracy: 0.830 \n",
      "F1 score: 0.895 \n",
      "AUC score: 0.860\n"
     ]
    }
   ],
   "source": [
    "print(f\"Accuracy: {results['Accuracy']:.3f} \\nF1 score: {results['F1']:.3f} \\nAUC score: {results['AUC']:.3f}\")"
   ]
  },
  {
   "cell_type": "code",
   "execution_count": 28,
   "metadata": {},
   "outputs": [],
   "source": [
    "def print_confusion_matrix(confusion_matrix, class_names, figsize = (10,7), fontsize=10):\n",
    "    \"\"\"Prints a confusion matrix, as returned by sklearn.metrics.confusion_matrix, as a heatmap.\n",
    "    \n",
    "    Arguments\n",
    "    ---------\n",
    "    confusion_matrix: numpy.ndarray\n",
    "        The numpy.ndarray object returned from a call to sklearn.metrics.confusion_matrix. \n",
    "        Similarly constructed ndarrays can also be used.\n",
    "    class_names: list\n",
    "        An ordered list of class names, in the order they index the given confusion matrix.\n",
    "    figsize: tuple\n",
    "        A 2-long tuple, the first value determining the horizontal size of the ouputted figure,\n",
    "        the second determining the vertical size. Defaults to (10,7).\n",
    "    fontsize: int\n",
    "        Font size for axes labels. Defaults to 14.\n",
    "        \n",
    "    Returns\n",
    "    -------\n",
    "    matplotlib.figure.Figure\n",
    "        The resulting confusion matrix figure\n",
    "    \"\"\"\n",
    "    df_cm = pd.DataFrame(confusion_matrix, index=class_names, columns=class_names, )\n",
    "    fig = plt.figure(figsize=figsize)\n",
    "    try:\n",
    "        heatmap = sns.heatmap(df_cm, annot=True, fmt=\"d\",cmap = 'Greens')\n",
    "    except ValueError:\n",
    "        raise ValueError(\"Confusion matrix values must be integers.\")\n",
    "    heatmap.yaxis.set_ticklabels(heatmap.yaxis.get_ticklabels(), rotation=0, ha='right', fontsize=fontsize)\n",
    "    heatmap.xaxis.set_ticklabels(heatmap.xaxis.get_ticklabels(), rotation=45, ha='right', fontsize=fontsize)\n",
    "    plt.ylabel('True label')\n",
    "    plt.xlabel('Predicted label')\n",
    "    return fig"
   ]
  },
  {
   "cell_type": "code",
   "execution_count": 47,
   "metadata": {},
   "outputs": [
    {
     "data": {
      "image/png": "[encoded data removed]",
      "text/plain": [
       "<Figure size 720x504 with 2 Axes>"
      ]
     },
     "metadata": {
      "needs_background": "light"
     },
     "output_type": "display_data"
    }
   ],
   "source": [
    "conf_mat = confusion_matrix(y_true=y_val, y_pred=results['predictions'])\n",
    "cm = print_confusion_matrix(conf_mat, ['Negative', 'Positive'])"
   ]
  },
  {
   "cell_type": "markdown",
   "metadata": {},
   "source": [
    "For this project we will maximize accuracy because we want to identify negative and positive comments respectively\n"
   ]
  },
  {
   "cell_type": "code",
   "execution_count": 70,
   "metadata": {},
   "outputs": [],
   "source": [
    "def plot_ROC(y_true,y_proba,AUC,figsize = (7,5),color = 'darkturquoise',title='ROC Curve'):\n",
    "    '''Helper function to plot ROC graph'''\n",
    "    fpr, tpr, thresholds = roc_curve(y_true, y_proba)\n",
    "    #set size\n",
    "    plt.figure(figsize=figsize)\n",
    "    #plot\n",
    "    plt.plot(fpr, tpr,lw=2,c=color,label = f\"AUC: {AUC:.2f}\")\n",
    "    #adjustments\n",
    "    plt.plot([0,1],[0,1],c='grey',ls='--')\n",
    "    plt.legend()\n",
    "    plt.xlim([-0.05,1.05])\n",
    "    plt.ylim([-0.05,1.05])\n",
    "    plt.xlabel('False positive rate')\n",
    "    plt.ylabel('True positive rate')\n",
    "    plt.title(title);"
   ]
  },
  {
   "cell_type": "code",
   "execution_count": 79,
   "metadata": {},
   "outputs": [
    {
     "data": {
      "image/png": "[encoded data removed]",
      "text/plain": [
       "<Figure size 504x360 with 1 Axes>"
      ]
     },
     "metadata": {
      "needs_background": "light"
     },
     "output_type": "display_data"
    }
   ],
   "source": [
    "plot_ROC(y_val,results['predict_proba'],results['AUC'])\n",
    "plt.savefig(\"ROC_curve_1st_model_w_all_features.png\")"
   ]
  },
  {
   "cell_type": "markdown",
   "metadata": {},
   "source": [
    "Now let's try to fit the model using just the text component and throw away all the other features"
   ]
  },
  {
   "cell_type": "code",
   "execution_count": 74,
   "metadata": {},
   "outputs": [],
   "source": [
    "model = LogisticRegression()"
   ]
  },
  {
   "cell_type": "code",
   "execution_count": 75,
   "metadata": {},
   "outputs": [
    {
     "name": "stderr",
     "output_type": "stream",
     "text": [
      "C:\\Users\\Zhiqing\\Anaconda3\\lib\\site-packages\\sklearn\\linear_model\\_logistic.py:940: ConvergenceWarning: lbfgs failed to converge (status=1):\n",
      "STOP: TOTAL NO. of ITERATIONS REACHED LIMIT.\n",
      "\n",
      "Increase the number of iterations (max_iter) or scale the data as shown in:\n",
      "    https://scikit-learn.org/stable/modules/preprocessing.html\n",
      "Please also refer to the documentation for alternative solver options:\n",
      "    https://scikit-learn.org/stable/modules/linear_model.html#logistic-regression\n",
      "  extra_warning_msg=_LOGISTIC_SOLVER_CONVERGENCE_MSG)\n"
     ]
    }
   ],
   "source": [
    "fitted_model,results = model_fit_train_score(model,X_train_vectorized, y_train,X_val_vectorized,y_val)"
   ]
  },
  {
   "cell_type": "code",
   "execution_count": 76,
   "metadata": {},
   "outputs": [
    {
     "name": "stdout",
     "output_type": "stream",
     "text": [
      "Accuracy: 0.869 \n",
      "F1 score: 0.916 \n",
      "AUC score: 0.912\n"
     ]
    }
   ],
   "source": [
    "print(f\"Accuracy: {results['Accuracy']:.3f} \\nF1 score: {results['F1']:.3f} \\nAUC score: {results['AUC']:.3f}\")"
   ]
  },
  {
   "cell_type": "code",
   "execution_count": 77,
   "metadata": {},
   "outputs": [
    {
     "data": {
      "image/png": "[encoded data removed]",
      "text/plain": [
       "<Figure size 720x504 with 2 Axes>"
      ]
     },
     "metadata": {
      "needs_background": "light"
     },
     "output_type": "display_data"
    }
   ],
   "source": [
    "conf_mat = confusion_matrix(y_true=y_val, y_pred=results['predictions'])\n",
    "cm = print_confusion_matrix(conf_mat, ['Negative', 'Positive'])"
   ]
  },
  {
   "cell_type": "code",
   "execution_count": 78,
   "metadata": {},
   "outputs": [
    {
     "data": {
      "image/png": "[encoded data removed]",
      "text/plain": [
       "<Figure size 504x360 with 1 Axes>"
      ]
     },
     "metadata": {
      "needs_background": "light"
     },
     "output_type": "display_data"
    }
   ],
   "source": [
    "plot_ROC(y_val,results['predict_proba'],results['AUC'])"
   ]
  },
  {
   "cell_type": "markdown",
   "metadata": {},
   "source": [
    "It is quite a surprising finding, it shows that when we only fit the logistic regression model with the review textx only, the model performance improves by reading AUC score..\n",
    "\n",
    "Let's see if we need to keep the other features other than review by looking at the feature importance/ ranking from logistic model and random forest"
   ]
  },
  {
   "cell_type": "code",
   "execution_count": 81,
   "metadata": {},
   "outputs": [],
   "source": [
    "model = LogisticRegression()\n",
    "fitted_model,results = model_fit_train_score(model,X_train_add, y_train,X_val_add,y_val)"
   ]
  },
  {
   "cell_type": "code",
   "execution_count": 82,
   "metadata": {},
   "outputs": [
    {
     "name": "stdout",
     "output_type": "stream",
     "text": [
      "Accuracy: 0.767 \n",
      "F1 score: 0.868 \n",
      "AUC score: 0.561\n"
     ]
    }
   ],
   "source": [
    "print(f\"Accuracy: {results['Accuracy']:.3f} \\nF1 score: {results['F1']:.3f} \\nAUC score: {results['AUC']:.3f}\")"
   ]
  },
  {
   "cell_type": "code",
   "execution_count": 83,
   "metadata": {},
   "outputs": [
    {
     "data": {
      "image/png": "[encoded data removed]",
      "text/plain": [
       "<Figure size 720x504 with 2 Axes>"
      ]
     },
     "metadata": {
      "needs_background": "light"
     },
     "output_type": "display_data"
    }
   ],
   "source": [
    "conf_mat = confusion_matrix(y_true=y_val, y_pred=results['predictions'])\n",
    "cm = print_confusion_matrix(conf_mat, ['Negative', 'Positive'])"
   ]
  },
  {
   "cell_type": "code",
   "execution_count": 84,
   "metadata": {},
   "outputs": [
    {
     "data": {
      "image/png": "[encoded data removed]",
      "text/plain": [
       "<Figure size 504x360 with 1 Axes>"
      ]
     },
     "metadata": {
      "needs_background": "light"
     },
     "output_type": "display_data"
    }
   ],
   "source": [
    "plot_ROC(y_val,results['predict_proba'],results['AUC'])"
   ]
  },
  {
   "cell_type": "markdown",
   "metadata": {},
   "source": [
    "This model performs slightly better than a random guess.. Let's see what is the most importance feature"
   ]
  },
  {
   "cell_type": "code",
   "execution_count": 85,
   "metadata": {},
   "outputs": [
    {
     "data": {
      "text/plain": [
       "array([[ 0.00080608,  0.00991823, -0.00059365, -0.01683983,  0.29137688,\n",
       "        -0.00956062,  0.03067579,  0.31652341, -0.10889516,  0.12248189,\n",
       "        -0.06278421,  0.07074864, -0.03819385,  0.01261134,  0.02916623,\n",
       "        -0.10889516, -0.01853184, -0.04028818,  0.003896  ,  0.01227683,\n",
       "         0.10796285, -0.0631013 , -0.02103325,  0.03670926,  0.0663256 ,\n",
       "         0.0584718 ,  0.03974682, -0.03819385,  0.10112685,  0.04255263,\n",
       "         0.05909376,  0.04193453,  0.00182638,  0.00144609]])"
      ]
     },
     "execution_count": 85,
     "metadata": {},
     "output_type": "execute_result"
    }
   ],
   "source": [
    "fitted_model.coef_"
   ]
  },
  {
   "cell_type": "code",
   "execution_count": 87,
   "metadata": {},
   "outputs": [
    {
     "name": "stdout",
     "output_type": "stream",
     "text": [
      "Smallest Coefs:\n",
      "['Department_Dresses' 'Class_Dresses' 'Class_Sweaters' 'Department_Tops'\n",
      " 'Class_Blouses' 'Class_Trend' 'Department_Trend' 'Class_Skirts'\n",
      " 'Class_Pants' 'Positive_fb_count']\n",
      "\n",
      "Largest Coefs: \n",
      "['Department_Intimate' 'Division_Initmates' 'Department_Bottoms'\n",
      " 'Class_Lounge' 'Class_Jeans' 'Department_Jackets' 'Class_Sleep'\n",
      " 'Class_Shorts' 'Class_Jackets' 'Class_Legwear']\n"
     ]
    }
   ],
   "source": [
    "feature_names = np.array(data_train_features_only_dummied.columns)\n",
    "\n",
    "# Sort the coefficients from the model\n",
    "sorted_coef_index = model.coef_[0].argsort()\n",
    "\n",
    "# Find the 10 smallest and 10 largest coefficients\n",
    "# The 10 largest coefficients are being indexed using [:-11:-1] \n",
    "# so the list returned is in order of largest to smallest\n",
    "print('Smallest Coefs:\\n{}\\n'.format(feature_names[sorted_coef_index[:10]]))\n",
    "print('Largest Coefs: \\n{}'.format(feature_names[sorted_coef_index[:-11:-1]]))"
   ]
  },
  {
   "cell_type": "code",
   "execution_count": 88,
   "metadata": {},
   "outputs": [
    {
     "data": {
      "text/plain": [
       "34"
      ]
     },
     "execution_count": 88,
     "metadata": {},
     "output_type": "execute_result"
    }
   ],
   "source": [
    "len(feature_names)"
   ]
  },
  {
   "cell_type": "code",
   "execution_count": 90,
   "metadata": {},
   "outputs": [],
   "source": [
    "from sklearn.ensemble import RandomForestClassifier\n",
    "model = RandomForestClassifier()"
   ]
  },
  {
   "cell_type": "code",
   "execution_count": 91,
   "metadata": {},
   "outputs": [],
   "source": [
    "fitted_model,results = model_fit_train_score(model,X_train_add, y_train,X_val_add,y_val)"
   ]
  },
  {
   "cell_type": "code",
   "execution_count": 92,
   "metadata": {},
   "outputs": [
    {
     "name": "stdout",
     "output_type": "stream",
     "text": [
      "Accuracy: 0.741 \n",
      "F1 score: 0.847 \n",
      "AUC score: 0.566\n"
     ]
    }
   ],
   "source": [
    "print(f\"Accuracy: {results['Accuracy']:.3f} \\nF1 score: {results['F1']:.3f} \\nAUC score: {results['AUC']:.3f}\")"
   ]
  },
  {
   "cell_type": "code",
   "execution_count": 94,
   "metadata": {},
   "outputs": [],
   "source": [
    "sorted_impt_index = fitted_model.feature_importances_.argsort()"
   ]
  },
  {
   "cell_type": "code",
   "execution_count": 99,
   "metadata": {},
   "outputs": [
    {
     "name": "stdout",
     "output_type": "stream",
     "text": [
      "Most important features: \n",
      "['review_len' 'Age' 'clothing_ID' 'Positive_fb_count' 'Division_General'\n",
      " 'Division_General Petite' 'Class_Knits' 'Class_Blouses' 'Class_Sweaters']\n"
     ]
    }
   ],
   "source": [
    "print('Most important features: \\n{}'.format(feature_names[sorted_impt_index[:-10:-1]]))"
   ]
  },
  {
   "cell_type": "markdown",
   "metadata": {},
   "source": [
    "Let's try to add the features one by one to the review text\n",
    "\n",
    "Starting with the most importance found in random forest model"
   ]
  },
  {
   "cell_type": "code",
   "execution_count": 115,
   "metadata": {},
   "outputs": [],
   "source": [
    "# transform the documents in the training data to a document-term matrix\n",
    "X_train_to_add = data_train_features_only_dummied.loc[list(X_train.index),'review_len'].to_numpy().reshape((13584,1))\n",
    "X_train_vect_stack_1 = np.hstack((X_train_vectorized,X_train_to_add))"
   ]
  },
  {
   "cell_type": "code",
   "execution_count": 113,
   "metadata": {},
   "outputs": [],
   "source": [
    "X_val_to_add = data_train_features_only_dummied.loc[list(X_val.index),\"review_len\"].to_numpy().reshape((4529,1))\n",
    "X_val_vect_stack_1 = np.hstack((X_val_vectorized,X_val_to_add))"
   ]
  },
  {
   "cell_type": "code",
   "execution_count": 117,
   "metadata": {},
   "outputs": [
    {
     "name": "stderr",
     "output_type": "stream",
     "text": [
      "C:\\Users\\Zhiqing\\Anaconda3\\lib\\site-packages\\sklearn\\linear_model\\_logistic.py:940: ConvergenceWarning: lbfgs failed to converge (status=1):\n",
      "STOP: TOTAL NO. of ITERATIONS REACHED LIMIT.\n",
      "\n",
      "Increase the number of iterations (max_iter) or scale the data as shown in:\n",
      "    https://scikit-learn.org/stable/modules/preprocessing.html\n",
      "Please also refer to the documentation for alternative solver options:\n",
      "    https://scikit-learn.org/stable/modules/linear_model.html#logistic-regression\n",
      "  extra_warning_msg=_LOGISTIC_SOLVER_CONVERGENCE_MSG)\n"
     ]
    }
   ],
   "source": [
    "model = LogisticRegression()\n",
    "fitted_model,results = model_fit_train_score(model,X_train_vect_stack_1, y_train,X_val_vect_stack_1,y_val)"
   ]
  },
  {
   "cell_type": "code",
   "execution_count": 118,
   "metadata": {},
   "outputs": [
    {
     "name": "stdout",
     "output_type": "stream",
     "text": [
      "Accuracy: 0.854 \n",
      "F1 score: 0.909 \n",
      "AUC score: 0.897\n"
     ]
    }
   ],
   "source": [
    "print(f\"Accuracy: {results['Accuracy']:.3f} \\nF1 score: {results['F1']:.3f} \\nAUC score: {results['AUC']:.3f}\")"
   ]
  },
  {
   "cell_type": "markdown",
   "metadata": {},
   "source": [
    "The model still performs worse than the text alone;\n",
    "\n",
    "We will focus on using only the text for sentiment reviews\n",
    "\n",
    "What about recommendation?"
   ]
  },
  {
   "cell_type": "code",
   "execution_count": 125,
   "metadata": {},
   "outputs": [],
   "source": [
    "y2_train = data_train.loc[list(y_train.index),\"Reco\"]\n",
    "y2_val = data_train.loc[list(y_val.index),\"Reco\"]"
   ]
  },
  {
   "cell_type": "code",
   "execution_count": 126,
   "metadata": {},
   "outputs": [
    {
     "name": "stderr",
     "output_type": "stream",
     "text": [
      "C:\\Users\\Zhiqing\\Anaconda3\\lib\\site-packages\\sklearn\\linear_model\\_logistic.py:940: ConvergenceWarning: lbfgs failed to converge (status=1):\n",
      "STOP: TOTAL NO. of ITERATIONS REACHED LIMIT.\n",
      "\n",
      "Increase the number of iterations (max_iter) or scale the data as shown in:\n",
      "    https://scikit-learn.org/stable/modules/preprocessing.html\n",
      "Please also refer to the documentation for alternative solver options:\n",
      "    https://scikit-learn.org/stable/modules/linear_model.html#logistic-regression\n",
      "  extra_warning_msg=_LOGISTIC_SOLVER_CONVERGENCE_MSG)\n"
     ]
    }
   ],
   "source": [
    "model = LogisticRegression()\n",
    "fitted_model,results = model_fit_train_score(model,X_train_vectorized, y2_train,X_val_vectorized,y2_val)"
   ]
  },
  {
   "cell_type": "code",
   "execution_count": 127,
   "metadata": {},
   "outputs": [
    {
     "name": "stdout",
     "output_type": "stream",
     "text": [
      "Accuracy: 0.887 \n",
      "F1 score: 0.932 \n",
      "AUC score: 0.915\n"
     ]
    }
   ],
   "source": [
    "print(f\"Accuracy: {results['Accuracy']:.3f} \\nF1 score: {results['F1']:.3f} \\nAUC score: {results['AUC']:.3f}\")"
   ]
  },
  {
   "cell_type": "code",
   "execution_count": 128,
   "metadata": {},
   "outputs": [
    {
     "data": {
      "image/png": "[encoded data removed]",
      "text/plain": [
       "<Figure size 720x504 with 2 Axes>"
      ]
     },
     "metadata": {
      "needs_background": "light"
     },
     "output_type": "display_data"
    }
   ],
   "source": [
    "conf_mat = confusion_matrix(y_true=y_val, y_pred=results['predictions'])\n",
    "cm = print_confusion_matrix(conf_mat, ['Negative', 'Positive'])"
   ]
  },
  {
   "cell_type": "markdown",
   "metadata": {},
   "source": [
    "Recommendation is quite similar to the rating, let's focus our effort on maximizing performance for rating for now.. and we will check the reco once we have time"
   ]
  },
  {
   "cell_type": "code",
   "execution_count": 141,
   "metadata": {},
   "outputs": [],
   "source": [
    "from sklearn.linear_model import LogisticRegressionCV\n",
    "paras = {'Cs':[0.1,0.5,1,5,10],'cv':5,'penalty':['l1', 'l2', 'elasticnet'],\"max_iter\":[100,500],\"random_state\":seed,\n",
    "         \"multi_class\":\"ovr\"}\n"
   ]
  },
  {
   "cell_type": "code",
   "execution_count": 145,
   "metadata": {},
   "outputs": [],
   "source": [
    "model = LogisticRegressionCV(Cs = [0.1,0.5,1,5,10],cv = 5,penalty =  'l2',max_iter = 500,random_state = seed,\n",
    "         multi_class = 'ovr')"
   ]
  },
  {
   "cell_type": "code",
   "execution_count": null,
   "metadata": {},
   "outputs": [
    {
     "name": "stderr",
     "output_type": "stream",
     "text": [
      "C:\\Users\\Zhiqing\\Anaconda3\\lib\\site-packages\\sklearn\\linear_model\\_logistic.py:940: ConvergenceWarning: lbfgs failed to converge (status=1):\n",
      "STOP: TOTAL NO. of ITERATIONS REACHED LIMIT.\n",
      "\n",
      "Increase the number of iterations (max_iter) or scale the data as shown in:\n",
      "    https://scikit-learn.org/stable/modules/preprocessing.html\n",
      "Please also refer to the documentation for alternative solver options:\n",
      "    https://scikit-learn.org/stable/modules/linear_model.html#logistic-regression\n",
      "  extra_warning_msg=_LOGISTIC_SOLVER_CONVERGENCE_MSG)\n"
     ]
    }
   ],
   "source": [
    "fitted_model,results = model_fit_train_score(model,X_train_vectorized, y_train,X_val_vectorized,y_val)"
   ]
  },
  {
   "cell_type": "code",
   "execution_count": null,
   "metadata": {},
   "outputs": [],
   "source": []
  }
 ],
 "metadata": {
  "kernelspec": {
   "display_name": "Python 3",
   "language": "python",
   "name": "python3"
  },
  "language_info": {
   "codemirror_mode": {
    "name": "ipython",
    "version": 3
   },
   "file_extension": ".py",
   "mimetype": "text/x-python",
   "name": "python",
   "nbconvert_exporter": "python",
   "pygments_lexer": "ipython3",
   "version": "3.7.3"
  }
 },
 "nbformat": 4,
 "nbformat_minor": 2
}

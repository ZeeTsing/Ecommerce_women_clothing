{
 "cells": [
  {
   "cell_type": "code",
   "execution_count": 1,
   "metadata": {},
   "outputs": [],
   "source": [
    "import numpy as np\n",
    "import pandas as pd\n",
    "import seaborn as sns\n",
    "import matplotlib.pyplot as plt\n",
    "import random\n",
    "from sklearn.metrics import accuracy_score, f1_score,roc_auc_score,accuracy_score, confusion_matrix, roc_curve\n",
    "from sklearn.model_selection import StratifiedKFold\n",
    "from collections import defaultdict\n",
    "from sklearn.feature_extraction.text import TfidfVectorizer\n",
    "import helper_functions as hf\n",
    "from sklearn.linear_model import LogisticRegressionCV\n",
    "seed = 123\n",
    "from sklearn.svm import LinearSVC,SVC\n",
    "from sklearn.naive_bayes import MultinomialNB\n",
    "from sklearn.model_selection import GridSearchCV\n",
    "from sklearn.ensemble import RandomForestClassifier"
   ]
  },
  {
   "cell_type": "code",
   "execution_count": 2,
   "metadata": {},
   "outputs": [],
   "source": [
    "data_train = pd.read_pickle('train_set.pkl')\n",
    "data_test = pd.read_pickle('test_set.pkl')"
   ]
  },
  {
   "cell_type": "code",
   "execution_count": 3,
   "metadata": {},
   "outputs": [],
   "source": [
    "X = np.array(data_train.RAW_Text)\n",
    "y = np.array(data_train.Positively_rated)"
   ]
  },
  {
   "cell_type": "code",
   "execution_count": 7,
   "metadata": {},
   "outputs": [
    {
     "data": {
      "text/plain": [
       "(18113,)"
      ]
     },
     "execution_count": 7,
     "metadata": {},
     "output_type": "execute_result"
    }
   ],
   "source": [
    "X.shape"
   ]
  },
  {
   "cell_type": "code",
   "execution_count": 4,
   "metadata": {},
   "outputs": [],
   "source": [
    "import spacy\n",
    "import en_core_web_sm\n",
    "nlp2 = en_core_web_sm.load()"
   ]
  },
  {
   "cell_type": "code",
   "execution_count": null,
   "metadata": {},
   "outputs": [],
   "source": [
    "with nlp2.disable_pipes():\n",
    "    doc_vectors = np.array([nlp2(text).vector for text in X])"
   ]
  },
  {
   "cell_type": "code",
   "execution_count": 13,
   "metadata": {},
   "outputs": [
    {
     "data": {
      "text/plain": [
       "(18113, 96)"
      ]
     },
     "execution_count": 13,
     "metadata": {},
     "output_type": "execute_result"
    }
   ],
   "source": [
    "doc_vectors.shape"
   ]
  },
  {
   "cell_type": "code",
   "execution_count": 9,
   "metadata": {},
   "outputs": [
    {
     "data": {
      "text/plain": [
       "array([[-0.06839881,  0.49917546,  0.3466028 , -0.5722529 ,  1.7716508 ,\n",
       "        -0.03340167,  0.860545  ,  0.00988218,  0.98621637,  0.8129556 ,\n",
       "        -0.2191528 ,  0.06015332, -0.68227893, -0.2821764 , -0.3924308 ,\n",
       "        -0.07562292, -1.0181385 , -0.179397  , -0.8134333 , -0.29726607,\n",
       "         0.36450526,  0.08876623, -0.34658512, -0.35243672, -0.9508774 ,\n",
       "         1.1564338 , -0.63084066,  0.3920868 ,  0.6826346 , -0.73938125,\n",
       "         0.9411365 ,  0.38900703, -0.27723703, -0.5213536 ,  0.33099028,\n",
       "        -0.34149036,  0.11893742, -0.7945201 , -0.9216471 , -0.34951952,\n",
       "         0.8404143 ,  0.19083022, -0.22636835, -0.90206665,  0.43685365,\n",
       "        -0.30152026,  0.17588654,  0.19894703, -1.0928265 ,  0.95151967,\n",
       "         0.98478335, -0.52477807, -0.30216476,  0.5285495 , -1.1856889 ,\n",
       "         0.5172663 ,  0.90005916,  0.61878115, -0.2041543 ,  0.30676246,\n",
       "         1.083737  , -0.40366983,  1.5723639 ,  0.48888573,  0.5522548 ,\n",
       "        -0.33971676,  0.6842907 , -1.1423198 , -0.13829231,  0.38552034,\n",
       "        -0.04754798,  0.06714934, -0.07824782, -0.33399278, -0.6132836 ,\n",
       "        -0.11439118,  0.35410208, -0.24183641, -0.783496  , -0.4771598 ,\n",
       "        -0.19908114, -0.7908065 ,  0.48379633, -0.11624581,  0.43876925,\n",
       "        -0.03074374,  0.64718455,  0.5703058 , -0.25323746,  0.08978342,\n",
       "        -0.753648  , -0.17222758, -0.15427247,  0.88393307,  0.40355885,\n",
       "         0.4180637 ]], dtype=float32)"
      ]
     },
     "execution_count": 9,
     "metadata": {},
     "output_type": "execute_result"
    }
   ],
   "source": [
    "doc_vectors[:1]"
   ]
  },
  {
   "cell_type": "code",
   "execution_count": null,
   "metadata": {},
   "outputs": [],
   "source": [
    "nlp = spacy.load('en_core_web_lg')"
   ]
  },
  {
   "cell_type": "code",
   "execution_count": null,
   "metadata": {},
   "outputs": [],
   "source": [
    "with nlp.disable_pipes():\n",
    "    doc_vectors_lg = np.array([nlp(text).vector for text in X])"
   ]
  },
  {
   "cell_type": "code",
   "execution_count": null,
   "metadata": {},
   "outputs": [],
   "source": [
    "doc_vectors_lg.shape"
   ]
  },
  {
   "cell_type": "markdown",
   "metadata": {},
   "source": [
    "Let's try with the model given by en_core_web_lg, with dimension of 300"
   ]
  },
  {
   "cell_type": "code",
   "execution_count": null,
   "metadata": {},
   "outputs": [],
   "source": [
    "model = LogisticRegressionCV(Cs = [5,10,20],cv = 5,penalty =  'l2',max_iter = 500,random_state = seed,\n",
    "         multi_class = 'ovr')\n",
    "\n",
    "fitted_model,results = hf.model_fit_train_score_skf(model,doc_vectors_lg, y)"
   ]
  },
  {
   "cell_type": "code",
   "execution_count": null,
   "metadata": {},
   "outputs": [],
   "source": [
    "print(f\"Accuracy: {results['Accuracy_mean']:.3f} \\nF1 score: {results['F1_mean']:.3f} \\nAUC score: {results['AUC_mean']:.3f}\")"
   ]
  },
  {
   "cell_type": "code",
   "execution_count": null,
   "metadata": {},
   "outputs": [],
   "source": [
    "fitted_model.C_"
   ]
  },
  {
   "cell_type": "code",
   "execution_count": null,
   "metadata": {},
   "outputs": [],
   "source": [
    "import pickle\n",
    "file = open('output/text_embedding_LR.obj', 'wb') \n",
    "pickle.dump(fitted_model, file)\n",
    "file.close()"
   ]
  },
  {
   "cell_type": "code",
   "execution_count": null,
   "metadata": {},
   "outputs": [],
   "source": []
  },
  {
   "cell_type": "code",
   "execution_count": 7,
   "metadata": {},
   "outputs": [
    {
     "name": "stdout",
     "output_type": "stream",
     "text": [
      "Fitting 5 folds for each of 30 candidates, totalling 150 fits\n"
     ]
    },
    {
     "name": "stderr",
     "output_type": "stream",
     "text": [
      "[Parallel(n_jobs=-1)]: Using backend LokyBackend with 4 concurrent workers.\n",
      "[Parallel(n_jobs=-1)]: Done  42 tasks      | elapsed:    8.4s\n",
      "[Parallel(n_jobs=-1)]: Done 150 out of 150 | elapsed:   37.6s finished\n"
     ]
    }
   ],
   "source": [
    "clf = LinearSVC()\n",
    "parameters_SVC = {'C':[0.5,0.55,0.6,0.7,0.8], 'penalty':['l1','l2','elasticnet'],'loss':['hinge','squared_hinge'] \n",
    "                }\n",
    "clf_grid = GridSearchCV(estimator = clf, param_grid = parameters_SVC, verbose=1,n_jobs = -1,\n",
    "                        scoring='f1',cv = 5,\n",
    "                        return_train_score=True).fit(doc_vectors_lg, y)"
   ]
  },
  {
   "cell_type": "code",
   "execution_count": 46,
   "metadata": {},
   "outputs": [
    {
     "data": {
      "text/plain": [
       "LinearSVC(C=0.6, class_weight=None, dual=True, fit_intercept=True,\n",
       "          intercept_scaling=1, loss='squared_hinge', max_iter=1000,\n",
       "          multi_class='ovr', penalty='l2', random_state=None, tol=0.0001,\n",
       "          verbose=0)"
      ]
     },
     "execution_count": 46,
     "metadata": {},
     "output_type": "execute_result"
    }
   ],
   "source": [
    "clf_grid.best_estimator_"
   ]
  },
  {
   "cell_type": "code",
   "execution_count": 8,
   "metadata": {},
   "outputs": [],
   "source": [
    "best_SVC = eval(str(clf_grid.best_estimator_))"
   ]
  },
  {
   "cell_type": "code",
   "execution_count": 9,
   "metadata": {},
   "outputs": [
    {
     "name": "stdout",
     "output_type": "stream",
     "text": [
      "Accuracy: 0.865 \n",
      "F1 score: 0.916 \n"
     ]
    }
   ],
   "source": [
    "fitted_model,results = hf.model_fit_train_score_skf(best_SVC,doc_vectors_lg, y,predict_proba = False)\n",
    "print(f\"Accuracy: {results['Accuracy_mean']:.3f} \\nF1 score: {results['F1_mean']:.3f} \")"
   ]
  },
  {
   "cell_type": "code",
   "execution_count": 10,
   "metadata": {},
   "outputs": [
    {
     "data": {
      "image/png": "[encoded data removed]",
      "text/plain": [
       "<Figure size 720x504 with 2 Axes>"
      ]
     },
     "metadata": {
      "needs_background": "light"
     },
     "output_type": "display_data"
    }
   ],
   "source": [
    "conf_mat = confusion_matrix(y_true=results['y_val'][0], y_pred=results['predictions'][0])\n",
    "cm = hf.print_confusion_matrix(conf_mat, ['Negative', 'Positive'],cmap = 'viridis_r')\n",
    "plt.savefig('output\\SVC_embedding.png')"
   ]
  },
  {
   "cell_type": "code",
   "execution_count": 37,
   "metadata": {},
   "outputs": [
    {
     "name": "stdout",
     "output_type": "stream",
     "text": [
      "Fitting 5 folds for each of 4 candidates, totalling 20 fits\n"
     ]
    },
    {
     "name": "stderr",
     "output_type": "stream",
     "text": [
      "[Parallel(n_jobs=-1)]: Using backend LokyBackend with 4 concurrent workers.\n",
      "[Parallel(n_jobs=-1)]: Done  20 out of  20 | elapsed:  1.2min finished\n"
     ]
    }
   ],
   "source": [
    "clf = RandomForestClassifier()\n",
    "parameters_rf = {'n_estimators':[100],'min_samples_leaf':[1,5],'max_features':['int','auto']}\n",
    "clf_grid = GridSearchCV(estimator = clf, param_grid = parameters_rf, verbose=1,n_jobs = -1,\n",
    "                        scoring='f1',cv = 5,refit='AUC',\n",
    "                        return_train_score=True).fit(doc_vectors_lg, y)"
   ]
  },
  {
   "cell_type": "code",
   "execution_count": 38,
   "metadata": {},
   "outputs": [],
   "source": [
    "best_rf = eval(str(clf_grid.best_estimator_))"
   ]
  },
  {
   "cell_type": "code",
   "execution_count": 39,
   "metadata": {},
   "outputs": [],
   "source": [
    "fitted_model,results = hf.model_fit_train_score_skf(best_rf,doc_vectors_lg, y)"
   ]
  },
  {
   "cell_type": "code",
   "execution_count": 40,
   "metadata": {},
   "outputs": [
    {
     "name": "stdout",
     "output_type": "stream",
     "text": [
      "Accuracy: 0.820 \n",
      "F1 score: 0.893 \n",
      "AUC score: 0.858\n"
     ]
    }
   ],
   "source": [
    "print(f\"Accuracy: {results['Accuracy_mean']:.3f} \\nF1 score: {results['F1_mean']:.3f} \\nAUC score: {results['AUC_mean']:.3f}\")"
   ]
  },
  {
   "cell_type": "markdown",
   "metadata": {},
   "source": [
    "Now try to build model with the second model"
   ]
  },
  {
   "cell_type": "code",
   "execution_count": 41,
   "metadata": {},
   "outputs": [],
   "source": [
    "model = LogisticRegressionCV(Cs = [5,10,20],cv = 5,penalty =  'l2',max_iter = 500,random_state = seed,\n",
    "         multi_class = 'ovr')\n",
    "\n",
    "fitted_model,results = hf.model_fit_train_score_skf(model,doc_vectors, y)"
   ]
  },
  {
   "cell_type": "code",
   "execution_count": 43,
   "metadata": {},
   "outputs": [
    {
     "name": "stdout",
     "output_type": "stream",
     "text": [
      "Accuracy: 0.806 \n",
      "F1 score: 0.883 \n",
      "AUC score: 0.805\n"
     ]
    }
   ],
   "source": [
    "print(f\"Accuracy: {results['Accuracy_mean']:.3f} \\nF1 score: {results['F1_mean']:.3f} \\nAUC score: {results['AUC_mean']:.3f}\")"
   ]
  },
  {
   "cell_type": "code",
   "execution_count": 44,
   "metadata": {},
   "outputs": [
    {
     "data": {
      "text/plain": [
       "array([10])"
      ]
     },
     "execution_count": 44,
     "metadata": {},
     "output_type": "execute_result"
    }
   ],
   "source": [
    "fitted_model.C_"
   ]
  },
  {
   "cell_type": "markdown",
   "metadata": {},
   "source": [
    "Well it is just not as good as the pre-trained model as our dataset is too small\n",
    "\n",
    "Lastly we will do model performance evaluation on the 4 best model selected base on validation score"
   ]
  },
  {
   "cell_type": "code",
   "execution_count": null,
   "metadata": {},
   "outputs": [],
   "source": []
  }
 ],
 "metadata": {
  "kernelspec": {
   "display_name": "Python 3",
   "language": "python",
   "name": "python3"
  },
  "language_info": {
   "codemirror_mode": {
    "name": "ipython",
    "version": 3
   },
   "file_extension": ".py",
   "mimetype": "text/x-python",
   "name": "python",
   "nbconvert_exporter": "python",
   "pygments_lexer": "ipython3",
   "version": "3.7.3"
  }
 },
 "nbformat": 4,
 "nbformat_minor": 2
}

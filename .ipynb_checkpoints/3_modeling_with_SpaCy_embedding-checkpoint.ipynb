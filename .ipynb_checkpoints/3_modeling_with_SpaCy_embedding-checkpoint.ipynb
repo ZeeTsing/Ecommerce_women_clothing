{
 "cells": [
  {
   "cell_type": "code",
   "execution_count": 2,
   "metadata": {},
   "outputs": [],
   "source": [
    "import numpy as np\n",
    "import pandas as pd\n",
    "import seaborn as sns\n",
    "import matplotlib.pyplot as plt\n",
    "import random\n",
    "from sklearn.metrics import accuracy_score, f1_score,roc_auc_score,accuracy_score, confusion_matrix, roc_curve\n",
    "from sklearn.model_selection import StratifiedKFold\n",
    "from collections import defaultdict\n",
    "from sklearn.feature_extraction.text import TfidfVectorizer\n",
    "import helper_functions as hf\n",
    "from sklearn.linear_model import LogisticRegressionCV\n",
    "seed = 123"
   ]
  },
  {
   "cell_type": "code",
   "execution_count": 3,
   "metadata": {},
   "outputs": [],
   "source": [
    "data_train = pd.read_pickle('train_set.pkl')\n",
    "data_test = pd.read_pickle('test_set.pkl')"
   ]
  },
  {
   "cell_type": "code",
   "execution_count": 4,
   "metadata": {},
   "outputs": [],
   "source": [
    "X = np.array(data_train.RAW_Text)\n",
    "y = np.array(data_train.Positively_rated)"
   ]
  },
  {
   "cell_type": "code",
   "execution_count": 7,
   "metadata": {},
   "outputs": [
    {
     "data": {
      "text/plain": [
       "(18113,)"
      ]
     },
     "execution_count": 7,
     "metadata": {},
     "output_type": "execute_result"
    }
   ],
   "source": [
    "X.shape"
   ]
  },
  {
   "cell_type": "code",
   "execution_count": 9,
   "metadata": {},
   "outputs": [],
   "source": [
    "import spacy\n",
    "import en_core_web_sm\n",
    "nlp2 = en_core_web_sm.load()"
   ]
  },
  {
   "cell_type": "code",
   "execution_count": null,
   "metadata": {},
   "outputs": [],
   "source": [
    "with nlp2.disable_pipes():\n",
    "    doc_vectors = np.array([nlp2(text).vector for text in X])"
   ]
  },
  {
   "cell_type": "code",
   "execution_count": null,
   "metadata": {},
   "outputs": [],
   "source": [
    "doc_vectors.shape"
   ]
  },
  {
   "cell_type": "code",
   "execution_count": 9,
   "metadata": {},
   "outputs": [
    {
     "data": {
      "text/plain": [
       "array([[-0.06839881,  0.49917546,  0.3466028 , -0.5722529 ,  1.7716508 ,\n",
       "        -0.03340167,  0.860545  ,  0.00988218,  0.98621637,  0.8129556 ,\n",
       "        -0.2191528 ,  0.06015332, -0.68227893, -0.2821764 , -0.3924308 ,\n",
       "        -0.07562292, -1.0181385 , -0.179397  , -0.8134333 , -0.29726607,\n",
       "         0.36450526,  0.08876623, -0.34658512, -0.35243672, -0.9508774 ,\n",
       "         1.1564338 , -0.63084066,  0.3920868 ,  0.6826346 , -0.73938125,\n",
       "         0.9411365 ,  0.38900703, -0.27723703, -0.5213536 ,  0.33099028,\n",
       "        -0.34149036,  0.11893742, -0.7945201 , -0.9216471 , -0.34951952,\n",
       "         0.8404143 ,  0.19083022, -0.22636835, -0.90206665,  0.43685365,\n",
       "        -0.30152026,  0.17588654,  0.19894703, -1.0928265 ,  0.95151967,\n",
       "         0.98478335, -0.52477807, -0.30216476,  0.5285495 , -1.1856889 ,\n",
       "         0.5172663 ,  0.90005916,  0.61878115, -0.2041543 ,  0.30676246,\n",
       "         1.083737  , -0.40366983,  1.5723639 ,  0.48888573,  0.5522548 ,\n",
       "        -0.33971676,  0.6842907 , -1.1423198 , -0.13829231,  0.38552034,\n",
       "        -0.04754798,  0.06714934, -0.07824782, -0.33399278, -0.6132836 ,\n",
       "        -0.11439118,  0.35410208, -0.24183641, -0.783496  , -0.4771598 ,\n",
       "        -0.19908114, -0.7908065 ,  0.48379633, -0.11624581,  0.43876925,\n",
       "        -0.03074374,  0.64718455,  0.5703058 , -0.25323746,  0.08978342,\n",
       "        -0.753648  , -0.17222758, -0.15427247,  0.88393307,  0.40355885,\n",
       "         0.4180637 ]], dtype=float32)"
      ]
     },
     "execution_count": 9,
     "metadata": {},
     "output_type": "execute_result"
    }
   ],
   "source": [
    "doc_vectors[:1]"
   ]
  },
  {
   "cell_type": "code",
   "execution_count": 6,
   "metadata": {},
   "outputs": [],
   "source": [
    "nlp = spacy.load('en_core_web_lg')"
   ]
  },
  {
   "cell_type": "code",
   "execution_count": 7,
   "metadata": {},
   "outputs": [],
   "source": [
    "with nlp.disable_pipes():\n",
    "    doc_vectors_lg = np.array([nlp(text).vector for text in X])"
   ]
  },
  {
   "cell_type": "code",
   "execution_count": 8,
   "metadata": {},
   "outputs": [
    {
     "data": {
      "text/plain": [
       "(18113, 300)"
      ]
     },
     "execution_count": 8,
     "metadata": {},
     "output_type": "execute_result"
    }
   ],
   "source": [
    "doc_vectors_lg.shape"
   ]
  },
  {
   "cell_type": "code",
   "execution_count": null,
   "metadata": {},
   "outputs": [],
   "source": []
  }
 ],
 "metadata": {
  "kernelspec": {
   "display_name": "Python 3",
   "language": "python",
   "name": "python3"
  },
  "language_info": {
   "codemirror_mode": {
    "name": "ipython",
    "version": 3
   },
   "file_extension": ".py",
   "mimetype": "text/x-python",
   "name": "python",
   "nbconvert_exporter": "python",
   "pygments_lexer": "ipython3",
   "version": "3.7.3"
  }
 },
 "nbformat": 4,
 "nbformat_minor": 2
}

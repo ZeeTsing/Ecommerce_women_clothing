{
 "cells": [
  {
   "cell_type": "code",
   "execution_count": 1,
   "metadata": {},
   "outputs": [],
   "source": [
    "import numpy as np\n",
    "import pandas as pd\n",
    "import seaborn as sns\n",
    "import matplotlib.pyplot as plt\n",
    "import random\n",
    "from sklearn.metrics import accuracy_score, f1_score,roc_auc_score,accuracy_score, confusion_matrix, roc_curve\n",
    "from sklearn.model_selection import StratifiedKFold\n",
    "from collections import defaultdict\n",
    "from sklearn.feature_extraction.text import TfidfVectorizer\n",
    "import helper_functions as hf\n",
    "from sklearn.linear_model import LogisticRegressionCV\n",
    "seed = 123"
   ]
  },
  {
   "cell_type": "code",
   "execution_count": 2,
   "metadata": {},
   "outputs": [],
   "source": [
    "data_train = pd.read_pickle('train_set.pkl')\n",
    "data_test = pd.read_pickle('test_set.pkl')"
   ]
  },
  {
   "cell_type": "code",
   "execution_count": 3,
   "metadata": {},
   "outputs": [
    {
     "data": {
      "text/html": [
       "<div>\n",
       "<style scoped>\n",
       "    .dataframe tbody tr th:only-of-type {\n",
       "        vertical-align: middle;\n",
       "    }\n",
       "\n",
       "    .dataframe tbody tr th {\n",
       "        vertical-align: top;\n",
       "    }\n",
       "\n",
       "    .dataframe thead th {\n",
       "        text-align: right;\n",
       "    }\n",
       "</style>\n",
       "<table border=\"1\" class=\"dataframe\">\n",
       "  <thead>\n",
       "    <tr style=\"text-align: right;\">\n",
       "      <th></th>\n",
       "      <th>clothing_ID</th>\n",
       "      <th>Age</th>\n",
       "      <th>Title</th>\n",
       "      <th>Text</th>\n",
       "      <th>RAW_Text</th>\n",
       "      <th>review_len</th>\n",
       "      <th>Positive_fb_count</th>\n",
       "      <th>Division</th>\n",
       "      <th>Department</th>\n",
       "      <th>Class</th>\n",
       "      <th>Positively_rated</th>\n",
       "      <th>Reco</th>\n",
       "    </tr>\n",
       "    <tr>\n",
       "      <th>original_ind</th>\n",
       "      <th></th>\n",
       "      <th></th>\n",
       "      <th></th>\n",
       "      <th></th>\n",
       "      <th></th>\n",
       "      <th></th>\n",
       "      <th></th>\n",
       "      <th></th>\n",
       "      <th></th>\n",
       "      <th></th>\n",
       "      <th></th>\n",
       "      <th></th>\n",
       "    </tr>\n",
       "  </thead>\n",
       "  <tbody>\n",
       "    <tr>\n",
       "      <th>19245</th>\n",
       "      <td>829</td>\n",
       "      <td>34</td>\n",
       "      <td>flirty and fun</td>\n",
       "      <td>i am 5 5   145 lbs  a cup  depending on the st...</td>\n",
       "      <td>I am 5'5\", 145 lbs, a cup. depending on the st...</td>\n",
       "      <td>504</td>\n",
       "      <td>6</td>\n",
       "      <td>General Petite</td>\n",
       "      <td>Tops</td>\n",
       "      <td>Blouses</td>\n",
       "      <td>1</td>\n",
       "      <td>1</td>\n",
       "    </tr>\n",
       "    <tr>\n",
       "      <th>22446</th>\n",
       "      <td>768</td>\n",
       "      <td>41</td>\n",
       "      <td>NaN</td>\n",
       "      <td>so thin and see thru it s not even wearable in...</td>\n",
       "      <td>So thin and see thru it's not even wearable in...</td>\n",
       "      <td>188</td>\n",
       "      <td>4</td>\n",
       "      <td>Initmates</td>\n",
       "      <td>Intimate</td>\n",
       "      <td>Lounge</td>\n",
       "      <td>0</td>\n",
       "      <td>0</td>\n",
       "    </tr>\n",
       "    <tr>\n",
       "      <th>3813</th>\n",
       "      <td>792</td>\n",
       "      <td>29</td>\n",
       "      <td>cute   comfy</td>\n",
       "      <td>just bought these today and they are super sof...</td>\n",
       "      <td>Just bought these today and they are super sof...</td>\n",
       "      <td>286</td>\n",
       "      <td>0</td>\n",
       "      <td>Initmates</td>\n",
       "      <td>Intimate</td>\n",
       "      <td>Sleep</td>\n",
       "      <td>1</td>\n",
       "      <td>1</td>\n",
       "    </tr>\n",
       "    <tr>\n",
       "      <th>22549</th>\n",
       "      <td>850</td>\n",
       "      <td>52</td>\n",
       "      <td>sweet top</td>\n",
       "      <td>lightweight silk with sweet details  ruffles  ...</td>\n",
       "      <td>Lightweight silk with sweet details (ruffles) ...</td>\n",
       "      <td>111</td>\n",
       "      <td>0</td>\n",
       "      <td>General</td>\n",
       "      <td>Tops</td>\n",
       "      <td>Blouses</td>\n",
       "      <td>1</td>\n",
       "      <td>1</td>\n",
       "    </tr>\n",
       "    <tr>\n",
       "      <th>3417</th>\n",
       "      <td>1056</td>\n",
       "      <td>24</td>\n",
       "      <td>cute capris  fit great</td>\n",
       "      <td>i bought the size 27 in these   i m usually a ...</td>\n",
       "      <td>I bought the size 27 in these - i'm usually a ...</td>\n",
       "      <td>239</td>\n",
       "      <td>0</td>\n",
       "      <td>General Petite</td>\n",
       "      <td>Bottoms</td>\n",
       "      <td>Pants</td>\n",
       "      <td>1</td>\n",
       "      <td>1</td>\n",
       "    </tr>\n",
       "  </tbody>\n",
       "</table>\n",
       "</div>"
      ],
      "text/plain": [
       "              clothing_ID  Age                   Title  \\\n",
       "original_ind                                             \n",
       "19245                 829   34          flirty and fun   \n",
       "22446                 768   41                     NaN   \n",
       "3813                  792   29            cute   comfy   \n",
       "22549                 850   52               sweet top   \n",
       "3417                 1056   24  cute capris  fit great   \n",
       "\n",
       "                                                           Text  \\\n",
       "original_ind                                                      \n",
       "19245         i am 5 5   145 lbs  a cup  depending on the st...   \n",
       "22446         so thin and see thru it s not even wearable in...   \n",
       "3813          just bought these today and they are super sof...   \n",
       "22549         lightweight silk with sweet details  ruffles  ...   \n",
       "3417          i bought the size 27 in these   i m usually a ...   \n",
       "\n",
       "                                                       RAW_Text  review_len  \\\n",
       "original_ind                                                                  \n",
       "19245         I am 5'5\", 145 lbs, a cup. depending on the st...         504   \n",
       "22446         So thin and see thru it's not even wearable in...         188   \n",
       "3813          Just bought these today and they are super sof...         286   \n",
       "22549         Lightweight silk with sweet details (ruffles) ...         111   \n",
       "3417          I bought the size 27 in these - i'm usually a ...         239   \n",
       "\n",
       "              Positive_fb_count        Division Department    Class  \\\n",
       "original_ind                                                          \n",
       "19245                         6  General Petite       Tops  Blouses   \n",
       "22446                         4       Initmates   Intimate   Lounge   \n",
       "3813                          0       Initmates   Intimate    Sleep   \n",
       "22549                         0         General       Tops  Blouses   \n",
       "3417                          0  General Petite    Bottoms    Pants   \n",
       "\n",
       "              Positively_rated  Reco  \n",
       "original_ind                          \n",
       "19245                        1     1  \n",
       "22446                        0     0  \n",
       "3813                         1     1  \n",
       "22549                        1     1  \n",
       "3417                         1     1  "
      ]
     },
     "execution_count": 3,
     "metadata": {},
     "output_type": "execute_result"
    }
   ],
   "source": [
    "data_train.head()"
   ]
  },
  {
   "cell_type": "code",
   "execution_count": 3,
   "metadata": {},
   "outputs": [],
   "source": [
    "X = np.array(data_train.RAW_Text)\n",
    "y = np.array(data_train.Positively_rated)"
   ]
  },
  {
   "cell_type": "code",
   "execution_count": 6,
   "metadata": {},
   "outputs": [],
   "source": [
    "vect = TfidfVectorizer()\n",
    "#parameters to tune: n_gram\n",
    "#We chose not to tune min_df as the reviews tend to be short so repeating words should be rare except stopwords"
   ]
  },
  {
   "cell_type": "markdown",
   "metadata": {},
   "source": [
    "Let's try it with default parameters"
   ]
  },
  {
   "cell_type": "code",
   "execution_count": 7,
   "metadata": {},
   "outputs": [],
   "source": [
    "X_vect = vect.fit_transform(X)"
   ]
  },
  {
   "cell_type": "code",
   "execution_count": 7,
   "metadata": {},
   "outputs": [],
   "source": [
    "model = LogisticRegressionCV(Cs = [1,5,10],cv = 5,penalty =  'l2',max_iter = 500,random_state = seed,\n",
    "         multi_class = 'ovr')\n",
    "fitted_model,results = hf.model_fit_train_score_skf(model,X_vect, y)"
   ]
  },
  {
   "cell_type": "code",
   "execution_count": 8,
   "metadata": {},
   "outputs": [
    {
     "name": "stdout",
     "output_type": "stream",
     "text": [
      "Accuracy: 0.879 \n",
      "F1 score: 0.924 \n",
      "AUC score: 0.931\n"
     ]
    }
   ],
   "source": [
    "print(f\"Accuracy: {results['Accuracy_mean']:.3f} \\nF1 score: {results['F1_mean']:.3f} \\nAUC score: {results['AUC_mean']:.3f}\")"
   ]
  },
  {
   "cell_type": "code",
   "execution_count": 9,
   "metadata": {},
   "outputs": [
    {
     "data": {
      "text/plain": [
       "array([5])"
      ]
     },
     "execution_count": 9,
     "metadata": {},
     "output_type": "execute_result"
    }
   ],
   "source": [
    "fitted_model.C_"
   ]
  },
  {
   "cell_type": "code",
   "execution_count": 10,
   "metadata": {},
   "outputs": [
    {
     "name": "stdout",
     "output_type": "stream",
     "text": [
      "Smallest Coefs:\n",
      "['disappointed' 'wanted' 'cheap' 'huge' 'unflattering' 'bad' 'returned'\n",
      " 'returning' 'however' 'poor']\n",
      "\n",
      "Largest Coefs: \n",
      "['perfect' 'love' 'comfortable' 'compliments' 'perfectly' 'great'\n",
      " 'sometimes' 'little' 'glad' 'beautifully']\n"
     ]
    }
   ],
   "source": [
    "#try to see the \n",
    "feature_names = np.array(vect.get_feature_names())\n",
    "\n",
    "# Sort the coefficients from the model\n",
    "sorted_coef_index = model.coef_[0].argsort()\n",
    "\n",
    "# Find the 10 smallest and 10 largest coefficients\n",
    "# The 10 largest coefficients are being indexed using [:-11:-1] \n",
    "# so the list returned is in order of largest to smallest\n",
    "print('Smallest Coefs:\\n{}\\n'.format(feature_names[sorted_coef_index[:10]]))\n",
    "print('Largest Coefs: \\n{}'.format(feature_names[sorted_coef_index[:-11:-1]]))"
   ]
  },
  {
   "cell_type": "code",
   "execution_count": 11,
   "metadata": {},
   "outputs": [
    {
     "data": {
      "text/plain": [
       "defaultdict(None,\n",
       "            {'y_val': [array([1, 0, 1, ..., 0, 0, 0], dtype=int64),\n",
       "              array([1, 1, 1, ..., 0, 0, 0], dtype=int64),\n",
       "              array([1, 1, 1, ..., 0, 0, 0], dtype=int64),\n",
       "              array([1, 1, 1, ..., 0, 0, 0], dtype=int64),\n",
       "              array([1, 1, 1, ..., 1, 1, 0], dtype=int64)],\n",
       "             'predictions': [array([1, 0, 1, ..., 0, 0, 0], dtype=int64),\n",
       "              array([1, 1, 1, ..., 1, 0, 1], dtype=int64),\n",
       "              array([1, 1, 1, ..., 0, 1, 1], dtype=int64),\n",
       "              array([1, 1, 1, ..., 0, 0, 0], dtype=int64),\n",
       "              array([1, 1, 1, ..., 1, 1, 0], dtype=int64)],\n",
       "             'predict_proba': [array([0.8120194 , 0.00751342, 0.76670586, ..., 0.01811341, 0.16400767,\n",
       "                     0.02764877]),\n",
       "              array([0.61635552, 0.93974607, 0.95643888, ..., 0.63309319, 0.2936904 ,\n",
       "                     0.83399633]),\n",
       "              array([0.99784375, 0.98281234, 0.97342943, ..., 0.2464474 , 0.93518061,\n",
       "                     0.58192726]),\n",
       "              array([0.99725044, 0.99507733, 0.99812478, ..., 0.49257186, 0.00418812,\n",
       "                     0.02125876]),\n",
       "              array([0.9747164 , 0.9939646 , 0.97152801, ..., 0.54449578, 0.93637443,\n",
       "                     0.30359656])],\n",
       "             'Accuracy_mean': 0.8794241740106654,\n",
       "             'F1_mean': 0.9237440746022523,\n",
       "             'AUC_mean': 0.9305213543793467,\n",
       "             'Accuracy_std': 0.005979506075741743,\n",
       "             'F1_std': 0.003523271708878023,\n",
       "             'AUC_std': 0.006792625091460319})"
      ]
     },
     "execution_count": 11,
     "metadata": {},
     "output_type": "execute_result"
    }
   ],
   "source": [
    "results"
   ]
  },
  {
   "cell_type": "code",
   "execution_count": 15,
   "metadata": {},
   "outputs": [
    {
     "data": {
      "image/png": "[encoded data removed]",
      "text/plain": [
       "<Figure size 720x504 with 2 Axes>"
      ]
     },
     "metadata": {
      "needs_background": "light"
     },
     "output_type": "display_data"
    }
   ],
   "source": [
    "conf_mat = confusion_matrix(y_true=results['y_val'][0], y_pred=results['predictions'][0])\n",
    "cm = hf.print_confusion_matrix(conf_mat, ['Negative', 'Positive'])\n",
    "plt.savefig('output/confusion_matrix_TFIDF_1.png')"
   ]
  },
  {
   "cell_type": "code",
   "execution_count": 17,
   "metadata": {},
   "outputs": [
    {
     "data": {
      "image/png": "[encoded data removed]",
      "text/plain": [
       "<Figure size 504x360 with 1 Axes>"
      ]
     },
     "metadata": {
      "needs_background": "light"
     },
     "output_type": "display_data"
    }
   ],
   "source": [
    "hf.plot_ROC(results['y_val'][0],results['predict_proba'][0],results['AUC_mean'])\n",
    "plt.savefig(\"output/ROC_curve_1st_TFIDF_LR.png\")"
   ]
  },
  {
   "cell_type": "markdown",
   "metadata": {},
   "source": [
    "Great, now let's explore if removing stopwords or lemmatization has impact on the model"
   ]
  },
  {
   "cell_type": "code",
   "execution_count": 18,
   "metadata": {},
   "outputs": [],
   "source": [
    "import spacy\n",
    "import en_core_web_sm\n",
    "nlp = en_core_web_sm.load()\n",
    "stopwords = list(spacy.lang.en.stop_words.STOP_WORDS)"
   ]
  },
  {
   "cell_type": "code",
   "execution_count": 19,
   "metadata": {},
   "outputs": [],
   "source": [
    "def lemma_and_stop (text):\n",
    "    docs = nlp.pipe(text)\n",
    "    lemma = []\n",
    "    lemma_and_stop = []\n",
    "\n",
    "    for doc in docs:\n",
    "        if doc.is_parsed:\n",
    "            lemma.append(\" \".join([n.lemma_ for n in doc]))\n",
    "            lemma_and_stop.append(\" \".join([n.lemma_ for n in doc if n.is_stop == False]))\n",
    "        else:\n",
    "            # We want to make sure that the lists of parsed results have the\n",
    "            # same number of entries of the original Dataframe, so add some blanks in case the parse fails\n",
    "            lemma.append(None)\n",
    "            lemma_and_stop.append(None)\n",
    "    return lemma,lemma_and_stop"
   ]
  },
  {
   "cell_type": "code",
   "execution_count": 20,
   "metadata": {},
   "outputs": [],
   "source": [
    "lemma_X,lem_and_stop_X = lemma_and_stop(data_train.RAW_Text)"
   ]
  },
  {
   "cell_type": "code",
   "execution_count": 21,
   "metadata": {},
   "outputs": [],
   "source": [
    "vect = TfidfVectorizer()\n",
    "X_vect_lemma = vect.fit_transform(lemma_X)"
   ]
  },
  {
   "cell_type": "code",
   "execution_count": 22,
   "metadata": {},
   "outputs": [],
   "source": [
    "model = LogisticRegressionCV(Cs = [0.5,1,5,10],cv = 5,penalty =  'l2',max_iter = 500,random_state = seed,\n",
    "         multi_class = 'ovr')\n",
    "fitted_model,results = hf.model_fit_train_score_skf(model,X_vect_lemma, y)"
   ]
  },
  {
   "cell_type": "code",
   "execution_count": 23,
   "metadata": {},
   "outputs": [
    {
     "name": "stdout",
     "output_type": "stream",
     "text": [
      "Accuracy: 0.877 \n",
      "F1 score: 0.922 \n",
      "AUC score: 0.925\n"
     ]
    }
   ],
   "source": [
    "print(f\"Accuracy: {results['Accuracy_mean']:.3f} \\nF1 score: {results['F1_mean']:.3f} \\nAUC score: {results['AUC_mean']:.3f}\")"
   ]
  },
  {
   "cell_type": "code",
   "execution_count": 24,
   "metadata": {},
   "outputs": [
    {
     "data": {
      "text/plain": [
       "array([5.])"
      ]
     },
     "execution_count": 24,
     "metadata": {},
     "output_type": "execute_result"
    }
   ],
   "source": [
    "fitted_model.C_"
   ]
  },
  {
   "cell_type": "code",
   "execution_count": 25,
   "metadata": {},
   "outputs": [],
   "source": [
    "vect = TfidfVectorizer()\n",
    "X_vect_lemma_stop = vect.fit_transform(lem_and_stop_X)\n",
    "\n",
    "model = LogisticRegressionCV(Cs = [0.5,1,5,10],cv = 5,penalty =  'l2',max_iter = 500,random_state = seed,\n",
    "         multi_class = 'ovr')\n",
    "\n",
    "fitted_model,results = hf.model_fit_train_score_skf(model,X_vect_lemma_stop, y)"
   ]
  },
  {
   "cell_type": "code",
   "execution_count": 26,
   "metadata": {},
   "outputs": [
    {
     "name": "stdout",
     "output_type": "stream",
     "text": [
      "Accuracy: 0.868 \n",
      "F1 score: 0.917 \n",
      "AUC score: 0.912\n"
     ]
    }
   ],
   "source": [
    "print(f\"Accuracy: {results['Accuracy_mean']:.3f} \\nF1 score: {results['F1_mean']:.3f} \\nAUC score: {results['AUC_mean']:.3f}\")"
   ]
  },
  {
   "cell_type": "markdown",
   "metadata": {},
   "source": [
    "Same conclusion as BOW model, lemmatization and stop words removal does not help improving the model performance\n",
    "\n",
    "We will explore fitting MNB and SVC"
   ]
  },
  {
   "cell_type": "code",
   "execution_count": 27,
   "metadata": {},
   "outputs": [],
   "source": [
    "from sklearn.naive_bayes import MultinomialNB\n",
    "clf = MultinomialNB()\n",
    "fitted_model,results = hf.model_fit_train_score_skf(clf,X_vect, y)"
   ]
  },
  {
   "cell_type": "code",
   "execution_count": 28,
   "metadata": {},
   "outputs": [
    {
     "name": "stdout",
     "output_type": "stream",
     "text": [
      "Accuracy: 0.783 \n",
      "F1 score: 0.877 \n",
      "AUC score: 0.909\n"
     ]
    }
   ],
   "source": [
    "print(f\"Accuracy: {results['Accuracy_mean']:.3f} \\nF1 score: {results['F1_mean']:.3f} \\nAUC score: {results['AUC_mean']:.3f}\")"
   ]
  },
  {
   "cell_type": "code",
   "execution_count": 4,
   "metadata": {},
   "outputs": [],
   "source": [
    "from sklearn.svm import LinearSVC,SVC\n",
    "from sklearn.model_selection import GridSearchCV"
   ]
  },
  {
   "cell_type": "code",
   "execution_count": 30,
   "metadata": {},
   "outputs": [
    {
     "name": "stdout",
     "output_type": "stream",
     "text": [
      "Fitting 5 folds for each of 36 candidates, totalling 180 fits\n"
     ]
    },
    {
     "name": "stderr",
     "output_type": "stream",
     "text": [
      "[Parallel(n_jobs=-1)]: Using backend LokyBackend with 4 concurrent workers.\n",
      "[Parallel(n_jobs=-1)]: Done  88 tasks      | elapsed:    1.7s\n",
      "[Parallel(n_jobs=-1)]: Done 180 out of 180 | elapsed:    2.6s finished\n"
     ]
    }
   ],
   "source": [
    "clf = LinearSVC()\n",
    "parameters_SVC = {'C':[0.00001,0.0001,0.001,0.005,0.01,0.05], 'penalty':['l1','l2','elasticnet'],'loss':['hinge','squared_hinge'] \n",
    "                }\n",
    "clf_grid = GridSearchCV(estimator = clf, param_grid = parameters_SVC, verbose=1,n_jobs = -1,\n",
    "                        scoring='f1',cv = 5,\n",
    "                        return_train_score=True).fit(X_vect, y)"
   ]
  },
  {
   "cell_type": "code",
   "execution_count": 31,
   "metadata": {},
   "outputs": [
    {
     "data": {
      "text/plain": [
       "{'mean_fit_time': array([0.01400504, 0.0450253 , 0.01941795, 0.01420426, 0.06329226,\n",
       "        0.01142025, 0.01379209, 0.04002342, 0.01592035, 0.01215963,\n",
       "        0.07878766, 0.01378326, 0.0176888 , 0.04940286, 0.01539021,\n",
       "        0.01160007, 0.06220798, 0.01458488, 0.01001444, 0.05511098,\n",
       "        0.01436868, 0.01239638, 0.09047589, 0.01098127, 0.01758351,\n",
       "        0.05846281, 0.01379862, 0.01360326, 0.09694958, 0.01399159,\n",
       "        0.01540031, 0.05714664, 0.0133893 , 0.01320243, 0.08711061,\n",
       "        0.01379614]),\n",
       " 'std_fit_time': array([0.00109439, 0.00428542, 0.00825281, 0.00193372, 0.00861753,\n",
       "        0.00225126, 0.00354454, 0.00798709, 0.00715211, 0.00236878,\n",
       "        0.00698299, 0.00620893, 0.00681954, 0.00307472, 0.00540138,\n",
       "        0.00320528, 0.00767733, 0.00387782, 0.00064401, 0.00679848,\n",
       "        0.00559956, 0.00493096, 0.00844792, 0.00249759, 0.00884103,\n",
       "        0.00652111, 0.00476645, 0.00493284, 0.00789709, 0.0058571 ,\n",
       "        0.006269  , 0.00589164, 0.00780056, 0.00305376, 0.00901826,\n",
       "        0.00098469]),\n",
       " 'mean_score_time': array([0.        , 0.00217233, 0.        , 0.        , 0.00342193,\n",
       "        0.        , 0.        , 0.00199475, 0.        , 0.        ,\n",
       "        0.00209274, 0.        , 0.        , 0.00219393, 0.        ,\n",
       "        0.        , 0.00240183, 0.        , 0.        , 0.00259342,\n",
       "        0.        , 0.        , 0.00249295, 0.        , 0.        ,\n",
       "        0.00320139, 0.        , 0.        , 0.00258894, 0.        ,\n",
       "        0.        , 0.00280371, 0.        , 0.        , 0.00260653,\n",
       "        0.        ]),\n",
       " 'std_score_time': array([0.00000000e+00, 2.71720817e-04, 0.00000000e+00, 0.00000000e+00,\n",
       "        1.81129664e-03, 0.00000000e+00, 0.00000000e+00, 1.78890848e-05,\n",
       "        0.00000000e+00, 0.00000000e+00, 2.13827021e-04, 0.00000000e+00,\n",
       "        0.00000000e+00, 3.98755483e-04, 0.00000000e+00, 0.00000000e+00,\n",
       "        4.82612987e-04, 0.00000000e+00, 0.00000000e+00, 4.76564200e-04,\n",
       "        0.00000000e+00, 0.00000000e+00, 4.43580708e-04, 0.00000000e+00,\n",
       "        0.00000000e+00, 1.91636227e-03, 0.00000000e+00, 0.00000000e+00,\n",
       "        4.93188489e-04, 0.00000000e+00, 0.00000000e+00, 4.05253283e-04,\n",
       "        0.00000000e+00, 0.00000000e+00, 4.85046567e-04, 0.00000000e+00]),\n",
       " 'param_C': masked_array(data=[1e-05, 1e-05, 1e-05, 1e-05, 1e-05, 1e-05, 0.0001,\n",
       "                    0.0001, 0.0001, 0.0001, 0.0001, 0.0001, 0.001, 0.001,\n",
       "                    0.001, 0.001, 0.001, 0.001, 0.005, 0.005, 0.005, 0.005,\n",
       "                    0.005, 0.005, 0.01, 0.01, 0.01, 0.01, 0.01, 0.01, 0.05,\n",
       "                    0.05, 0.05, 0.05, 0.05, 0.05],\n",
       "              mask=[False, False, False, False, False, False, False, False,\n",
       "                    False, False, False, False, False, False, False, False,\n",
       "                    False, False, False, False, False, False, False, False,\n",
       "                    False, False, False, False, False, False, False, False,\n",
       "                    False, False, False, False],\n",
       "        fill_value='?',\n",
       "             dtype=object),\n",
       " 'param_loss': masked_array(data=['hinge', 'hinge', 'hinge', 'squared_hinge',\n",
       "                    'squared_hinge', 'squared_hinge', 'hinge', 'hinge',\n",
       "                    'hinge', 'squared_hinge', 'squared_hinge',\n",
       "                    'squared_hinge', 'hinge', 'hinge', 'hinge',\n",
       "                    'squared_hinge', 'squared_hinge', 'squared_hinge',\n",
       "                    'hinge', 'hinge', 'hinge', 'squared_hinge',\n",
       "                    'squared_hinge', 'squared_hinge', 'hinge', 'hinge',\n",
       "                    'hinge', 'squared_hinge', 'squared_hinge',\n",
       "                    'squared_hinge', 'hinge', 'hinge', 'hinge',\n",
       "                    'squared_hinge', 'squared_hinge', 'squared_hinge'],\n",
       "              mask=[False, False, False, False, False, False, False, False,\n",
       "                    False, False, False, False, False, False, False, False,\n",
       "                    False, False, False, False, False, False, False, False,\n",
       "                    False, False, False, False, False, False, False, False,\n",
       "                    False, False, False, False],\n",
       "        fill_value='?',\n",
       "             dtype=object),\n",
       " 'param_penalty': masked_array(data=['l1', 'l2', 'elasticnet', 'l1', 'l2', 'elasticnet',\n",
       "                    'l1', 'l2', 'elasticnet', 'l1', 'l2', 'elasticnet',\n",
       "                    'l1', 'l2', 'elasticnet', 'l1', 'l2', 'elasticnet',\n",
       "                    'l1', 'l2', 'elasticnet', 'l1', 'l2', 'elasticnet',\n",
       "                    'l1', 'l2', 'elasticnet', 'l1', 'l2', 'elasticnet',\n",
       "                    'l1', 'l2', 'elasticnet', 'l1', 'l2', 'elasticnet'],\n",
       "              mask=[False, False, False, False, False, False, False, False,\n",
       "                    False, False, False, False, False, False, False, False,\n",
       "                    False, False, False, False, False, False, False, False,\n",
       "                    False, False, False, False, False, False, False, False,\n",
       "                    False, False, False, False],\n",
       "        fill_value='?',\n",
       "             dtype=object),\n",
       " 'params': [{'C': 1e-05, 'loss': 'hinge', 'penalty': 'l1'},\n",
       "  {'C': 1e-05, 'loss': 'hinge', 'penalty': 'l2'},\n",
       "  {'C': 1e-05, 'loss': 'hinge', 'penalty': 'elasticnet'},\n",
       "  {'C': 1e-05, 'loss': 'squared_hinge', 'penalty': 'l1'},\n",
       "  {'C': 1e-05, 'loss': 'squared_hinge', 'penalty': 'l2'},\n",
       "  {'C': 1e-05, 'loss': 'squared_hinge', 'penalty': 'elasticnet'},\n",
       "  {'C': 0.0001, 'loss': 'hinge', 'penalty': 'l1'},\n",
       "  {'C': 0.0001, 'loss': 'hinge', 'penalty': 'l2'},\n",
       "  {'C': 0.0001, 'loss': 'hinge', 'penalty': 'elasticnet'},\n",
       "  {'C': 0.0001, 'loss': 'squared_hinge', 'penalty': 'l1'},\n",
       "  {'C': 0.0001, 'loss': 'squared_hinge', 'penalty': 'l2'},\n",
       "  {'C': 0.0001, 'loss': 'squared_hinge', 'penalty': 'elasticnet'},\n",
       "  {'C': 0.001, 'loss': 'hinge', 'penalty': 'l1'},\n",
       "  {'C': 0.001, 'loss': 'hinge', 'penalty': 'l2'},\n",
       "  {'C': 0.001, 'loss': 'hinge', 'penalty': 'elasticnet'},\n",
       "  {'C': 0.001, 'loss': 'squared_hinge', 'penalty': 'l1'},\n",
       "  {'C': 0.001, 'loss': 'squared_hinge', 'penalty': 'l2'},\n",
       "  {'C': 0.001, 'loss': 'squared_hinge', 'penalty': 'elasticnet'},\n",
       "  {'C': 0.005, 'loss': 'hinge', 'penalty': 'l1'},\n",
       "  {'C': 0.005, 'loss': 'hinge', 'penalty': 'l2'},\n",
       "  {'C': 0.005, 'loss': 'hinge', 'penalty': 'elasticnet'},\n",
       "  {'C': 0.005, 'loss': 'squared_hinge', 'penalty': 'l1'},\n",
       "  {'C': 0.005, 'loss': 'squared_hinge', 'penalty': 'l2'},\n",
       "  {'C': 0.005, 'loss': 'squared_hinge', 'penalty': 'elasticnet'},\n",
       "  {'C': 0.01, 'loss': 'hinge', 'penalty': 'l1'},\n",
       "  {'C': 0.01, 'loss': 'hinge', 'penalty': 'l2'},\n",
       "  {'C': 0.01, 'loss': 'hinge', 'penalty': 'elasticnet'},\n",
       "  {'C': 0.01, 'loss': 'squared_hinge', 'penalty': 'l1'},\n",
       "  {'C': 0.01, 'loss': 'squared_hinge', 'penalty': 'l2'},\n",
       "  {'C': 0.01, 'loss': 'squared_hinge', 'penalty': 'elasticnet'},\n",
       "  {'C': 0.05, 'loss': 'hinge', 'penalty': 'l1'},\n",
       "  {'C': 0.05, 'loss': 'hinge', 'penalty': 'l2'},\n",
       "  {'C': 0.05, 'loss': 'hinge', 'penalty': 'elasticnet'},\n",
       "  {'C': 0.05, 'loss': 'squared_hinge', 'penalty': 'l1'},\n",
       "  {'C': 0.05, 'loss': 'squared_hinge', 'penalty': 'l2'},\n",
       "  {'C': 0.05, 'loss': 'squared_hinge', 'penalty': 'elasticnet'}],\n",
       " 'split0_test_score': array([       nan, 0.87169106,        nan,        nan, 0.87169106,\n",
       "               nan,        nan, 0.87169106,        nan,        nan,\n",
       "        0.87169106,        nan,        nan, 0.87169106,        nan,\n",
       "               nan, 0.87169106,        nan,        nan, 0.87169106,\n",
       "               nan,        nan, 0.87460913,        nan,        nan,\n",
       "        0.87169106,        nan,        nan, 0.88807398,        nan,\n",
       "               nan, 0.88162879,        nan,        nan, 0.91759919,\n",
       "               nan]),\n",
       " 'split1_test_score': array([       nan, 0.87169106,        nan,        nan, 0.87169106,\n",
       "               nan,        nan, 0.87169106,        nan,        nan,\n",
       "        0.87169106,        nan,        nan, 0.87169106,        nan,\n",
       "               nan, 0.87169106,        nan,        nan, 0.87169106,\n",
       "               nan,        nan, 0.87435456,        nan,        nan,\n",
       "        0.87169106,        nan,        nan, 0.88516746,        nan,\n",
       "               nan, 0.88012618,        nan,        nan, 0.91515152,\n",
       "               nan]),\n",
       " 'split2_test_score': array([       nan, 0.87169106,        nan,        nan, 0.87169106,\n",
       "               nan,        nan, 0.87169106,        nan,        nan,\n",
       "        0.87169106,        nan,        nan, 0.87169106,        nan,\n",
       "               nan, 0.87169106,        nan,        nan, 0.87169106,\n",
       "               nan,        nan, 0.87607708,        nan,        nan,\n",
       "        0.87169106,        nan,        nan, 0.8913497 ,        nan,\n",
       "               nan, 0.88358115,        nan,        nan, 0.91988433,\n",
       "               nan]),\n",
       " 'split3_test_score': array([       nan, 0.87165109,        nan,        nan, 0.87165109,\n",
       "               nan,        nan, 0.87165109,        nan,        nan,\n",
       "        0.87165109,        nan,        nan, 0.87165109,        nan,\n",
       "               nan, 0.87165109,        nan,        nan, 0.87165109,\n",
       "               nan,        nan, 0.8746675 ,        nan,        nan,\n",
       "        0.87165109,        nan,        nan, 0.89284568,        nan,\n",
       "               nan, 0.88114754,        nan,        nan, 0.92202928,\n",
       "               nan]),\n",
       " 'split4_test_score': array([       nan, 0.87165109,        nan,        nan, 0.87165109,\n",
       "               nan,        nan, 0.87165109,        nan,        nan,\n",
       "        0.87165109,        nan,        nan, 0.87165109,        nan,\n",
       "               nan, 0.87165109,        nan,        nan, 0.87165109,\n",
       "               nan,        nan, 0.87621435,        nan,        nan,\n",
       "        0.87165109,        nan,        nan, 0.88839143,        nan,\n",
       "               nan, 0.88190717,        nan,        nan, 0.92075344,\n",
       "               nan]),\n",
       " 'mean_test_score': array([       nan, 0.87167507,        nan,        nan, 0.87167507,\n",
       "               nan,        nan, 0.87167507,        nan,        nan,\n",
       "        0.87167507,        nan,        nan, 0.87167507,        nan,\n",
       "               nan, 0.87167507,        nan,        nan, 0.87167507,\n",
       "               nan,        nan, 0.87518453,        nan,        nan,\n",
       "        0.87167507,        nan,        nan, 0.88916565,        nan,\n",
       "               nan, 0.88167816,        nan,        nan, 0.91908355,\n",
       "               nan]),\n",
       " 'std_test_score': array([           nan, 1.95820204e-05,            nan,            nan,\n",
       "        1.95820204e-05,            nan,            nan, 1.95820204e-05,\n",
       "                   nan,            nan, 1.95820204e-05,            nan,\n",
       "                   nan, 1.95820204e-05,            nan,            nan,\n",
       "        1.95820204e-05,            nan,            nan, 1.95820204e-05,\n",
       "                   nan,            nan, 7.93023544e-04,            nan,\n",
       "                   nan, 1.95820204e-05,            nan,            nan,\n",
       "        2.68661115e-03,            nan,            nan, 1.12839923e-03,\n",
       "                   nan,            nan, 2.44013704e-03,            nan]),\n",
       " 'rank_test_score': array([21,  5, 34, 33,  5, 32, 31,  5, 30, 29,  5, 28, 27,  5, 26, 25,  5,\n",
       "        22, 24,  5, 23, 35,  4, 19, 17,  5, 15, 14,  2, 20, 13,  3, 16, 18,\n",
       "         1, 36]),\n",
       " 'split0_train_score': array([       nan, 0.87167108,        nan,        nan, 0.87167108,\n",
       "               nan,        nan, 0.87167108,        nan,        nan,\n",
       "        0.87167108,        nan,        nan, 0.87167108,        nan,\n",
       "               nan, 0.87167108,        nan,        nan, 0.87167108,\n",
       "               nan,        nan, 0.87621958,        nan,        nan,\n",
       "        0.87167108,        nan,        nan, 0.89212501,        nan,\n",
       "               nan, 0.88448139,        nan,        nan, 0.93146949,\n",
       "               nan]),\n",
       " 'split1_train_score': array([       nan, 0.87167108,        nan,        nan, 0.87167108,\n",
       "               nan,        nan, 0.87167108,        nan,        nan,\n",
       "        0.87167108,        nan,        nan, 0.87167108,        nan,\n",
       "               nan, 0.87167108,        nan,        nan, 0.87167108,\n",
       "               nan,        nan, 0.87662643,        nan,        nan,\n",
       "        0.87167108,        nan,        nan, 0.89343933,        nan,\n",
       "               nan, 0.88521863,        nan,        nan, 0.93136085,\n",
       "               nan]),\n",
       " 'split2_train_score': array([       nan, 0.87167108,        nan,        nan, 0.87167108,\n",
       "               nan,        nan, 0.87167108,        nan,        nan,\n",
       "        0.87167108,        nan,        nan, 0.87167108,        nan,\n",
       "               nan, 0.87167108,        nan,        nan, 0.87167108,\n",
       "               nan,        nan, 0.87573409,        nan,        nan,\n",
       "        0.87167108,        nan,        nan, 0.89201426,        nan,\n",
       "               nan, 0.88329447,        nan,        nan, 0.93041105,\n",
       "               nan]),\n",
       " 'split3_train_score': array([       nan, 0.87168107,        nan,        nan, 0.87168107,\n",
       "               nan,        nan, 0.87168107,        nan,        nan,\n",
       "        0.87168107,        nan,        nan, 0.87168107,        nan,\n",
       "               nan, 0.87168107,        nan,        nan, 0.87168107,\n",
       "               nan,        nan, 0.87539136,        nan,        nan,\n",
       "        0.87168107,        nan,        nan, 0.8899732 ,        nan,\n",
       "               nan, 0.88165937,        nan,        nan, 0.92968783,\n",
       "               nan]),\n",
       " 'split4_train_score': array([       nan, 0.87168107,        nan,        nan, 0.87168107,\n",
       "               nan,        nan, 0.87168107,        nan,        nan,\n",
       "        0.87168107,        nan,        nan, 0.87168107,        nan,\n",
       "               nan, 0.87168107,        nan,        nan, 0.87168107,\n",
       "               nan,        nan, 0.87568033,        nan,        nan,\n",
       "        0.87168107,        nan,        nan, 0.89140797,        nan,\n",
       "               nan, 0.88341569,        nan,        nan, 0.93059762,\n",
       "               nan]),\n",
       " 'mean_train_score': array([       nan, 0.87167508,        nan,        nan, 0.87167508,\n",
       "               nan,        nan, 0.87167508,        nan,        nan,\n",
       "        0.87167508,        nan,        nan, 0.87167508,        nan,\n",
       "               nan, 0.87167508,        nan,        nan, 0.87167508,\n",
       "               nan,        nan, 0.87593036,        nan,        nan,\n",
       "        0.87167508,        nan,        nan, 0.89179196,        nan,\n",
       "               nan, 0.88361391,        nan,        nan, 0.93070537,\n",
       "               nan]),\n",
       " 'std_train_score': array([           nan, 4.89512380e-06,            nan,            nan,\n",
       "        4.89512380e-06,            nan,            nan, 4.89512380e-06,\n",
       "                   nan,            nan, 4.89512380e-06,            nan,\n",
       "                   nan, 4.89512380e-06,            nan,            nan,\n",
       "        4.89512380e-06,            nan,            nan, 4.89512380e-06,\n",
       "                   nan,            nan, 4.38115211e-04,            nan,\n",
       "                   nan, 4.89512380e-06,            nan,            nan,\n",
       "        1.12512187e-03,            nan,            nan, 1.20741122e-03,\n",
       "                   nan,            nan, 6.55306902e-04,            nan])}"
      ]
     },
     "execution_count": 31,
     "metadata": {},
     "output_type": "execute_result"
    }
   ],
   "source": [
    "clf_grid.cv_results_"
   ]
  },
  {
   "cell_type": "code",
   "execution_count": 32,
   "metadata": {},
   "outputs": [
    {
     "data": {
      "text/plain": [
       "LinearSVC(C=0.05, class_weight=None, dual=True, fit_intercept=True,\n",
       "          intercept_scaling=1, loss='squared_hinge', max_iter=1000,\n",
       "          multi_class='ovr', penalty='l2', random_state=None, tol=0.0001,\n",
       "          verbose=0)"
      ]
     },
     "execution_count": 32,
     "metadata": {},
     "output_type": "execute_result"
    }
   ],
   "source": [
    "clf_grid.best_estimator_"
   ]
  },
  {
   "cell_type": "code",
   "execution_count": 33,
   "metadata": {},
   "outputs": [
    {
     "data": {
      "text/plain": [
       "0.9190835506493826"
      ]
     },
     "execution_count": 33,
     "metadata": {},
     "output_type": "execute_result"
    }
   ],
   "source": [
    "clf_grid.best_score_"
   ]
  },
  {
   "cell_type": "code",
   "execution_count": 5,
   "metadata": {},
   "outputs": [],
   "source": [
    "best_SVC = LinearSVC(C=0.05, class_weight=None, dual=True, fit_intercept=True,\n",
    "          intercept_scaling=1, loss='squared_hinge', max_iter=1000,\n",
    "          multi_class='ovr', penalty='l2', random_state=None, tol=0.0001,\n",
    "          verbose=0)"
   ]
  },
  {
   "cell_type": "code",
   "execution_count": 8,
   "metadata": {},
   "outputs": [],
   "source": [
    "fitted_model,results = hf.model_fit_train_score_skf(best_SVC,X_vect, y,predict_proba = False)"
   ]
  },
  {
   "cell_type": "code",
   "execution_count": 10,
   "metadata": {},
   "outputs": [
    {
     "name": "stdout",
     "output_type": "stream",
     "text": [
      "Accuracy: 0.868 \n",
      "F1 score: 0.919 \n"
     ]
    }
   ],
   "source": [
    "print(f\"Accuracy: {results['Accuracy_mean']:.3f} \\nF1 score: {results['F1_mean']:.3f} \")"
   ]
  },
  {
   "cell_type": "code",
   "execution_count": 11,
   "metadata": {},
   "outputs": [
    {
     "data": {
      "image/png": "[encoded data removed]",
      "text/plain": [
       "<Figure size 720x504 with 2 Axes>"
      ]
     },
     "metadata": {
      "needs_background": "light"
     },
     "output_type": "display_data"
    }
   ],
   "source": [
    "conf_mat = confusion_matrix(y_true=results['y_val'][0], y_pred=results['predictions'][0])\n",
    "cm = hf.print_confusion_matrix(conf_mat, ['Negative', 'Positive'])"
   ]
  },
  {
   "cell_type": "markdown",
   "metadata": {},
   "source": [
    "The model does not seem to perform better than logistic regression. We will try to tune TF-IDF for better performance"
   ]
  },
  {
   "cell_type": "code",
   "execution_count": 12,
   "metadata": {},
   "outputs": [],
   "source": [
    "vect_2 = TfidfVectorizer(ngram_range=(1, 2))"
   ]
  },
  {
   "cell_type": "code",
   "execution_count": 13,
   "metadata": {},
   "outputs": [],
   "source": [
    "X_vect2 = vect_2.fit_transform(X)"
   ]
  },
  {
   "cell_type": "code",
   "execution_count": 25,
   "metadata": {},
   "outputs": [],
   "source": [
    "model = LogisticRegressionCV(Cs = [5,10,20,30],cv = 5,penalty =  'l2',max_iter = 500,random_state = seed,\n",
    "         multi_class = 'ovr')\n",
    "fitted_model,results = hf.model_fit_train_score_skf(model,X_vect2, y)"
   ]
  },
  {
   "cell_type": "code",
   "execution_count": 26,
   "metadata": {},
   "outputs": [
    {
     "name": "stdout",
     "output_type": "stream",
     "text": [
      "Accuracy: 0.889 \n",
      "F1 score: 0.930 \n",
      "AUC score: 0.940\n"
     ]
    }
   ],
   "source": [
    "print(f\"Accuracy: {results['Accuracy_mean']:.3f} \\nF1 score: {results['F1_mean']:.3f} \\nAUC score: {results['AUC_mean']:.3f}\")"
   ]
  },
  {
   "cell_type": "code",
   "execution_count": 27,
   "metadata": {},
   "outputs": [
    {
     "data": {
      "text/plain": [
       "array([20])"
      ]
     },
     "execution_count": 27,
     "metadata": {},
     "output_type": "execute_result"
    }
   ],
   "source": [
    "fitted_model.C_"
   ]
  },
  {
   "cell_type": "code",
   "execution_count": 28,
   "metadata": {},
   "outputs": [
    {
     "name": "stdout",
     "output_type": "stream",
     "text": [
      "Smallest Coefs:\n",
      "['to love' 'disappointed' 'cheap' 'huge' 'not flattering' 'unflattering'\n",
      " 'not' 'returned' 'was' 'bad']\n",
      "\n",
      "Largest Coefs: \n",
      "['perfect' 'love' 'comfortable' 'great' 'not too' 'love this' 'perfectly'\n",
      " 'little' 'fits' 'compliments']\n"
     ]
    }
   ],
   "source": [
    "#try to see the \n",
    "feature_names2 = np.array(vect_2.get_feature_names())\n",
    "\n",
    "# Sort the coefficients from the model\n",
    "sorted_coef_index = model.coef_[0].argsort()\n",
    "\n",
    "# Find the 10 smallest and 10 largest coefficients\n",
    "# The 10 largest coefficients are being indexed using [:-11:-1] \n",
    "# so the list returned is in order of largest to smallest\n",
    "print('Smallest Coefs:\\n{}\\n'.format(feature_names2[sorted_coef_index[:10]]))\n",
    "print('Largest Coefs: \\n{}'.format(feature_names2[sorted_coef_index[:-11:-1]]))"
   ]
  },
  {
   "cell_type": "code",
   "execution_count": 29,
   "metadata": {},
   "outputs": [],
   "source": [
    "vect_3 = TfidfVectorizer(ngram_range=(1, 3))\n",
    "X_vect3 = vect_3.fit_transform(X)"
   ]
  },
  {
   "cell_type": "code",
   "execution_count": 30,
   "metadata": {},
   "outputs": [],
   "source": [
    "model = LogisticRegressionCV(Cs = [5,10,15,30],cv = 5,penalty =  'l2',max_iter = 500,random_state = seed,\n",
    "         multi_class = 'ovr')\n",
    "fitted_model,results = hf.model_fit_train_score_skf(model,X_vect3, y)"
   ]
  },
  {
   "cell_type": "code",
   "execution_count": 31,
   "metadata": {},
   "outputs": [
    {
     "name": "stdout",
     "output_type": "stream",
     "text": [
      "Accuracy: 0.884 \n",
      "F1 score: 0.928 \n",
      "AUC score: 0.942\n"
     ]
    }
   ],
   "source": [
    "print(f\"Accuracy: {results['Accuracy_mean']:.3f} \\nF1 score: {results['F1_mean']:.3f} \\nAUC score: {results['AUC_mean']:.3f}\")"
   ]
  },
  {
   "cell_type": "code",
   "execution_count": 32,
   "metadata": {},
   "outputs": [
    {
     "name": "stdout",
     "output_type": "stream",
     "text": [
      "Smallest Coefs:\n",
      "['disappointed' 'was' 'not' 'cheap' 'huge' 'returned' 'unflattering'\n",
      " 'however' 'looked' 'not flattering']\n",
      "\n",
      "Largest Coefs: \n",
      "['perfect' 'love' 'great' 'comfortable' 'little' 'fits' 'not too' 'with'\n",
      " 'love this' 'perfectly']\n"
     ]
    }
   ],
   "source": [
    "#try to see the \n",
    "feature_names3 = np.array(vect_3.get_feature_names())\n",
    "\n",
    "# Sort the coefficients from the model\n",
    "sorted_coef_index = model.coef_[0].argsort()\n",
    "\n",
    "# Find the 10 smallest and 10 largest coefficients\n",
    "# The 10 largest coefficients are being indexed using [:-11:-1] \n",
    "# so the list returned is in order of largest to smallest\n",
    "print('Smallest Coefs:\\n{}\\n'.format(feature_names3[sorted_coef_index[:10]]))\n",
    "print('Largest Coefs: \\n{}'.format(feature_names3[sorted_coef_index[:-11:-1]]))"
   ]
  },
  {
   "cell_type": "code",
   "execution_count": 33,
   "metadata": {},
   "outputs": [
    {
     "data": {
      "text/plain": [
       "array([30])"
      ]
     },
     "execution_count": 33,
     "metadata": {},
     "output_type": "execute_result"
    }
   ],
   "source": [
    "fitted_model.C_"
   ]
  },
  {
   "cell_type": "markdown",
   "metadata": {},
   "source": [
    "We chose to stop at bigram as it gives a similar result as using tri-gram and at the same time computationally less expensive;\n",
    "\n",
    "Next we would like to add in min_df and max_df, to remove words that are too rare and to remove words that are too frequent (appears in more than 85% of the total documents)"
   ]
  },
  {
   "cell_type": "code",
   "execution_count": 40,
   "metadata": {},
   "outputs": [
    {
     "data": {
      "text/plain": [
       "15396.05"
      ]
     },
     "execution_count": 40,
     "metadata": {},
     "output_type": "execute_result"
    }
   ],
   "source": [
    "len(X)*.85"
   ]
  },
  {
   "cell_type": "code",
   "execution_count": 57,
   "metadata": {},
   "outputs": [],
   "source": [
    "vect_2a = TfidfVectorizer(ngram_range=(1, 2),min_df = 3,max_df = 15396)"
   ]
  },
  {
   "cell_type": "code",
   "execution_count": 58,
   "metadata": {},
   "outputs": [],
   "source": [
    "X_vect2_a = vect_2a.fit_transform(X)\n",
    "model = LogisticRegressionCV(Cs = [1,5,10,20,30],cv = 5,penalty =  'l2',max_iter = 500,random_state = seed,\n",
    "         multi_class = 'ovr')\n",
    "fitted_model,results = hf.model_fit_train_score_skf(model,X_vect2_a, y)"
   ]
  },
  {
   "cell_type": "code",
   "execution_count": 59,
   "metadata": {},
   "outputs": [
    {
     "name": "stdout",
     "output_type": "stream",
     "text": [
      "Accuracy: 0.890 \n",
      "F1 score: 0.931 \n",
      "AUC score: 0.941\n"
     ]
    }
   ],
   "source": [
    "print(f\"Accuracy: {results['Accuracy_mean']:.3f} \\nF1 score: {results['F1_mean']:.3f} \\nAUC score: {results['AUC_mean']:.3f}\")"
   ]
  },
  {
   "cell_type": "code",
   "execution_count": 60,
   "metadata": {},
   "outputs": [
    {
     "data": {
      "text/plain": [
       "array([5])"
      ]
     },
     "execution_count": 60,
     "metadata": {},
     "output_type": "execute_result"
    }
   ],
   "source": [
    "fitted_model.C_"
   ]
  },
  {
   "cell_type": "code",
   "execution_count": 61,
   "metadata": {},
   "outputs": [
    {
     "data": {
      "text/plain": [
       "158537"
      ]
     },
     "execution_count": 61,
     "metadata": {},
     "output_type": "execute_result"
    }
   ],
   "source": [
    "len(vect_2a.stop_words_)"
   ]
  },
  {
   "cell_type": "code",
   "execution_count": 62,
   "metadata": {},
   "outputs": [
    {
     "name": "stdout",
     "output_type": "stream",
     "text": [
      "Smallest Coefs:\n",
      "['to love' 'disappointed' 'cheap' 'huge' 'not flattering' 'not'\n",
      " 'unflattering' 'returned' 'was' 'however']\n",
      "\n",
      "Largest Coefs: \n",
      "['perfect' 'love' 'comfortable' 'great' 'not too' 'love this' 'perfectly'\n",
      " 'little' 'fits' 'compliments']\n"
     ]
    }
   ],
   "source": [
    "#try to see the \n",
    "feature_names2a = np.array(vect_2a.get_feature_names())\n",
    "\n",
    "# Sort the coefficients from the model\n",
    "sorted_coef_index = model.coef_[0].argsort()\n",
    "\n",
    "# Find the 10 smallest and 10 largest coefficients\n",
    "# The 10 largest coefficients are being indexed using [:-11:-1] \n",
    "# so the list returned is in order of largest to smallest\n",
    "print('Smallest Coefs:\\n{}\\n'.format(feature_names2a[sorted_coef_index[:10]]))\n",
    "print('Largest Coefs: \\n{}'.format(feature_names2a[sorted_coef_index[:-11:-1]]))"
   ]
  },
  {
   "cell_type": "code",
   "execution_count": 63,
   "metadata": {},
   "outputs": [],
   "source": [
    "clf = MultinomialNB()\n",
    "fitted_model,results = hf.model_fit_train_score_skf(clf,X_vect2_a, y)"
   ]
  },
  {
   "cell_type": "code",
   "execution_count": 64,
   "metadata": {},
   "outputs": [
    {
     "name": "stdout",
     "output_type": "stream",
     "text": [
      "Accuracy: 0.792 \n",
      "F1 score: 0.881 \n",
      "AUC score: 0.932\n"
     ]
    }
   ],
   "source": [
    "print(f\"Accuracy: {results['Accuracy_mean']:.3f} \\nF1 score: {results['F1_mean']:.3f} \\nAUC score: {results['AUC_mean']:.3f}\")"
   ]
  },
  {
   "cell_type": "code",
   "execution_count": 65,
   "metadata": {},
   "outputs": [
    {
     "name": "stdout",
     "output_type": "stream",
     "text": [
      "Fitting 5 folds for each of 36 candidates, totalling 180 fits\n"
     ]
    },
    {
     "name": "stderr",
     "output_type": "stream",
     "text": [
      "[Parallel(n_jobs=-1)]: Using backend LokyBackend with 4 concurrent workers.\n",
      "[Parallel(n_jobs=-1)]: Done  68 tasks      | elapsed:    1.8s\n",
      "[Parallel(n_jobs=-1)]: Done 180 out of 180 | elapsed:    2.9s finished\n"
     ]
    }
   ],
   "source": [
    "clf = LinearSVC()\n",
    "parameters_SVC = {'C':[0.00001,0.0001,0.001,0.005,0.01,0.05], 'penalty':['l1','l2','elasticnet'],'loss':['hinge','squared_hinge'] \n",
    "                }\n",
    "clf_grid = GridSearchCV(estimator = clf, param_grid = parameters_SVC, verbose=1,n_jobs = -1,\n",
    "                        scoring='f1',cv = 5,\n",
    "                        return_train_score=True).fit(X_vect, y)"
   ]
  },
  {
   "cell_type": "code",
   "execution_count": 66,
   "metadata": {},
   "outputs": [
    {
     "data": {
      "text/plain": [
       "LinearSVC(C=0.05, class_weight=None, dual=True, fit_intercept=True,\n",
       "          intercept_scaling=1, loss='squared_hinge', max_iter=1000,\n",
       "          multi_class='ovr', penalty='l2', random_state=None, tol=0.0001,\n",
       "          verbose=0)"
      ]
     },
     "execution_count": 66,
     "metadata": {},
     "output_type": "execute_result"
    }
   ],
   "source": [
    "clf_grid.best_estimator_"
   ]
  },
  {
   "cell_type": "code",
   "execution_count": 67,
   "metadata": {},
   "outputs": [
    {
     "data": {
      "text/plain": [
       "0.9190835506493826"
      ]
     },
     "execution_count": 67,
     "metadata": {},
     "output_type": "execute_result"
    }
   ],
   "source": [
    "clf_grid.best_score_"
   ]
  },
  {
   "cell_type": "code",
   "execution_count": 68,
   "metadata": {},
   "outputs": [],
   "source": [
    "best_SVC =LinearSVC(C=0.05, class_weight=None, dual=True, fit_intercept=True,\n",
    "          intercept_scaling=1, loss='squared_hinge', max_iter=1000,\n",
    "          multi_class='ovr', penalty='l2', random_state=None, tol=0.0001,\n",
    "          verbose=0)"
   ]
  },
  {
   "cell_type": "code",
   "execution_count": 69,
   "metadata": {},
   "outputs": [],
   "source": [
    "fitted_model,results = hf.model_fit_train_score_skf(best_SVC,X_vect2_a, y,predict_proba = False)"
   ]
  },
  {
   "cell_type": "code",
   "execution_count": 70,
   "metadata": {},
   "outputs": [
    {
     "name": "stdout",
     "output_type": "stream",
     "text": [
      "Accuracy: 0.861 \n",
      "F1 score: 0.916 \n"
     ]
    }
   ],
   "source": [
    "print(f\"Accuracy: {results['Accuracy_mean']:.3f} \\nF1 score: {results['F1_mean']:.3f} \")"
   ]
  },
  {
   "cell_type": "code",
   "execution_count": null,
   "metadata": {},
   "outputs": [],
   "source": []
  }
 ],
 "metadata": {
  "kernelspec": {
   "display_name": "Python 3",
   "language": "python",
   "name": "python3"
  },
  "language_info": {
   "codemirror_mode": {
    "name": "ipython",
    "version": 3
   },
   "file_extension": ".py",
   "mimetype": "text/x-python",
   "name": "python",
   "nbconvert_exporter": "python",
   "pygments_lexer": "ipython3",
   "version": "3.7.3"
  }
 },
 "nbformat": 4,
 "nbformat_minor": 2
}

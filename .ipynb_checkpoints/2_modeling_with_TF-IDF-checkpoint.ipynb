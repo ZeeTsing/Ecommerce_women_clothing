{
 "cells": [
  {
   "cell_type": "code",
   "execution_count": 1,
   "metadata": {},
   "outputs": [],
   "source": [
    "import numpy as np\n",
    "import pandas as pd\n",
    "import seaborn as sns\n",
    "import matplotlib.pyplot as plt\n",
    "import random\n",
    "from sklearn.metrics import accuracy_score, f1_score,roc_auc_score,accuracy_score, confusion_matrix, roc_curve\n",
    "from sklearn.model_selection import StratifiedKFold\n",
    "from collections import defaultdict\n",
    "from sklearn.feature_extraction.text import TfidfVectorizer\n",
    "import helper_functions as hf\n",
    "from sklearn.linear_model import LogisticRegressionCV\n",
    "seed = 123"
   ]
  },
  {
   "cell_type": "code",
   "execution_count": 2,
   "metadata": {},
   "outputs": [],
   "source": [
    "data_train = pd.read_pickle('train_set.pkl')\n",
    "data_test = pd.read_pickle('test_set.pkl')"
   ]
  },
  {
   "cell_type": "code",
   "execution_count": 3,
   "metadata": {},
   "outputs": [
    {
     "data": {
      "text/html": [
       "<div>\n",
       "<style scoped>\n",
       "    .dataframe tbody tr th:only-of-type {\n",
       "        vertical-align: middle;\n",
       "    }\n",
       "\n",
       "    .dataframe tbody tr th {\n",
       "        vertical-align: top;\n",
       "    }\n",
       "\n",
       "    .dataframe thead th {\n",
       "        text-align: right;\n",
       "    }\n",
       "</style>\n",
       "<table border=\"1\" class=\"dataframe\">\n",
       "  <thead>\n",
       "    <tr style=\"text-align: right;\">\n",
       "      <th></th>\n",
       "      <th>clothing_ID</th>\n",
       "      <th>Age</th>\n",
       "      <th>Title</th>\n",
       "      <th>Text</th>\n",
       "      <th>RAW_Text</th>\n",
       "      <th>review_len</th>\n",
       "      <th>Positive_fb_count</th>\n",
       "      <th>Division</th>\n",
       "      <th>Department</th>\n",
       "      <th>Class</th>\n",
       "      <th>Positively_rated</th>\n",
       "      <th>Reco</th>\n",
       "    </tr>\n",
       "    <tr>\n",
       "      <th>original_ind</th>\n",
       "      <th></th>\n",
       "      <th></th>\n",
       "      <th></th>\n",
       "      <th></th>\n",
       "      <th></th>\n",
       "      <th></th>\n",
       "      <th></th>\n",
       "      <th></th>\n",
       "      <th></th>\n",
       "      <th></th>\n",
       "      <th></th>\n",
       "      <th></th>\n",
       "    </tr>\n",
       "  </thead>\n",
       "  <tbody>\n",
       "    <tr>\n",
       "      <th>19245</th>\n",
       "      <td>829</td>\n",
       "      <td>34</td>\n",
       "      <td>flirty and fun</td>\n",
       "      <td>i am 5 5   145 lbs  a cup  depending on the st...</td>\n",
       "      <td>I am 5'5\", 145 lbs, a cup. depending on the st...</td>\n",
       "      <td>504</td>\n",
       "      <td>6</td>\n",
       "      <td>General Petite</td>\n",
       "      <td>Tops</td>\n",
       "      <td>Blouses</td>\n",
       "      <td>1</td>\n",
       "      <td>1</td>\n",
       "    </tr>\n",
       "    <tr>\n",
       "      <th>22446</th>\n",
       "      <td>768</td>\n",
       "      <td>41</td>\n",
       "      <td>NaN</td>\n",
       "      <td>so thin and see thru it s not even wearable in...</td>\n",
       "      <td>So thin and see thru it's not even wearable in...</td>\n",
       "      <td>188</td>\n",
       "      <td>4</td>\n",
       "      <td>Initmates</td>\n",
       "      <td>Intimate</td>\n",
       "      <td>Lounge</td>\n",
       "      <td>0</td>\n",
       "      <td>0</td>\n",
       "    </tr>\n",
       "    <tr>\n",
       "      <th>3813</th>\n",
       "      <td>792</td>\n",
       "      <td>29</td>\n",
       "      <td>cute   comfy</td>\n",
       "      <td>just bought these today and they are super sof...</td>\n",
       "      <td>Just bought these today and they are super sof...</td>\n",
       "      <td>286</td>\n",
       "      <td>0</td>\n",
       "      <td>Initmates</td>\n",
       "      <td>Intimate</td>\n",
       "      <td>Sleep</td>\n",
       "      <td>1</td>\n",
       "      <td>1</td>\n",
       "    </tr>\n",
       "    <tr>\n",
       "      <th>22549</th>\n",
       "      <td>850</td>\n",
       "      <td>52</td>\n",
       "      <td>sweet top</td>\n",
       "      <td>lightweight silk with sweet details  ruffles  ...</td>\n",
       "      <td>Lightweight silk with sweet details (ruffles) ...</td>\n",
       "      <td>111</td>\n",
       "      <td>0</td>\n",
       "      <td>General</td>\n",
       "      <td>Tops</td>\n",
       "      <td>Blouses</td>\n",
       "      <td>1</td>\n",
       "      <td>1</td>\n",
       "    </tr>\n",
       "    <tr>\n",
       "      <th>3417</th>\n",
       "      <td>1056</td>\n",
       "      <td>24</td>\n",
       "      <td>cute capris  fit great</td>\n",
       "      <td>i bought the size 27 in these   i m usually a ...</td>\n",
       "      <td>I bought the size 27 in these - i'm usually a ...</td>\n",
       "      <td>239</td>\n",
       "      <td>0</td>\n",
       "      <td>General Petite</td>\n",
       "      <td>Bottoms</td>\n",
       "      <td>Pants</td>\n",
       "      <td>1</td>\n",
       "      <td>1</td>\n",
       "    </tr>\n",
       "  </tbody>\n",
       "</table>\n",
       "</div>"
      ],
      "text/plain": [
       "              clothing_ID  Age                   Title  \\\n",
       "original_ind                                             \n",
       "19245                 829   34          flirty and fun   \n",
       "22446                 768   41                     NaN   \n",
       "3813                  792   29            cute   comfy   \n",
       "22549                 850   52               sweet top   \n",
       "3417                 1056   24  cute capris  fit great   \n",
       "\n",
       "                                                           Text  \\\n",
       "original_ind                                                      \n",
       "19245         i am 5 5   145 lbs  a cup  depending on the st...   \n",
       "22446         so thin and see thru it s not even wearable in...   \n",
       "3813          just bought these today and they are super sof...   \n",
       "22549         lightweight silk with sweet details  ruffles  ...   \n",
       "3417          i bought the size 27 in these   i m usually a ...   \n",
       "\n",
       "                                                       RAW_Text  review_len  \\\n",
       "original_ind                                                                  \n",
       "19245         I am 5'5\", 145 lbs, a cup. depending on the st...         504   \n",
       "22446         So thin and see thru it's not even wearable in...         188   \n",
       "3813          Just bought these today and they are super sof...         286   \n",
       "22549         Lightweight silk with sweet details (ruffles) ...         111   \n",
       "3417          I bought the size 27 in these - i'm usually a ...         239   \n",
       "\n",
       "              Positive_fb_count        Division Department    Class  \\\n",
       "original_ind                                                          \n",
       "19245                         6  General Petite       Tops  Blouses   \n",
       "22446                         4       Initmates   Intimate   Lounge   \n",
       "3813                          0       Initmates   Intimate    Sleep   \n",
       "22549                         0         General       Tops  Blouses   \n",
       "3417                          0  General Petite    Bottoms    Pants   \n",
       "\n",
       "              Positively_rated  Reco  \n",
       "original_ind                          \n",
       "19245                        1     1  \n",
       "22446                        0     0  \n",
       "3813                         1     1  \n",
       "22549                        1     1  \n",
       "3417                         1     1  "
      ]
     },
     "execution_count": 3,
     "metadata": {},
     "output_type": "execute_result"
    }
   ],
   "source": [
    "data_train.head()"
   ]
  },
  {
   "cell_type": "code",
   "execution_count": 3,
   "metadata": {},
   "outputs": [],
   "source": [
    "X = np.array(data_train.RAW_Text)\n",
    "y = np.array(data_train.Positively_rated)"
   ]
  },
  {
   "cell_type": "code",
   "execution_count": 6,
   "metadata": {},
   "outputs": [],
   "source": [
    "vect = TfidfVectorizer()\n",
    "#parameters to tune: n_gram\n",
    "#We chose not to tune min_df as the reviews tend to be short so repeating words should be rare except stopwords"
   ]
  },
  {
   "cell_type": "markdown",
   "metadata": {},
   "source": [
    "Let's try it with default parameters"
   ]
  },
  {
   "cell_type": "code",
   "execution_count": 7,
   "metadata": {},
   "outputs": [],
   "source": [
    "X_vect = vect.fit_transform(X)"
   ]
  },
  {
   "cell_type": "code",
   "execution_count": 7,
   "metadata": {},
   "outputs": [],
   "source": [
    "model = LogisticRegressionCV(Cs = [1,5,10],cv = 5,penalty =  'l2',max_iter = 500,random_state = seed,\n",
    "         multi_class = 'ovr')\n",
    "fitted_model,results = hf.model_fit_train_score_skf(model,X_vect, y)"
   ]
  },
  {
   "cell_type": "code",
   "execution_count": 8,
   "metadata": {},
   "outputs": [
    {
     "name": "stdout",
     "output_type": "stream",
     "text": [
      "Accuracy: 0.879 \n",
      "F1 score: 0.924 \n",
      "AUC score: 0.931\n"
     ]
    }
   ],
   "source": [
    "print(f\"Accuracy: {results['Accuracy_mean']:.3f} \\nF1 score: {results['F1_mean']:.3f} \\nAUC score: {results['AUC_mean']:.3f}\")"
   ]
  },
  {
   "cell_type": "code",
   "execution_count": 9,
   "metadata": {},
   "outputs": [
    {
     "data": {
      "text/plain": [
       "array([5])"
      ]
     },
     "execution_count": 9,
     "metadata": {},
     "output_type": "execute_result"
    }
   ],
   "source": [
    "fitted_model.C_"
   ]
  },
  {
   "cell_type": "code",
   "execution_count": 10,
   "metadata": {},
   "outputs": [
    {
     "name": "stdout",
     "output_type": "stream",
     "text": [
      "Smallest Coefs:\n",
      "['disappointed' 'wanted' 'cheap' 'huge' 'unflattering' 'bad' 'returned'\n",
      " 'returning' 'however' 'poor']\n",
      "\n",
      "Largest Coefs: \n",
      "['perfect' 'love' 'comfortable' 'compliments' 'perfectly' 'great'\n",
      " 'sometimes' 'little' 'glad' 'beautifully']\n"
     ]
    }
   ],
   "source": [
    "#try to see the \n",
    "feature_names = np.array(vect.get_feature_names())\n",
    "\n",
    "# Sort the coefficients from the model\n",
    "sorted_coef_index = model.coef_[0].argsort()\n",
    "\n",
    "# Find the 10 smallest and 10 largest coefficients\n",
    "# The 10 largest coefficients are being indexed using [:-11:-1] \n",
    "# so the list returned is in order of largest to smallest\n",
    "print('Smallest Coefs:\\n{}\\n'.format(feature_names[sorted_coef_index[:10]]))\n",
    "print('Largest Coefs: \\n{}'.format(feature_names[sorted_coef_index[:-11:-1]]))"
   ]
  },
  {
   "cell_type": "code",
   "execution_count": 11,
   "metadata": {},
   "outputs": [
    {
     "data": {
      "text/plain": [
       "defaultdict(None,\n",
       "            {'y_val': [array([1, 0, 1, ..., 0, 0, 0], dtype=int64),\n",
       "              array([1, 1, 1, ..., 0, 0, 0], dtype=int64),\n",
       "              array([1, 1, 1, ..., 0, 0, 0], dtype=int64),\n",
       "              array([1, 1, 1, ..., 0, 0, 0], dtype=int64),\n",
       "              array([1, 1, 1, ..., 1, 1, 0], dtype=int64)],\n",
       "             'predictions': [array([1, 0, 1, ..., 0, 0, 0], dtype=int64),\n",
       "              array([1, 1, 1, ..., 1, 0, 1], dtype=int64),\n",
       "              array([1, 1, 1, ..., 0, 1, 1], dtype=int64),\n",
       "              array([1, 1, 1, ..., 0, 0, 0], dtype=int64),\n",
       "              array([1, 1, 1, ..., 1, 1, 0], dtype=int64)],\n",
       "             'predict_proba': [array([0.8120194 , 0.00751342, 0.76670586, ..., 0.01811341, 0.16400767,\n",
       "                     0.02764877]),\n",
       "              array([0.61635552, 0.93974607, 0.95643888, ..., 0.63309319, 0.2936904 ,\n",
       "                     0.83399633]),\n",
       "              array([0.99784375, 0.98281234, 0.97342943, ..., 0.2464474 , 0.93518061,\n",
       "                     0.58192726]),\n",
       "              array([0.99725044, 0.99507733, 0.99812478, ..., 0.49257186, 0.00418812,\n",
       "                     0.02125876]),\n",
       "              array([0.9747164 , 0.9939646 , 0.97152801, ..., 0.54449578, 0.93637443,\n",
       "                     0.30359656])],\n",
       "             'Accuracy_mean': 0.8794241740106654,\n",
       "             'F1_mean': 0.9237440746022523,\n",
       "             'AUC_mean': 0.9305213543793467,\n",
       "             'Accuracy_std': 0.005979506075741743,\n",
       "             'F1_std': 0.003523271708878023,\n",
       "             'AUC_std': 0.006792625091460319})"
      ]
     },
     "execution_count": 11,
     "metadata": {},
     "output_type": "execute_result"
    }
   ],
   "source": [
    "results"
   ]
  },
  {
   "cell_type": "code",
   "execution_count": 15,
   "metadata": {},
   "outputs": [
    {
     "data": {
      "image/png": "[encoded data removed]",
      "text/plain": [
       "<Figure size 720x504 with 2 Axes>"
      ]
     },
     "metadata": {
      "needs_background": "light"
     },
     "output_type": "display_data"
    }
   ],
   "source": [
    "conf_mat = confusion_matrix(y_true=results['y_val'][0], y_pred=results['predictions'][0])\n",
    "cm = hf.print_confusion_matrix(conf_mat, ['Negative', 'Positive'])\n",
    "plt.savefig('output/confusion_matrix_TFIDF_1.png')"
   ]
  },
  {
   "cell_type": "code",
   "execution_count": 17,
   "metadata": {},
   "outputs": [
    {
     "data": {
      "image/png": "[encoded data removed]",
      "text/plain": [
       "<Figure size 504x360 with 1 Axes>"
      ]
     },
     "metadata": {
      "needs_background": "light"
     },
     "output_type": "display_data"
    }
   ],
   "source": [
    "hf.plot_ROC(results['y_val'][0],results['predict_proba'][0],results['AUC_mean'])\n",
    "plt.savefig(\"output/ROC_curve_1st_TFIDF_LR.png\")"
   ]
  },
  {
   "cell_type": "markdown",
   "metadata": {},
   "source": [
    "Great, now let's explore if removing stopwords or lemmatization has impact on the model"
   ]
  },
  {
   "cell_type": "code",
   "execution_count": 18,
   "metadata": {},
   "outputs": [],
   "source": [
    "import spacy\n",
    "import en_core_web_sm\n",
    "nlp = en_core_web_sm.load()\n",
    "stopwords = list(spacy.lang.en.stop_words.STOP_WORDS)"
   ]
  },
  {
   "cell_type": "code",
   "execution_count": 19,
   "metadata": {},
   "outputs": [],
   "source": [
    "def lemma_and_stop (text):\n",
    "    docs = nlp.pipe(text)\n",
    "    lemma = []\n",
    "    lemma_and_stop = []\n",
    "\n",
    "    for doc in docs:\n",
    "        if doc.is_parsed:\n",
    "            lemma.append(\" \".join([n.lemma_ for n in doc]))\n",
    "            lemma_and_stop.append(\" \".join([n.lemma_ for n in doc if n.is_stop == False]))\n",
    "        else:\n",
    "            # We want to make sure that the lists of parsed results have the\n",
    "            # same number of entries of the original Dataframe, so add some blanks in case the parse fails\n",
    "            lemma.append(None)\n",
    "            lemma_and_stop.append(None)\n",
    "    return lemma,lemma_and_stop"
   ]
  },
  {
   "cell_type": "code",
   "execution_count": 20,
   "metadata": {},
   "outputs": [],
   "source": [
    "lemma_X,lem_and_stop_X = lemma_and_stop(data_train.RAW_Text)"
   ]
  },
  {
   "cell_type": "code",
   "execution_count": 21,
   "metadata": {},
   "outputs": [],
   "source": [
    "vect = TfidfVectorizer()\n",
    "X_vect_lemma = vect.fit_transform(lemma_X)"
   ]
  },
  {
   "cell_type": "code",
   "execution_count": 22,
   "metadata": {},
   "outputs": [],
   "source": [
    "model = LogisticRegressionCV(Cs = [0.5,1,5,10],cv = 5,penalty =  'l2',max_iter = 500,random_state = seed,\n",
    "         multi_class = 'ovr')\n",
    "fitted_model,results = hf.model_fit_train_score_skf(model,X_vect_lemma, y)"
   ]
  },
  {
   "cell_type": "code",
   "execution_count": 23,
   "metadata": {},
   "outputs": [
    {
     "name": "stdout",
     "output_type": "stream",
     "text": [
      "Accuracy: 0.877 \n",
      "F1 score: 0.922 \n",
      "AUC score: 0.925\n"
     ]
    }
   ],
   "source": [
    "print(f\"Accuracy: {results['Accuracy_mean']:.3f} \\nF1 score: {results['F1_mean']:.3f} \\nAUC score: {results['AUC_mean']:.3f}\")"
   ]
  },
  {
   "cell_type": "code",
   "execution_count": 24,
   "metadata": {},
   "outputs": [
    {
     "data": {
      "text/plain": [
       "array([5.])"
      ]
     },
     "execution_count": 24,
     "metadata": {},
     "output_type": "execute_result"
    }
   ],
   "source": [
    "fitted_model.C_"
   ]
  },
  {
   "cell_type": "code",
   "execution_count": 25,
   "metadata": {},
   "outputs": [],
   "source": [
    "vect = TfidfVectorizer()\n",
    "X_vect_lemma_stop = vect.fit_transform(lem_and_stop_X)\n",
    "\n",
    "model = LogisticRegressionCV(Cs = [0.5,1,5,10],cv = 5,penalty =  'l2',max_iter = 500,random_state = seed,\n",
    "         multi_class = 'ovr')\n",
    "\n",
    "fitted_model,results = hf.model_fit_train_score_skf(model,X_vect_lemma_stop, y)"
   ]
  },
  {
   "cell_type": "code",
   "execution_count": 26,
   "metadata": {},
   "outputs": [
    {
     "name": "stdout",
     "output_type": "stream",
     "text": [
      "Accuracy: 0.868 \n",
      "F1 score: 0.917 \n",
      "AUC score: 0.912\n"
     ]
    }
   ],
   "source": [
    "print(f\"Accuracy: {results['Accuracy_mean']:.3f} \\nF1 score: {results['F1_mean']:.3f} \\nAUC score: {results['AUC_mean']:.3f}\")"
   ]
  },
  {
   "cell_type": "markdown",
   "metadata": {},
   "source": [
    "Same conclusion as BOW model, lemmatization and stop words removal does not help improving the model performance\n",
    "\n",
    "We will explore fitting MNB and SVC"
   ]
  },
  {
   "cell_type": "code",
   "execution_count": 128,
   "metadata": {},
   "outputs": [
    {
     "ename": "NameError",
     "evalue": "name 'X_vect' is not defined",
     "output_type": "error",
     "traceback": [
      "\u001b[1;31m---------------------------------------------------------------------------\u001b[0m",
      "\u001b[1;31mNameError\u001b[0m                                 Traceback (most recent call last)",
      "\u001b[1;32m<ipython-input-128-4d5d4795a604>\u001b[0m in \u001b[0;36m<module>\u001b[1;34m\u001b[0m\n\u001b[0;32m      1\u001b[0m \u001b[1;32mfrom\u001b[0m \u001b[0msklearn\u001b[0m\u001b[1;33m.\u001b[0m\u001b[0mnaive_bayes\u001b[0m \u001b[1;32mimport\u001b[0m \u001b[0mMultinomialNB\u001b[0m\u001b[1;33m\u001b[0m\u001b[1;33m\u001b[0m\u001b[0m\n\u001b[0;32m      2\u001b[0m \u001b[0mclf\u001b[0m \u001b[1;33m=\u001b[0m \u001b[0mMultinomialNB\u001b[0m\u001b[1;33m(\u001b[0m\u001b[1;33m)\u001b[0m\u001b[1;33m\u001b[0m\u001b[1;33m\u001b[0m\u001b[0m\n\u001b[1;32m----> 3\u001b[1;33m \u001b[0mfitted_model\u001b[0m\u001b[1;33m,\u001b[0m\u001b[0mresults\u001b[0m \u001b[1;33m=\u001b[0m \u001b[0mhf\u001b[0m\u001b[1;33m.\u001b[0m\u001b[0mmodel_fit_train_score_skf\u001b[0m\u001b[1;33m(\u001b[0m\u001b[0mclf\u001b[0m\u001b[1;33m,\u001b[0m\u001b[0mX_vect\u001b[0m\u001b[1;33m,\u001b[0m \u001b[0my\u001b[0m\u001b[1;33m)\u001b[0m\u001b[1;33m\u001b[0m\u001b[1;33m\u001b[0m\u001b[0m\n\u001b[0m",
      "\u001b[1;31mNameError\u001b[0m: name 'X_vect' is not defined"
     ]
    }
   ],
   "source": [
    "from sklearn.naive_bayes import MultinomialNB\n",
    "clf = MultinomialNB()\n",
    "fitted_model,results = hf.model_fit_train_score_skf(clf,X_vect, y)"
   ]
  },
  {
   "cell_type": "code",
   "execution_count": 28,
   "metadata": {},
   "outputs": [
    {
     "name": "stdout",
     "output_type": "stream",
     "text": [
      "Accuracy: 0.783 \n",
      "F1 score: 0.877 \n",
      "AUC score: 0.909\n"
     ]
    }
   ],
   "source": [
    "print(f\"Accuracy: {results['Accuracy_mean']:.3f} \\nF1 score: {results['F1_mean']:.3f} \\nAUC score: {results['AUC_mean']:.3f}\")"
   ]
  },
  {
   "cell_type": "code",
   "execution_count": 18,
   "metadata": {},
   "outputs": [],
   "source": [
    "from sklearn.svm import LinearSVC,SVC\n",
    "from sklearn.model_selection import GridSearchCV"
   ]
  },
  {
   "cell_type": "code",
   "execution_count": 30,
   "metadata": {},
   "outputs": [
    {
     "name": "stdout",
     "output_type": "stream",
     "text": [
      "Fitting 5 folds for each of 36 candidates, totalling 180 fits\n"
     ]
    },
    {
     "name": "stderr",
     "output_type": "stream",
     "text": [
      "[Parallel(n_jobs=-1)]: Using backend LokyBackend with 4 concurrent workers.\n",
      "[Parallel(n_jobs=-1)]: Done  88 tasks      | elapsed:    1.7s\n",
      "[Parallel(n_jobs=-1)]: Done 180 out of 180 | elapsed:    2.6s finished\n"
     ]
    }
   ],
   "source": [
    "clf = LinearSVC()\n",
    "parameters_SVC = {'C':[0.00001,0.0001,0.001,0.005,0.01,0.05], 'penalty':['l1','l2','elasticnet'],'loss':['hinge','squared_hinge'] \n",
    "                }\n",
    "clf_grid = GridSearchCV(estimator = clf, param_grid = parameters_SVC, verbose=1,n_jobs = -1,\n",
    "                        scoring='f1',cv = 5,\n",
    "                        return_train_score=True).fit(X_vect, y)"
   ]
  },
  {
   "cell_type": "code",
   "execution_count": 31,
   "metadata": {},
   "outputs": [
    {
     "data": {
      "text/plain": [
       "{'mean_fit_time': array([0.01400504, 0.0450253 , 0.01941795, 0.01420426, 0.06329226,\n",
       "        0.01142025, 0.01379209, 0.04002342, 0.01592035, 0.01215963,\n",
       "        0.07878766, 0.01378326, 0.0176888 , 0.04940286, 0.01539021,\n",
       "        0.01160007, 0.06220798, 0.01458488, 0.01001444, 0.05511098,\n",
       "        0.01436868, 0.01239638, 0.09047589, 0.01098127, 0.01758351,\n",
       "        0.05846281, 0.01379862, 0.01360326, 0.09694958, 0.01399159,\n",
       "        0.01540031, 0.05714664, 0.0133893 , 0.01320243, 0.08711061,\n",
       "        0.01379614]),\n",
       " 'std_fit_time': array([0.00109439, 0.00428542, 0.00825281, 0.00193372, 0.00861753,\n",
       "        0.00225126, 0.00354454, 0.00798709, 0.00715211, 0.00236878,\n",
       "        0.00698299, 0.00620893, 0.00681954, 0.00307472, 0.00540138,\n",
       "        0.00320528, 0.00767733, 0.00387782, 0.00064401, 0.00679848,\n",
       "        0.00559956, 0.00493096, 0.00844792, 0.00249759, 0.00884103,\n",
       "        0.00652111, 0.00476645, 0.00493284, 0.00789709, 0.0058571 ,\n",
       "        0.006269  , 0.00589164, 0.00780056, 0.00305376, 0.00901826,\n",
       "        0.00098469]),\n",
       " 'mean_score_time': array([0.        , 0.00217233, 0.        , 0.        , 0.00342193,\n",
       "        0.        , 0.        , 0.00199475, 0.        , 0.        ,\n",
       "        0.00209274, 0.        , 0.        , 0.00219393, 0.        ,\n",
       "        0.        , 0.00240183, 0.        , 0.        , 0.00259342,\n",
       "        0.        , 0.        , 0.00249295, 0.        , 0.        ,\n",
       "        0.00320139, 0.        , 0.        , 0.00258894, 0.        ,\n",
       "        0.        , 0.00280371, 0.        , 0.        , 0.00260653,\n",
       "        0.        ]),\n",
       " 'std_score_time': array([0.00000000e+00, 2.71720817e-04, 0.00000000e+00, 0.00000000e+00,\n",
       "        1.81129664e-03, 0.00000000e+00, 0.00000000e+00, 1.78890848e-05,\n",
       "        0.00000000e+00, 0.00000000e+00, 2.13827021e-04, 0.00000000e+00,\n",
       "        0.00000000e+00, 3.98755483e-04, 0.00000000e+00, 0.00000000e+00,\n",
       "        4.82612987e-04, 0.00000000e+00, 0.00000000e+00, 4.76564200e-04,\n",
       "        0.00000000e+00, 0.00000000e+00, 4.43580708e-04, 0.00000000e+00,\n",
       "        0.00000000e+00, 1.91636227e-03, 0.00000000e+00, 0.00000000e+00,\n",
       "        4.93188489e-04, 0.00000000e+00, 0.00000000e+00, 4.05253283e-04,\n",
       "        0.00000000e+00, 0.00000000e+00, 4.85046567e-04, 0.00000000e+00]),\n",
       " 'param_C': masked_array(data=[1e-05, 1e-05, 1e-05, 1e-05, 1e-05, 1e-05, 0.0001,\n",
       "                    0.0001, 0.0001, 0.0001, 0.0001, 0.0001, 0.001, 0.001,\n",
       "                    0.001, 0.001, 0.001, 0.001, 0.005, 0.005, 0.005, 0.005,\n",
       "                    0.005, 0.005, 0.01, 0.01, 0.01, 0.01, 0.01, 0.01, 0.05,\n",
       "                    0.05, 0.05, 0.05, 0.05, 0.05],\n",
       "              mask=[False, False, False, False, False, False, False, False,\n",
       "                    False, False, False, False, False, False, False, False,\n",
       "                    False, False, False, False, False, False, False, False,\n",
       "                    False, False, False, False, False, False, False, False,\n",
       "                    False, False, False, False],\n",
       "        fill_value='?',\n",
       "             dtype=object),\n",
       " 'param_loss': masked_array(data=['hinge', 'hinge', 'hinge', 'squared_hinge',\n",
       "                    'squared_hinge', 'squared_hinge', 'hinge', 'hinge',\n",
       "                    'hinge', 'squared_hinge', 'squared_hinge',\n",
       "                    'squared_hinge', 'hinge', 'hinge', 'hinge',\n",
       "                    'squared_hinge', 'squared_hinge', 'squared_hinge',\n",
       "                    'hinge', 'hinge', 'hinge', 'squared_hinge',\n",
       "                    'squared_hinge', 'squared_hinge', 'hinge', 'hinge',\n",
       "                    'hinge', 'squared_hinge', 'squared_hinge',\n",
       "                    'squared_hinge', 'hinge', 'hinge', 'hinge',\n",
       "                    'squared_hinge', 'squared_hinge', 'squared_hinge'],\n",
       "              mask=[False, False, False, False, False, False, False, False,\n",
       "                    False, False, False, False, False, False, False, False,\n",
       "                    False, False, False, False, False, False, False, False,\n",
       "                    False, False, False, False, False, False, False, False,\n",
       "                    False, False, False, False],\n",
       "        fill_value='?',\n",
       "             dtype=object),\n",
       " 'param_penalty': masked_array(data=['l1', 'l2', 'elasticnet', 'l1', 'l2', 'elasticnet',\n",
       "                    'l1', 'l2', 'elasticnet', 'l1', 'l2', 'elasticnet',\n",
       "                    'l1', 'l2', 'elasticnet', 'l1', 'l2', 'elasticnet',\n",
       "                    'l1', 'l2', 'elasticnet', 'l1', 'l2', 'elasticnet',\n",
       "                    'l1', 'l2', 'elasticnet', 'l1', 'l2', 'elasticnet',\n",
       "                    'l1', 'l2', 'elasticnet', 'l1', 'l2', 'elasticnet'],\n",
       "              mask=[False, False, False, False, False, False, False, False,\n",
       "                    False, False, False, False, False, False, False, False,\n",
       "                    False, False, False, False, False, False, False, False,\n",
       "                    False, False, False, False, False, False, False, False,\n",
       "                    False, False, False, False],\n",
       "        fill_value='?',\n",
       "             dtype=object),\n",
       " 'params': [{'C': 1e-05, 'loss': 'hinge', 'penalty': 'l1'},\n",
       "  {'C': 1e-05, 'loss': 'hinge', 'penalty': 'l2'},\n",
       "  {'C': 1e-05, 'loss': 'hinge', 'penalty': 'elasticnet'},\n",
       "  {'C': 1e-05, 'loss': 'squared_hinge', 'penalty': 'l1'},\n",
       "  {'C': 1e-05, 'loss': 'squared_hinge', 'penalty': 'l2'},\n",
       "  {'C': 1e-05, 'loss': 'squared_hinge', 'penalty': 'elasticnet'},\n",
       "  {'C': 0.0001, 'loss': 'hinge', 'penalty': 'l1'},\n",
       "  {'C': 0.0001, 'loss': 'hinge', 'penalty': 'l2'},\n",
       "  {'C': 0.0001, 'loss': 'hinge', 'penalty': 'elasticnet'},\n",
       "  {'C': 0.0001, 'loss': 'squared_hinge', 'penalty': 'l1'},\n",
       "  {'C': 0.0001, 'loss': 'squared_hinge', 'penalty': 'l2'},\n",
       "  {'C': 0.0001, 'loss': 'squared_hinge', 'penalty': 'elasticnet'},\n",
       "  {'C': 0.001, 'loss': 'hinge', 'penalty': 'l1'},\n",
       "  {'C': 0.001, 'loss': 'hinge', 'penalty': 'l2'},\n",
       "  {'C': 0.001, 'loss': 'hinge', 'penalty': 'elasticnet'},\n",
       "  {'C': 0.001, 'loss': 'squared_hinge', 'penalty': 'l1'},\n",
       "  {'C': 0.001, 'loss': 'squared_hinge', 'penalty': 'l2'},\n",
       "  {'C': 0.001, 'loss': 'squared_hinge', 'penalty': 'elasticnet'},\n",
       "  {'C': 0.005, 'loss': 'hinge', 'penalty': 'l1'},\n",
       "  {'C': 0.005, 'loss': 'hinge', 'penalty': 'l2'},\n",
       "  {'C': 0.005, 'loss': 'hinge', 'penalty': 'elasticnet'},\n",
       "  {'C': 0.005, 'loss': 'squared_hinge', 'penalty': 'l1'},\n",
       "  {'C': 0.005, 'loss': 'squared_hinge', 'penalty': 'l2'},\n",
       "  {'C': 0.005, 'loss': 'squared_hinge', 'penalty': 'elasticnet'},\n",
       "  {'C': 0.01, 'loss': 'hinge', 'penalty': 'l1'},\n",
       "  {'C': 0.01, 'loss': 'hinge', 'penalty': 'l2'},\n",
       "  {'C': 0.01, 'loss': 'hinge', 'penalty': 'elasticnet'},\n",
       "  {'C': 0.01, 'loss': 'squared_hinge', 'penalty': 'l1'},\n",
       "  {'C': 0.01, 'loss': 'squared_hinge', 'penalty': 'l2'},\n",
       "  {'C': 0.01, 'loss': 'squared_hinge', 'penalty': 'elasticnet'},\n",
       "  {'C': 0.05, 'loss': 'hinge', 'penalty': 'l1'},\n",
       "  {'C': 0.05, 'loss': 'hinge', 'penalty': 'l2'},\n",
       "  {'C': 0.05, 'loss': 'hinge', 'penalty': 'elasticnet'},\n",
       "  {'C': 0.05, 'loss': 'squared_hinge', 'penalty': 'l1'},\n",
       "  {'C': 0.05, 'loss': 'squared_hinge', 'penalty': 'l2'},\n",
       "  {'C': 0.05, 'loss': 'squared_hinge', 'penalty': 'elasticnet'}],\n",
       " 'split0_test_score': array([       nan, 0.87169106,        nan,        nan, 0.87169106,\n",
       "               nan,        nan, 0.87169106,        nan,        nan,\n",
       "        0.87169106,        nan,        nan, 0.87169106,        nan,\n",
       "               nan, 0.87169106,        nan,        nan, 0.87169106,\n",
       "               nan,        nan, 0.87460913,        nan,        nan,\n",
       "        0.87169106,        nan,        nan, 0.88807398,        nan,\n",
       "               nan, 0.88162879,        nan,        nan, 0.91759919,\n",
       "               nan]),\n",
       " 'split1_test_score': array([       nan, 0.87169106,        nan,        nan, 0.87169106,\n",
       "               nan,        nan, 0.87169106,        nan,        nan,\n",
       "        0.87169106,        nan,        nan, 0.87169106,        nan,\n",
       "               nan, 0.87169106,        nan,        nan, 0.87169106,\n",
       "               nan,        nan, 0.87435456,        nan,        nan,\n",
       "        0.87169106,        nan,        nan, 0.88516746,        nan,\n",
       "               nan, 0.88012618,        nan,        nan, 0.91515152,\n",
       "               nan]),\n",
       " 'split2_test_score': array([       nan, 0.87169106,        nan,        nan, 0.87169106,\n",
       "               nan,        nan, 0.87169106,        nan,        nan,\n",
       "        0.87169106,        nan,        nan, 0.87169106,        nan,\n",
       "               nan, 0.87169106,        nan,        nan, 0.87169106,\n",
       "               nan,        nan, 0.87607708,        nan,        nan,\n",
       "        0.87169106,        nan,        nan, 0.8913497 ,        nan,\n",
       "               nan, 0.88358115,        nan,        nan, 0.91988433,\n",
       "               nan]),\n",
       " 'split3_test_score': array([       nan, 0.87165109,        nan,        nan, 0.87165109,\n",
       "               nan,        nan, 0.87165109,        nan,        nan,\n",
       "        0.87165109,        nan,        nan, 0.87165109,        nan,\n",
       "               nan, 0.87165109,        nan,        nan, 0.87165109,\n",
       "               nan,        nan, 0.8746675 ,        nan,        nan,\n",
       "        0.87165109,        nan,        nan, 0.89284568,        nan,\n",
       "               nan, 0.88114754,        nan,        nan, 0.92202928,\n",
       "               nan]),\n",
       " 'split4_test_score': array([       nan, 0.87165109,        nan,        nan, 0.87165109,\n",
       "               nan,        nan, 0.87165109,        nan,        nan,\n",
       "        0.87165109,        nan,        nan, 0.87165109,        nan,\n",
       "               nan, 0.87165109,        nan,        nan, 0.87165109,\n",
       "               nan,        nan, 0.87621435,        nan,        nan,\n",
       "        0.87165109,        nan,        nan, 0.88839143,        nan,\n",
       "               nan, 0.88190717,        nan,        nan, 0.92075344,\n",
       "               nan]),\n",
       " 'mean_test_score': array([       nan, 0.87167507,        nan,        nan, 0.87167507,\n",
       "               nan,        nan, 0.87167507,        nan,        nan,\n",
       "        0.87167507,        nan,        nan, 0.87167507,        nan,\n",
       "               nan, 0.87167507,        nan,        nan, 0.87167507,\n",
       "               nan,        nan, 0.87518453,        nan,        nan,\n",
       "        0.87167507,        nan,        nan, 0.88916565,        nan,\n",
       "               nan, 0.88167816,        nan,        nan, 0.91908355,\n",
       "               nan]),\n",
       " 'std_test_score': array([           nan, 1.95820204e-05,            nan,            nan,\n",
       "        1.95820204e-05,            nan,            nan, 1.95820204e-05,\n",
       "                   nan,            nan, 1.95820204e-05,            nan,\n",
       "                   nan, 1.95820204e-05,            nan,            nan,\n",
       "        1.95820204e-05,            nan,            nan, 1.95820204e-05,\n",
       "                   nan,            nan, 7.93023544e-04,            nan,\n",
       "                   nan, 1.95820204e-05,            nan,            nan,\n",
       "        2.68661115e-03,            nan,            nan, 1.12839923e-03,\n",
       "                   nan,            nan, 2.44013704e-03,            nan]),\n",
       " 'rank_test_score': array([21,  5, 34, 33,  5, 32, 31,  5, 30, 29,  5, 28, 27,  5, 26, 25,  5,\n",
       "        22, 24,  5, 23, 35,  4, 19, 17,  5, 15, 14,  2, 20, 13,  3, 16, 18,\n",
       "         1, 36]),\n",
       " 'split0_train_score': array([       nan, 0.87167108,        nan,        nan, 0.87167108,\n",
       "               nan,        nan, 0.87167108,        nan,        nan,\n",
       "        0.87167108,        nan,        nan, 0.87167108,        nan,\n",
       "               nan, 0.87167108,        nan,        nan, 0.87167108,\n",
       "               nan,        nan, 0.87621958,        nan,        nan,\n",
       "        0.87167108,        nan,        nan, 0.89212501,        nan,\n",
       "               nan, 0.88448139,        nan,        nan, 0.93146949,\n",
       "               nan]),\n",
       " 'split1_train_score': array([       nan, 0.87167108,        nan,        nan, 0.87167108,\n",
       "               nan,        nan, 0.87167108,        nan,        nan,\n",
       "        0.87167108,        nan,        nan, 0.87167108,        nan,\n",
       "               nan, 0.87167108,        nan,        nan, 0.87167108,\n",
       "               nan,        nan, 0.87662643,        nan,        nan,\n",
       "        0.87167108,        nan,        nan, 0.89343933,        nan,\n",
       "               nan, 0.88521863,        nan,        nan, 0.93136085,\n",
       "               nan]),\n",
       " 'split2_train_score': array([       nan, 0.87167108,        nan,        nan, 0.87167108,\n",
       "               nan,        nan, 0.87167108,        nan,        nan,\n",
       "        0.87167108,        nan,        nan, 0.87167108,        nan,\n",
       "               nan, 0.87167108,        nan,        nan, 0.87167108,\n",
       "               nan,        nan, 0.87573409,        nan,        nan,\n",
       "        0.87167108,        nan,        nan, 0.89201426,        nan,\n",
       "               nan, 0.88329447,        nan,        nan, 0.93041105,\n",
       "               nan]),\n",
       " 'split3_train_score': array([       nan, 0.87168107,        nan,        nan, 0.87168107,\n",
       "               nan,        nan, 0.87168107,        nan,        nan,\n",
       "        0.87168107,        nan,        nan, 0.87168107,        nan,\n",
       "               nan, 0.87168107,        nan,        nan, 0.87168107,\n",
       "               nan,        nan, 0.87539136,        nan,        nan,\n",
       "        0.87168107,        nan,        nan, 0.8899732 ,        nan,\n",
       "               nan, 0.88165937,        nan,        nan, 0.92968783,\n",
       "               nan]),\n",
       " 'split4_train_score': array([       nan, 0.87168107,        nan,        nan, 0.87168107,\n",
       "               nan,        nan, 0.87168107,        nan,        nan,\n",
       "        0.87168107,        nan,        nan, 0.87168107,        nan,\n",
       "               nan, 0.87168107,        nan,        nan, 0.87168107,\n",
       "               nan,        nan, 0.87568033,        nan,        nan,\n",
       "        0.87168107,        nan,        nan, 0.89140797,        nan,\n",
       "               nan, 0.88341569,        nan,        nan, 0.93059762,\n",
       "               nan]),\n",
       " 'mean_train_score': array([       nan, 0.87167508,        nan,        nan, 0.87167508,\n",
       "               nan,        nan, 0.87167508,        nan,        nan,\n",
       "        0.87167508,        nan,        nan, 0.87167508,        nan,\n",
       "               nan, 0.87167508,        nan,        nan, 0.87167508,\n",
       "               nan,        nan, 0.87593036,        nan,        nan,\n",
       "        0.87167508,        nan,        nan, 0.89179196,        nan,\n",
       "               nan, 0.88361391,        nan,        nan, 0.93070537,\n",
       "               nan]),\n",
       " 'std_train_score': array([           nan, 4.89512380e-06,            nan,            nan,\n",
       "        4.89512380e-06,            nan,            nan, 4.89512380e-06,\n",
       "                   nan,            nan, 4.89512380e-06,            nan,\n",
       "                   nan, 4.89512380e-06,            nan,            nan,\n",
       "        4.89512380e-06,            nan,            nan, 4.89512380e-06,\n",
       "                   nan,            nan, 4.38115211e-04,            nan,\n",
       "                   nan, 4.89512380e-06,            nan,            nan,\n",
       "        1.12512187e-03,            nan,            nan, 1.20741122e-03,\n",
       "                   nan,            nan, 6.55306902e-04,            nan])}"
      ]
     },
     "execution_count": 31,
     "metadata": {},
     "output_type": "execute_result"
    }
   ],
   "source": [
    "clf_grid.cv_results_"
   ]
  },
  {
   "cell_type": "code",
   "execution_count": 32,
   "metadata": {},
   "outputs": [
    {
     "data": {
      "text/plain": [
       "LinearSVC(C=0.05, class_weight=None, dual=True, fit_intercept=True,\n",
       "          intercept_scaling=1, loss='squared_hinge', max_iter=1000,\n",
       "          multi_class='ovr', penalty='l2', random_state=None, tol=0.0001,\n",
       "          verbose=0)"
      ]
     },
     "execution_count": 32,
     "metadata": {},
     "output_type": "execute_result"
    }
   ],
   "source": [
    "clf_grid.best_estimator_"
   ]
  },
  {
   "cell_type": "code",
   "execution_count": 33,
   "metadata": {},
   "outputs": [
    {
     "data": {
      "text/plain": [
       "0.9190835506493826"
      ]
     },
     "execution_count": 33,
     "metadata": {},
     "output_type": "execute_result"
    }
   ],
   "source": [
    "clf_grid.best_score_"
   ]
  },
  {
   "cell_type": "code",
   "execution_count": 5,
   "metadata": {},
   "outputs": [],
   "source": [
    "best_SVC = LinearSVC(C=0.05, class_weight=None, dual=True, fit_intercept=True,\n",
    "          intercept_scaling=1, loss='squared_hinge', max_iter=1000,\n",
    "          multi_class='ovr', penalty='l2', random_state=None, tol=0.0001,\n",
    "          verbose=0)"
   ]
  },
  {
   "cell_type": "code",
   "execution_count": 8,
   "metadata": {},
   "outputs": [],
   "source": [
    "fitted_model,results = hf.model_fit_train_score_skf(best_SVC,X_vect, y,predict_proba = False)"
   ]
  },
  {
   "cell_type": "code",
   "execution_count": 10,
   "metadata": {},
   "outputs": [
    {
     "name": "stdout",
     "output_type": "stream",
     "text": [
      "Accuracy: 0.868 \n",
      "F1 score: 0.919 \n"
     ]
    }
   ],
   "source": [
    "print(f\"Accuracy: {results['Accuracy_mean']:.3f} \\nF1 score: {results['F1_mean']:.3f} \")"
   ]
  },
  {
   "cell_type": "code",
   "execution_count": 11,
   "metadata": {},
   "outputs": [
    {
     "data": {
      "image/png": "[encoded data removed]",
      "text/plain": [
       "<Figure size 720x504 with 2 Axes>"
      ]
     },
     "metadata": {
      "needs_background": "light"
     },
     "output_type": "display_data"
    }
   ],
   "source": [
    "conf_mat = confusion_matrix(y_true=results['y_val'][0], y_pred=results['predictions'][0])\n",
    "cm = hf.print_confusion_matrix(conf_mat, ['Negative', 'Positive'])"
   ]
  },
  {
   "cell_type": "markdown",
   "metadata": {},
   "source": [
    "The model does not seem to perform better than logistic regression. We will try to tune TF-IDF for better performance"
   ]
  },
  {
   "cell_type": "code",
   "execution_count": 12,
   "metadata": {},
   "outputs": [],
   "source": [
    "vect_2 = TfidfVectorizer(ngram_range=(1, 2))"
   ]
  },
  {
   "cell_type": "code",
   "execution_count": 13,
   "metadata": {},
   "outputs": [],
   "source": [
    "X_vect2 = vect_2.fit_transform(X)"
   ]
  },
  {
   "cell_type": "code",
   "execution_count": 25,
   "metadata": {},
   "outputs": [],
   "source": [
    "model = LogisticRegressionCV(Cs = [5,10,20,30],cv = 5,penalty =  'l2',max_iter = 500,random_state = seed,\n",
    "         multi_class = 'ovr')\n",
    "fitted_model,results = hf.model_fit_train_score_skf(model,X_vect2, y)"
   ]
  },
  {
   "cell_type": "code",
   "execution_count": 26,
   "metadata": {},
   "outputs": [
    {
     "name": "stdout",
     "output_type": "stream",
     "text": [
      "Accuracy: 0.889 \n",
      "F1 score: 0.930 \n",
      "AUC score: 0.940\n"
     ]
    }
   ],
   "source": [
    "print(f\"Accuracy: {results['Accuracy_mean']:.3f} \\nF1 score: {results['F1_mean']:.3f} \\nAUC score: {results['AUC_mean']:.3f}\")"
   ]
  },
  {
   "cell_type": "code",
   "execution_count": 27,
   "metadata": {},
   "outputs": [
    {
     "data": {
      "text/plain": [
       "array([20])"
      ]
     },
     "execution_count": 27,
     "metadata": {},
     "output_type": "execute_result"
    }
   ],
   "source": [
    "fitted_model.C_"
   ]
  },
  {
   "cell_type": "code",
   "execution_count": 28,
   "metadata": {},
   "outputs": [
    {
     "name": "stdout",
     "output_type": "stream",
     "text": [
      "Smallest Coefs:\n",
      "['to love' 'disappointed' 'cheap' 'huge' 'not flattering' 'unflattering'\n",
      " 'not' 'returned' 'was' 'bad']\n",
      "\n",
      "Largest Coefs: \n",
      "['perfect' 'love' 'comfortable' 'great' 'not too' 'love this' 'perfectly'\n",
      " 'little' 'fits' 'compliments']\n"
     ]
    }
   ],
   "source": [
    "#try to see the \n",
    "feature_names2 = np.array(vect_2.get_feature_names())\n",
    "\n",
    "# Sort the coefficients from the model\n",
    "sorted_coef_index = model.coef_[0].argsort()\n",
    "\n",
    "# Find the 10 smallest and 10 largest coefficients\n",
    "# The 10 largest coefficients are being indexed using [:-11:-1] \n",
    "# so the list returned is in order of largest to smallest\n",
    "print('Smallest Coefs:\\n{}\\n'.format(feature_names2[sorted_coef_index[:10]]))\n",
    "print('Largest Coefs: \\n{}'.format(feature_names2[sorted_coef_index[:-11:-1]]))"
   ]
  },
  {
   "cell_type": "code",
   "execution_count": 29,
   "metadata": {},
   "outputs": [],
   "source": [
    "vect_3 = TfidfVectorizer(ngram_range=(1, 3))\n",
    "X_vect3 = vect_3.fit_transform(X)"
   ]
  },
  {
   "cell_type": "code",
   "execution_count": 30,
   "metadata": {},
   "outputs": [],
   "source": [
    "model = LogisticRegressionCV(Cs = [5,10,15,30],cv = 5,penalty =  'l2',max_iter = 500,random_state = seed,\n",
    "         multi_class = 'ovr')\n",
    "fitted_model,results = hf.model_fit_train_score_skf(model,X_vect3, y)"
   ]
  },
  {
   "cell_type": "code",
   "execution_count": 31,
   "metadata": {},
   "outputs": [
    {
     "name": "stdout",
     "output_type": "stream",
     "text": [
      "Accuracy: 0.884 \n",
      "F1 score: 0.928 \n",
      "AUC score: 0.942\n"
     ]
    }
   ],
   "source": [
    "print(f\"Accuracy: {results['Accuracy_mean']:.3f} \\nF1 score: {results['F1_mean']:.3f} \\nAUC score: {results['AUC_mean']:.3f}\")"
   ]
  },
  {
   "cell_type": "code",
   "execution_count": 32,
   "metadata": {},
   "outputs": [
    {
     "name": "stdout",
     "output_type": "stream",
     "text": [
      "Smallest Coefs:\n",
      "['disappointed' 'was' 'not' 'cheap' 'huge' 'returned' 'unflattering'\n",
      " 'however' 'looked' 'not flattering']\n",
      "\n",
      "Largest Coefs: \n",
      "['perfect' 'love' 'great' 'comfortable' 'little' 'fits' 'not too' 'with'\n",
      " 'love this' 'perfectly']\n"
     ]
    }
   ],
   "source": [
    "#try to see the \n",
    "feature_names3 = np.array(vect_3.get_feature_names())\n",
    "\n",
    "# Sort the coefficients from the model\n",
    "sorted_coef_index = model.coef_[0].argsort()\n",
    "\n",
    "# Find the 10 smallest and 10 largest coefficients\n",
    "# The 10 largest coefficients are being indexed using [:-11:-1] \n",
    "# so the list returned is in order of largest to smallest\n",
    "print('Smallest Coefs:\\n{}\\n'.format(feature_names3[sorted_coef_index[:10]]))\n",
    "print('Largest Coefs: \\n{}'.format(feature_names3[sorted_coef_index[:-11:-1]]))"
   ]
  },
  {
   "cell_type": "code",
   "execution_count": 33,
   "metadata": {},
   "outputs": [
    {
     "data": {
      "text/plain": [
       "array([30])"
      ]
     },
     "execution_count": 33,
     "metadata": {},
     "output_type": "execute_result"
    }
   ],
   "source": [
    "fitted_model.C_"
   ]
  },
  {
   "cell_type": "markdown",
   "metadata": {},
   "source": [
    "We chose to stop at bigram as it gives a similar result as using tri-gram and at the same time computationally less expensive;\n",
    "\n",
    "Next we would like to add in min_df and max_df, to remove words that are too rare and to remove words that are too frequent (appears in more than 85% of the total documents)"
   ]
  },
  {
   "cell_type": "code",
   "execution_count": 40,
   "metadata": {},
   "outputs": [
    {
     "data": {
      "text/plain": [
       "15396.05"
      ]
     },
     "execution_count": 40,
     "metadata": {},
     "output_type": "execute_result"
    }
   ],
   "source": [
    "len(X)*.85"
   ]
  },
  {
   "cell_type": "markdown",
   "metadata": {},
   "source": [
    "## best model 1"
   ]
  },
  {
   "cell_type": "code",
   "execution_count": 6,
   "metadata": {},
   "outputs": [],
   "source": [
    "vect_2a = TfidfVectorizer(ngram_range=(1, 2),min_df = 3,max_df = 15396)\n",
    "X_vect2_a = vect_2a.fit_transform(X)"
   ]
  },
  {
   "cell_type": "code",
   "execution_count": 58,
   "metadata": {},
   "outputs": [],
   "source": [
    "model = LogisticRegressionCV(Cs = [1,5,10,20,30],cv = 5,penalty =  'l2',max_iter = 500,random_state = seed,\n",
    "         multi_class = 'ovr')\n",
    "fitted_model,results = hf.model_fit_train_score_skf(model,X_vect2_a, y)"
   ]
  },
  {
   "cell_type": "code",
   "execution_count": 59,
   "metadata": {},
   "outputs": [
    {
     "name": "stdout",
     "output_type": "stream",
     "text": [
      "Accuracy: 0.890 \n",
      "F1 score: 0.931 \n",
      "AUC score: 0.941\n"
     ]
    }
   ],
   "source": [
    "print(f\"Accuracy: {results['Accuracy_mean']:.3f} \\nF1 score: {results['F1_mean']:.3f} \\nAUC score: {results['AUC_mean']:.3f}\")"
   ]
  },
  {
   "cell_type": "code",
   "execution_count": 60,
   "metadata": {},
   "outputs": [
    {
     "data": {
      "text/plain": [
       "array([5])"
      ]
     },
     "execution_count": 60,
     "metadata": {},
     "output_type": "execute_result"
    }
   ],
   "source": [
    "fitted_model.C_"
   ]
  },
  {
   "cell_type": "code",
   "execution_count": 65,
   "metadata": {},
   "outputs": [
    {
     "data": {
      "text/plain": [
       "(18113, 48243)"
      ]
     },
     "execution_count": 65,
     "metadata": {},
     "output_type": "execute_result"
    }
   ],
   "source": [
    "X_vect2_a.shape"
   ]
  },
  {
   "cell_type": "code",
   "execution_count": 62,
   "metadata": {},
   "outputs": [
    {
     "name": "stdout",
     "output_type": "stream",
     "text": [
      "Smallest Coefs:\n",
      "['to love' 'disappointed' 'cheap' 'huge' 'not flattering' 'not'\n",
      " 'unflattering' 'returned' 'was' 'however']\n",
      "\n",
      "Largest Coefs: \n",
      "['perfect' 'love' 'comfortable' 'great' 'not too' 'love this' 'perfectly'\n",
      " 'little' 'fits' 'compliments']\n"
     ]
    }
   ],
   "source": [
    "#try to see the \n",
    "feature_names2a = np.array(vect_2a.get_feature_names())\n",
    "\n",
    "# Sort the coefficients from the model\n",
    "sorted_coef_index = model.coef_[0].argsort()\n",
    "\n",
    "# Find the 10 smallest and 10 largest coefficients\n",
    "# The 10 largest coefficients are being indexed using [:-11:-1] \n",
    "# so the list returned is in order of largest to smallest\n",
    "print('Smallest Coefs:\\n{}\\n'.format(feature_names2a[sorted_coef_index[:10]]))\n",
    "print('Largest Coefs: \\n{}'.format(feature_names2a[sorted_coef_index[:-11:-1]]))"
   ]
  },
  {
   "cell_type": "code",
   "execution_count": 63,
   "metadata": {},
   "outputs": [],
   "source": [
    "clf = MultinomialNB()\n",
    "fitted_model,results = hf.model_fit_train_score_skf(clf,X_vect2_a, y)"
   ]
  },
  {
   "cell_type": "code",
   "execution_count": 64,
   "metadata": {},
   "outputs": [
    {
     "name": "stdout",
     "output_type": "stream",
     "text": [
      "Accuracy: 0.792 \n",
      "F1 score: 0.881 \n",
      "AUC score: 0.932\n"
     ]
    }
   ],
   "source": [
    "print(f\"Accuracy: {results['Accuracy_mean']:.3f} \\nF1 score: {results['F1_mean']:.3f} \\nAUC score: {results['AUC_mean']:.3f}\")"
   ]
  },
  {
   "cell_type": "markdown",
   "metadata": {},
   "source": [
    "## Best model 2"
   ]
  },
  {
   "cell_type": "code",
   "execution_count": 156,
   "metadata": {},
   "outputs": [
    {
     "name": "stdout",
     "output_type": "stream",
     "text": [
      "Fitting 5 folds for each of 30 candidates, totalling 150 fits\n"
     ]
    },
    {
     "name": "stderr",
     "output_type": "stream",
     "text": [
      "[Parallel(n_jobs=-1)]: Using backend LokyBackend with 4 concurrent workers.\n",
      "[Parallel(n_jobs=-1)]: Done  68 tasks      | elapsed:    2.5s\n",
      "[Parallel(n_jobs=-1)]: Done 143 out of 150 | elapsed:    5.9s remaining:    0.2s\n",
      "[Parallel(n_jobs=-1)]: Done 150 out of 150 | elapsed:    6.2s finished\n"
     ]
    }
   ],
   "source": [
    "clf = LinearSVC()\n",
    "parameters_SVC = {'C':[0.05,0.5,1,1.5,5], 'penalty':['l1','l2','elasticnet'],'loss':['hinge','squared_hinge'] \n",
    "                }\n",
    "clf_grid = GridSearchCV(estimator = clf, param_grid = parameters_SVC, verbose=1,n_jobs = -1,\n",
    "                        scoring='f1',cv = 5,\n",
    "                        return_train_score=True).fit(X_vect2_a, y)"
   ]
  },
  {
   "cell_type": "code",
   "execution_count": 157,
   "metadata": {},
   "outputs": [
    {
     "data": {
      "text/plain": [
       "LinearSVC(C=0.5, class_weight=None, dual=True, fit_intercept=True,\n",
       "          intercept_scaling=1, loss='squared_hinge', max_iter=1000,\n",
       "          multi_class='ovr', penalty='l2', random_state=None, tol=0.0001,\n",
       "          verbose=0)"
      ]
     },
     "execution_count": 157,
     "metadata": {},
     "output_type": "execute_result"
    }
   ],
   "source": [
    "clf_grid.best_estimator_"
   ]
  },
  {
   "cell_type": "code",
   "execution_count": 88,
   "metadata": {},
   "outputs": [
    {
     "data": {
      "text/plain": [
       "0.9314367418492491"
      ]
     },
     "execution_count": 88,
     "metadata": {},
     "output_type": "execute_result"
    }
   ],
   "source": [
    "clf_grid.best_score_"
   ]
  },
  {
   "cell_type": "code",
   "execution_count": 145,
   "metadata": {},
   "outputs": [],
   "source": [
    "best_SVC =eval(str(clf_grid.best_estimator_))"
   ]
  },
  {
   "cell_type": "code",
   "execution_count": 146,
   "metadata": {},
   "outputs": [],
   "source": [
    "fitted_model,results = hf.model_fit_train_score_skf(best_SVC,X_vect2_a, y,predict_proba = False)"
   ]
  },
  {
   "cell_type": "code",
   "execution_count": 147,
   "metadata": {},
   "outputs": [
    {
     "name": "stdout",
     "output_type": "stream",
     "text": [
      "Accuracy: 0.891 \n",
      "F1 score: 0.931 \n"
     ]
    }
   ],
   "source": [
    "print(f\"Accuracy: {results['Accuracy_mean']:.3f} \\nF1 score: {results['F1_mean']:.3f} \")"
   ]
  },
  {
   "cell_type": "code",
   "execution_count": 149,
   "metadata": {},
   "outputs": [
    {
     "data": {
      "image/png": "[encoded data removed]",
      "text/plain": [
       "<Figure size 720x504 with 2 Axes>"
      ]
     },
     "metadata": {
      "needs_background": "light"
     },
     "output_type": "display_data"
    }
   ],
   "source": [
    "conf_mat = confusion_matrix(y_true=results['y_val'][0], y_pred=results['predictions'][0])\n",
    "cm = hf.print_confusion_matrix(conf_mat, ['Negative', 'Positive'])\n",
    "plt.savefig('output\\SVC_before_LSA.png')"
   ]
  },
  {
   "cell_type": "code",
   "execution_count": 131,
   "metadata": {},
   "outputs": [],
   "source": [
    "from sklearn.ensemble import RandomForestClassifier\n",
    "clf = RandomForestClassifier()"
   ]
  },
  {
   "cell_type": "code",
   "execution_count": 133,
   "metadata": {},
   "outputs": [],
   "source": [
    "fitted_model,results = hf.model_fit_train_score_skf(clf,X_vect2_a, y)"
   ]
  },
  {
   "cell_type": "code",
   "execution_count": 134,
   "metadata": {},
   "outputs": [
    {
     "name": "stdout",
     "output_type": "stream",
     "text": [
      "Accuracy: 0.834 \n",
      "F1 score: 0.902 \n",
      "AUC score: 0.918\n"
     ]
    }
   ],
   "source": [
    "print(f\"Accuracy: {results['Accuracy_mean']:.3f} \\nF1 score: {results['F1_mean']:.3f} \\nAUC score: {results['AUC_mean']:.3f}\")"
   ]
  },
  {
   "cell_type": "markdown",
   "metadata": {},
   "source": [
    "Now we want to explore how Latent semantic analysis can help to reduce the number of the features and also to find a way to visualize the documents"
   ]
  },
  {
   "cell_type": "code",
   "execution_count": 7,
   "metadata": {},
   "outputs": [],
   "source": [
    "from sklearn.decomposition import TruncatedSVD"
   ]
  },
  {
   "cell_type": "code",
   "execution_count": 160,
   "metadata": {},
   "outputs": [],
   "source": [
    "SVD = TruncatedSVD(n_components=300, algorithm='randomized', n_iter=5, random_state=seed, tol=0.0)"
   ]
  },
  {
   "cell_type": "code",
   "execution_count": null,
   "metadata": {},
   "outputs": [],
   "source": [
    "X_vect_SVD = SVD.fit_transform(X_vect2_a)"
   ]
  },
  {
   "cell_type": "markdown",
   "metadata": {},
   "source": [
    "## Best model 3"
   ]
  },
  {
   "cell_type": "code",
   "execution_count": 55,
   "metadata": {},
   "outputs": [],
   "source": [
    "model = LogisticRegressionCV(Cs = [1,5,10,20,30],cv = 5,penalty =  'l2',max_iter = 500,random_state = seed,\n",
    "         multi_class = 'ovr')\n",
    "fitted_model,results = hf.model_fit_train_score_skf(model,X_vect_SVD, y)"
   ]
  },
  {
   "cell_type": "code",
   "execution_count": 56,
   "metadata": {},
   "outputs": [
    {
     "name": "stdout",
     "output_type": "stream",
     "text": [
      "Accuracy: 0.883 \n",
      "F1 score: 0.926 \n",
      "AUC score: 0.932\n"
     ]
    }
   ],
   "source": [
    "print(f\"Accuracy: {results['Accuracy_mean']:.3f} \\nF1 score: {results['F1_mean']:.3f} \\nAUC score: {results['AUC_mean']:.3f}\")"
   ]
  },
  {
   "cell_type": "code",
   "execution_count": 57,
   "metadata": {},
   "outputs": [
    {
     "data": {
      "text/plain": [
       "array([10])"
      ]
     },
     "execution_count": 57,
     "metadata": {},
     "output_type": "execute_result"
    }
   ],
   "source": [
    "fitted_model.C_"
   ]
  },
  {
   "cell_type": "markdown",
   "metadata": {},
   "source": [
    "## Best model 4"
   ]
  },
  {
   "cell_type": "code",
   "execution_count": null,
   "metadata": {},
   "outputs": [],
   "source": [
    "clf = LinearSVC()\n",
    "parameters_SVC = {'C':[0.1,0.5,1,1.5,5], 'penalty':['l1','l2','elasticnet'],'loss':['hinge','squared_hinge'] \n",
    "                }\n",
    "clf_grid = GridSearchCV(estimator = clf, param_grid = parameters_SVC, verbose=1,n_jobs = -1,\n",
    "                        scoring='f1',cv = 5,\n",
    "                        return_train_score=True).fit(X_vect_SVD, y)"
   ]
  },
  {
   "cell_type": "code",
   "execution_count": 151,
   "metadata": {},
   "outputs": [
    {
     "data": {
      "text/plain": [
       "0.9279326966968968"
      ]
     },
     "execution_count": 151,
     "metadata": {},
     "output_type": "execute_result"
    }
   ],
   "source": [
    "clf_grid.best_score_"
   ]
  },
  {
   "cell_type": "code",
   "execution_count": null,
   "metadata": {},
   "outputs": [],
   "source": [
    "clf_grid.best_estimator_"
   ]
  },
  {
   "cell_type": "code",
   "execution_count": 152,
   "metadata": {},
   "outputs": [],
   "source": [
    "best_SVC =eval(str(clf_grid.best_estimator_))"
   ]
  },
  {
   "cell_type": "code",
   "execution_count": 153,
   "metadata": {},
   "outputs": [],
   "source": [
    "fitted_model,results = hf.model_fit_train_score_skf(best_SVC,X_vect_SVD, y,predict_proba = False)"
   ]
  },
  {
   "cell_type": "code",
   "execution_count": 154,
   "metadata": {},
   "outputs": [
    {
     "name": "stdout",
     "output_type": "stream",
     "text": [
      "Accuracy: 0.886 \n",
      "F1 score: 0.928\n"
     ]
    }
   ],
   "source": [
    "print(f\"Accuracy: {results['Accuracy_mean']:.3f} \\nF1 score: {results['F1_mean']:.3f}\" )"
   ]
  },
  {
   "cell_type": "code",
   "execution_count": 155,
   "metadata": {},
   "outputs": [
    {
     "data": {
      "image/png": "[encoded data removed]",
      "text/plain": [
       "<Figure size 720x504 with 2 Axes>"
      ]
     },
     "metadata": {
      "needs_background": "light"
     },
     "output_type": "display_data"
    }
   ],
   "source": [
    "conf_mat = confusion_matrix(y_true=results['y_val'][0], y_pred=results['predictions'][0])\n",
    "cm = hf.print_confusion_matrix(conf_mat, ['Negative', 'Positive'])\n",
    "plt.savefig('output\\SVC_with_LSA.png')"
   ]
  },
  {
   "cell_type": "markdown",
   "metadata": {},
   "source": [
    "Let's try another SVD algorithm \"arpack\""
   ]
  },
  {
   "cell_type": "code",
   "execution_count": 135,
   "metadata": {},
   "outputs": [],
   "source": [
    "SVD = TruncatedSVD(n_components=300, algorithm='arpack', n_iter=5, random_state=seed, tol=0.0)\n",
    "X_vect_SVD = SVD.fit_transform(X_vect2_a)"
   ]
  },
  {
   "cell_type": "code",
   "execution_count": 118,
   "metadata": {},
   "outputs": [],
   "source": [
    "model = LogisticRegressionCV(Cs = [1,5,10,20,30],cv = 5,penalty =  'l2',max_iter = 500,random_state = seed,\n",
    "         multi_class = 'ovr')\n",
    "fitted_model,results = hf.model_fit_train_score_skf(model,X_vect_SVD, y)"
   ]
  },
  {
   "cell_type": "code",
   "execution_count": 119,
   "metadata": {},
   "outputs": [
    {
     "name": "stdout",
     "output_type": "stream",
     "text": [
      "Accuracy: 0.885 \n",
      "F1 score: 0.927 \n",
      "AUC score: 0.933\n"
     ]
    }
   ],
   "source": [
    "print(f\"Accuracy: {results['Accuracy_mean']:.3f} \\nF1 score: {results['F1_mean']:.3f} \\nAUC score: {results['AUC_mean']:.3f}\")"
   ]
  },
  {
   "cell_type": "code",
   "execution_count": 120,
   "metadata": {},
   "outputs": [
    {
     "data": {
      "text/plain": [
       "array([10])"
      ]
     },
     "execution_count": 120,
     "metadata": {},
     "output_type": "execute_result"
    }
   ],
   "source": [
    "fitted_model.C_"
   ]
  },
  {
   "cell_type": "code",
   "execution_count": 129,
   "metadata": {},
   "outputs": [
    {
     "ename": "ValueError",
     "evalue": "Negative values in data passed to MultinomialNB (input X)",
     "output_type": "error",
     "traceback": [
      "\u001b[1;31m---------------------------------------------------------------------------\u001b[0m",
      "\u001b[1;31mValueError\u001b[0m                                Traceback (most recent call last)",
      "\u001b[1;32m<ipython-input-129-45f9dcae4273>\u001b[0m in \u001b[0;36m<module>\u001b[1;34m\u001b[0m\n\u001b[0;32m      1\u001b[0m \u001b[0mclf\u001b[0m \u001b[1;33m=\u001b[0m \u001b[0mMultinomialNB\u001b[0m\u001b[1;33m(\u001b[0m\u001b[1;33m)\u001b[0m\u001b[1;33m\u001b[0m\u001b[1;33m\u001b[0m\u001b[0m\n\u001b[1;32m----> 2\u001b[1;33m \u001b[0mfitted_model\u001b[0m\u001b[1;33m,\u001b[0m\u001b[0mresults\u001b[0m \u001b[1;33m=\u001b[0m \u001b[0mhf\u001b[0m\u001b[1;33m.\u001b[0m\u001b[0mmodel_fit_train_score_skf\u001b[0m\u001b[1;33m(\u001b[0m\u001b[0mclf\u001b[0m\u001b[1;33m,\u001b[0m\u001b[0mX_vect_SVD\u001b[0m\u001b[1;33m,\u001b[0m \u001b[0my\u001b[0m\u001b[1;33m)\u001b[0m\u001b[1;33m\u001b[0m\u001b[1;33m\u001b[0m\u001b[0m\n\u001b[0m",
      "\u001b[1;32mG:\\Github\\Ecommerce_women_clothing\\helper_functions.py\u001b[0m in \u001b[0;36mmodel_fit_train_score_skf\u001b[1;34m(model, X, y, kfold, predict_proba)\u001b[0m\n\u001b[0;32m    104\u001b[0m         \u001b[0my_train\u001b[0m\u001b[1;33m,\u001b[0m \u001b[0my_val\u001b[0m \u001b[1;33m=\u001b[0m \u001b[0my\u001b[0m\u001b[1;33m[\u001b[0m\u001b[0mtrain_index\u001b[0m\u001b[1;33m]\u001b[0m\u001b[1;33m,\u001b[0m \u001b[0my\u001b[0m\u001b[1;33m[\u001b[0m\u001b[0mtest_index\u001b[0m\u001b[1;33m]\u001b[0m\u001b[1;33m\u001b[0m\u001b[1;33m\u001b[0m\u001b[0m\n\u001b[0;32m    105\u001b[0m         \u001b[1;31m# fit model with latest train set\u001b[0m\u001b[1;33m\u001b[0m\u001b[1;33m\u001b[0m\u001b[1;33m\u001b[0m\u001b[0m\n\u001b[1;32m--> 106\u001b[1;33m         \u001b[0mmodel\u001b[0m\u001b[1;33m.\u001b[0m\u001b[0mfit\u001b[0m\u001b[1;33m(\u001b[0m\u001b[0mx_train\u001b[0m\u001b[1;33m,\u001b[0m \u001b[0my_train\u001b[0m\u001b[1;33m)\u001b[0m\u001b[1;33m\u001b[0m\u001b[1;33m\u001b[0m\u001b[0m\n\u001b[0m\u001b[0;32m    107\u001b[0m         \u001b[1;31m# calculate predictions\u001b[0m\u001b[1;33m\u001b[0m\u001b[1;33m\u001b[0m\u001b[1;33m\u001b[0m\u001b[0m\n\u001b[0;32m    108\u001b[0m         \u001b[0my_pred\u001b[0m \u001b[1;33m=\u001b[0m \u001b[0mmodel\u001b[0m\u001b[1;33m.\u001b[0m\u001b[0mpredict\u001b[0m\u001b[1;33m(\u001b[0m\u001b[0mx_val\u001b[0m\u001b[1;33m)\u001b[0m\u001b[1;33m\u001b[0m\u001b[1;33m\u001b[0m\u001b[0m\n",
      "\u001b[1;32m~\\Anaconda3\\lib\\site-packages\\sklearn\\naive_bayes.py\u001b[0m in \u001b[0;36mfit\u001b[1;34m(self, X, y, sample_weight)\u001b[0m\n\u001b[0;32m    633\u001b[0m \u001b[1;33m\u001b[0m\u001b[0m\n\u001b[0;32m    634\u001b[0m         \u001b[0mself\u001b[0m\u001b[1;33m.\u001b[0m\u001b[0m_init_counters\u001b[0m\u001b[1;33m(\u001b[0m\u001b[0mn_effective_classes\u001b[0m\u001b[1;33m,\u001b[0m \u001b[0mn_features\u001b[0m\u001b[1;33m)\u001b[0m\u001b[1;33m\u001b[0m\u001b[1;33m\u001b[0m\u001b[0m\n\u001b[1;32m--> 635\u001b[1;33m         \u001b[0mself\u001b[0m\u001b[1;33m.\u001b[0m\u001b[0m_count\u001b[0m\u001b[1;33m(\u001b[0m\u001b[0mX\u001b[0m\u001b[1;33m,\u001b[0m \u001b[0mY\u001b[0m\u001b[1;33m)\u001b[0m\u001b[1;33m\u001b[0m\u001b[1;33m\u001b[0m\u001b[0m\n\u001b[0m\u001b[0;32m    636\u001b[0m         \u001b[0malpha\u001b[0m \u001b[1;33m=\u001b[0m \u001b[0mself\u001b[0m\u001b[1;33m.\u001b[0m\u001b[0m_check_alpha\u001b[0m\u001b[1;33m(\u001b[0m\u001b[1;33m)\u001b[0m\u001b[1;33m\u001b[0m\u001b[1;33m\u001b[0m\u001b[0m\n\u001b[0;32m    637\u001b[0m         \u001b[0mself\u001b[0m\u001b[1;33m.\u001b[0m\u001b[0m_update_feature_log_prob\u001b[0m\u001b[1;33m(\u001b[0m\u001b[0malpha\u001b[0m\u001b[1;33m)\u001b[0m\u001b[1;33m\u001b[0m\u001b[1;33m\u001b[0m\u001b[0m\n",
      "\u001b[1;32m~\\Anaconda3\\lib\\site-packages\\sklearn\\naive_bayes.py\u001b[0m in \u001b[0;36m_count\u001b[1;34m(self, X, Y)\u001b[0m\n\u001b[0;32m    754\u001b[0m     \u001b[1;32mdef\u001b[0m \u001b[0m_count\u001b[0m\u001b[1;33m(\u001b[0m\u001b[0mself\u001b[0m\u001b[1;33m,\u001b[0m \u001b[0mX\u001b[0m\u001b[1;33m,\u001b[0m \u001b[0mY\u001b[0m\u001b[1;33m)\u001b[0m\u001b[1;33m:\u001b[0m\u001b[1;33m\u001b[0m\u001b[1;33m\u001b[0m\u001b[0m\n\u001b[0;32m    755\u001b[0m         \u001b[1;34m\"\"\"Count and smooth feature occurrences.\"\"\"\u001b[0m\u001b[1;33m\u001b[0m\u001b[1;33m\u001b[0m\u001b[0m\n\u001b[1;32m--> 756\u001b[1;33m         \u001b[0mcheck_non_negative\u001b[0m\u001b[1;33m(\u001b[0m\u001b[0mX\u001b[0m\u001b[1;33m,\u001b[0m \u001b[1;34m\"MultinomialNB (input X)\"\u001b[0m\u001b[1;33m)\u001b[0m\u001b[1;33m\u001b[0m\u001b[1;33m\u001b[0m\u001b[0m\n\u001b[0m\u001b[0;32m    757\u001b[0m         \u001b[0mself\u001b[0m\u001b[1;33m.\u001b[0m\u001b[0mfeature_count_\u001b[0m \u001b[1;33m+=\u001b[0m \u001b[0msafe_sparse_dot\u001b[0m\u001b[1;33m(\u001b[0m\u001b[0mY\u001b[0m\u001b[1;33m.\u001b[0m\u001b[0mT\u001b[0m\u001b[1;33m,\u001b[0m \u001b[0mX\u001b[0m\u001b[1;33m)\u001b[0m\u001b[1;33m\u001b[0m\u001b[1;33m\u001b[0m\u001b[0m\n\u001b[0;32m    758\u001b[0m         \u001b[0mself\u001b[0m\u001b[1;33m.\u001b[0m\u001b[0mclass_count_\u001b[0m \u001b[1;33m+=\u001b[0m \u001b[0mY\u001b[0m\u001b[1;33m.\u001b[0m\u001b[0msum\u001b[0m\u001b[1;33m(\u001b[0m\u001b[0maxis\u001b[0m\u001b[1;33m=\u001b[0m\u001b[1;36m0\u001b[0m\u001b[1;33m)\u001b[0m\u001b[1;33m\u001b[0m\u001b[1;33m\u001b[0m\u001b[0m\n",
      "\u001b[1;32m~\\Anaconda3\\lib\\site-packages\\sklearn\\utils\\validation.py\u001b[0m in \u001b[0;36mcheck_non_negative\u001b[1;34m(X, whom)\u001b[0m\n\u001b[0;32m    992\u001b[0m \u001b[1;33m\u001b[0m\u001b[0m\n\u001b[0;32m    993\u001b[0m     \u001b[1;32mif\u001b[0m \u001b[0mX_min\u001b[0m \u001b[1;33m<\u001b[0m \u001b[1;36m0\u001b[0m\u001b[1;33m:\u001b[0m\u001b[1;33m\u001b[0m\u001b[1;33m\u001b[0m\u001b[0m\n\u001b[1;32m--> 994\u001b[1;33m         \u001b[1;32mraise\u001b[0m \u001b[0mValueError\u001b[0m\u001b[1;33m(\u001b[0m\u001b[1;34m\"Negative values in data passed to %s\"\u001b[0m \u001b[1;33m%\u001b[0m \u001b[0mwhom\u001b[0m\u001b[1;33m)\u001b[0m\u001b[1;33m\u001b[0m\u001b[1;33m\u001b[0m\u001b[0m\n\u001b[0m\u001b[0;32m    995\u001b[0m \u001b[1;33m\u001b[0m\u001b[0m\n\u001b[0;32m    996\u001b[0m \u001b[1;33m\u001b[0m\u001b[0m\n",
      "\u001b[1;31mValueError\u001b[0m: Negative values in data passed to MultinomialNB (input X)"
     ]
    }
   ],
   "source": [
    "clf = MultinomialNB()\n",
    "fitted_model,results = hf.model_fit_train_score_skf(clf,X_vect_SVD, y)"
   ]
  },
  {
   "cell_type": "markdown",
   "metadata": {},
   "source": [
    "We can't apply SVD truncated version matrix to MNB as MNB assums feature indenpency which may not apply here -> change of classifier or  no matrix factorization \n",
    "\n",
    "Also: The multinomial Naive Bayes classifier is suitable for <b> classification with discrete features </b> (e.g., word counts for text classification). The multinomial distribution normally requires integer feature counts. However, in practice, fractional counts such as tf-idf may also work."
   ]
  },
  {
   "cell_type": "code",
   "execution_count": 130,
   "metadata": {},
   "outputs": [
    {
     "data": {
      "text/plain": [
       "array([[ 0.19969217, -0.0039919 , -0.00391611, -0.04980605, -0.02428972,\n",
       "         0.05819122, -0.07681634,  0.03902953, -0.00140421, -0.06220034,\n",
       "        -0.05189444, -0.05743659,  0.11010842,  0.11359588,  0.10042908,\n",
       "         0.00881126,  0.03165683, -0.01503759,  0.00337851, -0.00120711,\n",
       "         0.06732457, -0.03149671, -0.0539455 , -0.02563115,  0.00773993,\n",
       "        -0.02655455, -0.03271591, -0.01814057, -0.00529835,  0.02875375,\n",
       "        -0.05454275, -0.02035551,  0.00808159, -0.02776413, -0.032094  ,\n",
       "        -0.01100915,  0.00284569,  0.00801574, -0.01169522,  0.05859225,\n",
       "        -0.05252482,  0.02337621, -0.04044121,  0.02289113,  0.02339147,\n",
       "        -0.04292296, -0.00813404, -0.02277976, -0.01102659,  0.01235456,\n",
       "        -0.03913189, -0.01462433, -0.00067768, -0.00665452, -0.00145055,\n",
       "         0.00137141,  0.00222761, -0.03144744,  0.02670157,  0.01086294,\n",
       "         0.02147117,  0.00627158, -0.00221044,  0.00783644,  0.00195333,\n",
       "        -0.00144495, -0.04574354, -0.04670053, -0.04435053,  0.00644939,\n",
       "        -0.01462504,  0.00466689,  0.03642941,  0.0003417 ,  0.0121626 ,\n",
       "        -0.00110633,  0.03622243,  0.01907892,  0.01832695,  0.00313116,\n",
       "        -0.00098583,  0.01261588, -0.02142461, -0.02616093,  0.01571209,\n",
       "        -0.03290578, -0.03129246,  0.02901549, -0.00280152,  0.01611396,\n",
       "         0.02208828,  0.01951535, -0.01587349,  0.01298217, -0.01667908,\n",
       "         0.05378897,  0.0290605 ,  0.02089359,  0.00406596,  0.00154303,\n",
       "         0.00389087, -0.04438316, -0.00159275,  0.03318519,  0.06781304,\n",
       "         0.02529817,  0.02545284,  0.01390203,  0.060044  , -0.01177305,\n",
       "         0.00351017, -0.00498203, -0.02927814, -0.03506146, -0.00911075,\n",
       "        -0.01381596, -0.05246446,  0.00592667,  0.05062472,  0.01133725,\n",
       "         0.06260946,  0.01124499, -0.02889211, -0.01879621,  0.04236024,\n",
       "        -0.00493002,  0.03161737,  0.01922937,  0.03945592, -0.01395859,\n",
       "         0.01760211,  0.03209665, -0.01361147, -0.01134272, -0.00360198,\n",
       "         0.0080899 ,  0.03381617,  0.0385239 ,  0.03901369, -0.01423866,\n",
       "         0.03822684,  0.04507201,  0.03756271, -0.01173691,  0.03325843,\n",
       "        -0.01681778,  0.01084042,  0.0117559 , -0.01015757,  0.03138337,\n",
       "         0.02324166,  0.00071043,  0.04503224,  0.02639523,  0.01870892,\n",
       "         0.00706934, -0.01100824, -0.01051955, -0.02375038,  0.01491679,\n",
       "        -0.02888192,  0.03882132, -0.043632  ,  0.00449303, -0.00030318,\n",
       "         0.0006099 , -0.01836929,  0.01239417, -0.04955708, -0.00196393,\n",
       "        -0.01997796, -0.01387257, -0.04372674,  0.01906163,  0.0120873 ,\n",
       "        -0.03015132, -0.01446571,  0.06663566, -0.0030875 , -0.02487068,\n",
       "         0.02020789,  0.00700127, -0.00232436, -0.02712521, -0.0211263 ,\n",
       "        -0.00665224,  0.0218756 , -0.02569582, -0.00576373,  0.00238721,\n",
       "        -0.00378068,  0.02144653,  0.02114375, -0.01465568,  0.03949998,\n",
       "        -0.00395584,  0.00870412,  0.00488332, -0.01875072,  0.0068127 ,\n",
       "         0.01956486,  0.00238419,  0.01816603, -0.01922538,  0.02827976,\n",
       "        -0.0154935 ,  0.01267657, -0.00171063,  0.01550401,  0.01093491,\n",
       "         0.03335496,  0.01657213,  0.03306876,  0.02886834, -0.01466778,\n",
       "         0.00888194,  0.01082724, -0.00648507, -0.03971082,  0.00330579,\n",
       "        -0.01622174, -0.02718142, -0.00159139, -0.01387798,  0.02482889,\n",
       "         0.03483988,  0.01417868,  0.03324551, -0.03203917,  0.01880691,\n",
       "         0.01466167, -0.0003233 , -0.00045923, -0.02067671, -0.01173069,\n",
       "        -0.00392034,  0.00602749,  0.00500323,  0.01911426,  0.03807019,\n",
       "        -0.02285744,  0.01601283, -0.00544871,  0.01484673,  0.0020269 ,\n",
       "        -0.05466426,  0.02228069,  0.029591  , -0.02119541, -0.01149317,\n",
       "         0.00294839, -0.00790372, -0.00047112,  0.00702788,  0.00965464,\n",
       "        -0.00348755,  0.02954146, -0.00304935, -0.03945773,  0.02936161,\n",
       "        -0.01290287,  0.01987465, -0.00248477,  0.01374667,  0.03714318,\n",
       "        -0.03062546,  0.00503427, -0.04462076,  0.00995419,  0.00189392,\n",
       "         0.0079801 , -0.01306402, -0.03505298, -0.03909631, -0.01224166,\n",
       "         0.00589901, -0.02388972,  0.01357742, -0.00317064, -0.0229567 ,\n",
       "        -0.02823431, -0.03665953, -0.00088219,  0.03495531,  0.0063486 ,\n",
       "         0.01052619,  0.006885  , -0.01295546, -0.02445465,  0.02312626,\n",
       "        -0.03296687,  0.02671531,  0.00031622,  0.00456526,  0.01425092,\n",
       "         0.01594345, -0.02667734,  0.02060157, -0.01569383, -0.00258979]])"
      ]
     },
     "execution_count": 130,
     "metadata": {},
     "output_type": "execute_result"
    }
   ],
   "source": [
    "X_vect_SVD[:1]"
   ]
  },
  {
   "cell_type": "code",
   "execution_count": 121,
   "metadata": {},
   "outputs": [
    {
     "name": "stdout",
     "output_type": "stream",
     "text": [
      "Fitting 5 folds for each of 30 candidates, totalling 150 fits\n"
     ]
    },
    {
     "name": "stderr",
     "output_type": "stream",
     "text": [
      "[Parallel(n_jobs=-1)]: Using backend LokyBackend with 4 concurrent workers.\n",
      "[Parallel(n_jobs=-1)]: Done  42 tasks      | elapsed:    3.3s\n",
      "[Parallel(n_jobs=-1)]: Done 150 out of 150 | elapsed:   13.5s finished\n"
     ]
    }
   ],
   "source": [
    "clf = LinearSVC()\n",
    "parameters_SVC = {'C':[0.1,0.5,1,1.5,5], 'penalty':['l1','l2','elasticnet'],'loss':['hinge','squared_hinge'] \n",
    "                }\n",
    "clf_grid = GridSearchCV(estimator = clf, param_grid = parameters_SVC, verbose=1,n_jobs = -1,\n",
    "                        scoring='f1',cv = 5,\n",
    "                        return_train_score=True).fit(X_vect_SVD, y)"
   ]
  },
  {
   "cell_type": "code",
   "execution_count": 122,
   "metadata": {},
   "outputs": [],
   "source": [
    "best_SVC =eval(str(clf_grid.best_estimator_))"
   ]
  },
  {
   "cell_type": "code",
   "execution_count": 123,
   "metadata": {},
   "outputs": [],
   "source": [
    "fitted_model,results = hf.model_fit_train_score_skf(best_SVC,X_vect_SVD, y,predict_proba = False)"
   ]
  },
  {
   "cell_type": "code",
   "execution_count": 124,
   "metadata": {},
   "outputs": [
    {
     "name": "stdout",
     "output_type": "stream",
     "text": [
      "Accuracy: 0.886 \n",
      "F1 score: 0.928\n"
     ]
    }
   ],
   "source": [
    "print(f\"Accuracy: {results['Accuracy_mean']:.3f} \\nF1 score: {results['F1_mean']:.3f}\" )"
   ]
  },
  {
   "cell_type": "code",
   "execution_count": 136,
   "metadata": {},
   "outputs": [],
   "source": [
    "clf = RandomForestClassifier()"
   ]
  },
  {
   "cell_type": "code",
   "execution_count": 139,
   "metadata": {},
   "outputs": [
    {
     "name": "stdout",
     "output_type": "stream",
     "text": [
      "Fitting 5 folds for each of 4 candidates, totalling 20 fits\n"
     ]
    },
    {
     "name": "stderr",
     "output_type": "stream",
     "text": [
      "[Parallel(n_jobs=-1)]: Using backend LokyBackend with 4 concurrent workers.\n",
      "[Parallel(n_jobs=-1)]: Done  20 out of  20 | elapsed:  1.4min finished\n"
     ]
    }
   ],
   "source": [
    "parameters_rf = {'n_estimators':[100],'min_samples_leaf':[1,5],'max_features':['int','auto']}\n",
    "clf_grid = GridSearchCV(estimator = clf, param_grid = parameters_rf, verbose=1,n_jobs = -1,\n",
    "                        scoring='f1',cv = 5,refit='AUC',\n",
    "                        return_train_score=True).fit(X_vect_SVD, y)"
   ]
  },
  {
   "cell_type": "code",
   "execution_count": 140,
   "metadata": {},
   "outputs": [
    {
     "data": {
      "text/plain": [
       "RandomForestClassifier(bootstrap=True, ccp_alpha=0.0, class_weight=None,\n",
       "                       criterion='gini', max_depth=None, max_features='auto',\n",
       "                       max_leaf_nodes=None, max_samples=None,\n",
       "                       min_impurity_decrease=0.0, min_impurity_split=None,\n",
       "                       min_samples_leaf=1, min_samples_split=2,\n",
       "                       min_weight_fraction_leaf=0.0, n_estimators=100,\n",
       "                       n_jobs=None, oob_score=False, random_state=None,\n",
       "                       verbose=0, warm_start=False)"
      ]
     },
     "execution_count": 140,
     "metadata": {},
     "output_type": "execute_result"
    }
   ],
   "source": [
    "clf_grid.best_estimator_"
   ]
  },
  {
   "cell_type": "code",
   "execution_count": 141,
   "metadata": {},
   "outputs": [],
   "source": [
    "best_clf = eval(str(clf_grid.best_estimator_))"
   ]
  },
  {
   "cell_type": "code",
   "execution_count": 142,
   "metadata": {},
   "outputs": [],
   "source": [
    "fitted_model,results = hf.model_fit_train_score_skf(best_clf,X_vect_SVD, y)"
   ]
  },
  {
   "cell_type": "code",
   "execution_count": 143,
   "metadata": {},
   "outputs": [
    {
     "name": "stdout",
     "output_type": "stream",
     "text": [
      "Accuracy: 0.799 \n",
      "F1 score: 0.884 \n",
      "AUC score: 0.857\n"
     ]
    }
   ],
   "source": [
    "print(f\"Accuracy: {results['Accuracy_mean']:.3f} \\nF1 score: {results['F1_mean']:.3f} \\nAUC score: {results['AUC_mean']:.3f}\")"
   ]
  },
  {
   "cell_type": "markdown",
   "metadata": {},
   "source": [
    "The performance above is similar to our best model with TF-IDF model + SVC but features reduced from 48k to only 300\n",
    "\n",
    "Can we Visualize it?"
   ]
  },
  {
   "cell_type": "code",
   "execution_count": 80,
   "metadata": {},
   "outputs": [],
   "source": [
    "from sklearn.manifold import TSNE"
   ]
  },
  {
   "cell_type": "code",
   "execution_count": 99,
   "metadata": {},
   "outputs": [],
   "source": [
    "SVD2 = TruncatedSVD(n_components=50, algorithm='randomized', n_iter=5, random_state=seed, tol=0.0)\n",
    "X_vect_SVD2 = SVD2.fit_transform(X_vect2_a)"
   ]
  },
  {
   "cell_type": "code",
   "execution_count": 107,
   "metadata": {},
   "outputs": [],
   "source": [
    "tsne = TSNE(n_components=2, perplexity=80.0, early_exaggeration=12.0, learning_rate=200.0, n_iter=1000, n_iter_without_progress=300, min_grad_norm=1e-07, metric='euclidean', init='random', verbose=0, random_state=None, method='barnes_hut', angle=0.5, n_jobs=None)"
   ]
  },
  {
   "cell_type": "code",
   "execution_count": 108,
   "metadata": {},
   "outputs": [],
   "source": [
    "X_new = tsne.fit_transform(X_vect_SVD2)"
   ]
  },
  {
   "cell_type": "code",
   "execution_count": 109,
   "metadata": {},
   "outputs": [
    {
     "data": {
      "text/plain": [
       "(18113, 2)"
      ]
     },
     "execution_count": 109,
     "metadata": {},
     "output_type": "execute_result"
    }
   ],
   "source": [
    "X_new.shape"
   ]
  },
  {
   "cell_type": "code",
   "execution_count": 110,
   "metadata": {},
   "outputs": [],
   "source": [
    "neg = y == 0\n",
    "pos = y == 1"
   ]
  },
  {
   "cell_type": "code",
   "execution_count": 115,
   "metadata": {},
   "outputs": [
    {
     "data": {
      "text/plain": [
       "(-45.19081146843845, 38.655380560235315, -41.90159183172941, 43.86813693670986)"
      ]
     },
     "execution_count": 115,
     "metadata": {},
     "output_type": "execute_result"
    },
    {
     "data": {
      "image/png": "[encoded data removed]",
      "text/plain": [
       "<Figure size 432x432 with 1 Axes>"
      ]
     },
     "metadata": {
      "needs_background": "light"
     },
     "output_type": "display_data"
    }
   ],
   "source": [
    "from matplotlib.ticker import NullFormatter\n",
    "\n",
    "fig, ax = plt.subplots(figsize = (6,6))\n",
    "ax.scatter(X_new[neg, 0], X_new[neg, 1], c=\"r\",alpha=0.1)\n",
    "ax.scatter(X_new[pos, 0], X_new[pos, 1], c=\"g\",alpha=0.1)\n",
    "ax.xaxis.set_major_formatter(NullFormatter())\n",
    "ax.yaxis.set_major_formatter(NullFormatter())\n",
    "plt.axis('tight')"
   ]
  },
  {
   "cell_type": "markdown",
   "metadata": {},
   "source": [
    "We'd probably get better results if we visualize word vectors (resulting from Word2Vec) than SVD vectors..."
   ]
  },
  {
   "cell_type": "code",
   "execution_count": null,
   "metadata": {},
   "outputs": [],
   "source": []
  }
 ],
 "metadata": {
  "kernelspec": {
   "display_name": "Python 3",
   "language": "python",
   "name": "python3"
  },
  "language_info": {
   "codemirror_mode": {
    "name": "ipython",
    "version": 3
   },
   "file_extension": ".py",
   "mimetype": "text/x-python",
   "name": "python",
   "nbconvert_exporter": "python",
   "pygments_lexer": "ipython3",
   "version": "3.7.3"
  }
 },
 "nbformat": 4,
 "nbformat_minor": 2
}

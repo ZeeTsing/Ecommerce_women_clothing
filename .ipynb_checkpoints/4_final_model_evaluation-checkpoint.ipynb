{
 "cells": [
  {
   "cell_type": "code",
   "execution_count": 24,
   "metadata": {},
   "outputs": [],
   "source": [
    "import pandas as pd\n",
    "import numpy as np\n",
    "import seaborn as sns\n",
    "import matplotlib.pyplot as plt\n",
    "from sklearn.metrics import accuracy_score, f1_score,roc_auc_score,accuracy_score, confusion_matrix, roc_curve\n",
    "from sklearn.feature_extraction.text import TfidfVectorizer\n",
    "from helper_functions import model_eval\n",
    "from sklearn.linear_model import LogisticRegression\n",
    "from sklearn.svm import LinearSVC,SVC\n",
    "from sklearn.decomposition import TruncatedSVD\n",
    "seed = 123"
   ]
  },
  {
   "cell_type": "code",
   "execution_count": 2,
   "metadata": {},
   "outputs": [],
   "source": [
    "data_train = pd.read_pickle('train_set.pkl')\n",
    "data_test = pd.read_pickle('test_set.pkl')"
   ]
  },
  {
   "cell_type": "code",
   "execution_count": 5,
   "metadata": {},
   "outputs": [],
   "source": [
    "X_train = np.array(data_train.RAW_Text)\n",
    "y_train = np.array(data_train.Positively_rated)\n",
    "X_test = np.array(data_test.RAW_Text)\n",
    "y_test = np.array(data_test.Positively_rated)"
   ]
  },
  {
   "cell_type": "markdown",
   "metadata": {},
   "source": [
    "We will evaluate the performance of 4 models using test data set\n",
    "\n",
    "The four best model so far are:\n",
    "* TF-IDF (bigram) with logistic regression (LR),C = 5 \n",
    "* TF-IDF (bigram) with linear SVC,C=0.5\n",
    "* TF-IDF (bigram) + LSA with LR, C = 10\n",
    "* TF-IDF (bigram) + LSA with linear SVC, C =1"
   ]
  },
  {
   "cell_type": "markdown",
   "metadata": {},
   "source": [
    "Model 1:"
   ]
  },
  {
   "cell_type": "code",
   "execution_count": 6,
   "metadata": {},
   "outputs": [],
   "source": [
    "vect = TfidfVectorizer(ngram_range=(1, 2),min_df = 3,max_df = 15396)\n",
    "X_train_vect = vect.fit_transform(X_train)\n",
    "X_test_vect = vect.transform(X_test)"
   ]
  },
  {
   "cell_type": "code",
   "execution_count": 10,
   "metadata": {},
   "outputs": [],
   "source": [
    "model1 = LogisticRegression(C = 5,max_iter = 500,random_state = seed)"
   ]
  },
  {
   "cell_type": "code",
   "execution_count": 11,
   "metadata": {},
   "outputs": [],
   "source": [
    "fitted_model,results = model_eval(model1,X_train_vect,y_train,X_test_vect,y_test)"
   ]
  },
  {
   "cell_type": "code",
   "execution_count": 13,
   "metadata": {},
   "outputs": [
    {
     "name": "stdout",
     "output_type": "stream",
     "text": [
      "Accuracy: 0.894 \n",
      "F1 score: 0.933 \n",
      "AUC score: 0.943\n"
     ]
    }
   ],
   "source": [
    "print(f\"Accuracy: {results['Accuracy']:.3f} \\nF1 score: {results['F1']:.3f} \\nAUC score: {results['AUC']:.3f}\")"
   ]
  },
  {
   "cell_type": "markdown",
   "metadata": {},
   "source": [
    "Model 2:"
   ]
  },
  {
   "cell_type": "code",
   "execution_count": 14,
   "metadata": {},
   "outputs": [],
   "source": [
    "model2 = LinearSVC(C=0.5, class_weight=None, dual=True, fit_intercept=True,\n",
    "          intercept_scaling=1, loss='squared_hinge', max_iter=1000,\n",
    "          multi_class='ovr', penalty='l2', random_state=None, tol=0.0001,\n",
    "          verbose=0)"
   ]
  },
  {
   "cell_type": "code",
   "execution_count": 17,
   "metadata": {},
   "outputs": [],
   "source": [
    "fitted_model,results = model_eval(model2,X_train_vect,y_train,X_test_vect,y_test,predict_proba = False)"
   ]
  },
  {
   "cell_type": "code",
   "execution_count": 19,
   "metadata": {},
   "outputs": [
    {
     "name": "stdout",
     "output_type": "stream",
     "text": [
      "Accuracy: 0.896 \n",
      "F1 score: 0.933 \n"
     ]
    }
   ],
   "source": [
    "print(f\"Accuracy: {results['Accuracy']:.3f} \\nF1 score: {results['F1']:.3f} \")"
   ]
  },
  {
   "cell_type": "markdown",
   "metadata": {},
   "source": [
    "Model 3:"
   ]
  },
  {
   "cell_type": "code",
   "execution_count": 23,
   "metadata": {},
   "outputs": [],
   "source": [
    "SVD = TruncatedSVD(n_components=300, algorithm='randomized', n_iter=5, random_state=seed, tol=0.0)"
   ]
  },
  {
   "cell_type": "code",
   "execution_count": 25,
   "metadata": {},
   "outputs": [],
   "source": [
    "X_train_vect_SVD = SVD.fit_transform(X_train_vect)\n",
    "X_test_vect_SVD = SVD.transform(X_test_vect)"
   ]
  },
  {
   "cell_type": "code",
   "execution_count": 26,
   "metadata": {},
   "outputs": [],
   "source": [
    "model3 = LogisticRegression(C = 10,max_iter = 500,random_state = seed)"
   ]
  },
  {
   "cell_type": "code",
   "execution_count": 32,
   "metadata": {},
   "outputs": [],
   "source": [
    "fitted_model,results = model_eval(model3,X_train_vect_SVD,y_train,X_test_vect_SVD,y_test)"
   ]
  },
  {
   "cell_type": "code",
   "execution_count": 33,
   "metadata": {},
   "outputs": [
    {
     "name": "stdout",
     "output_type": "stream",
     "text": [
      "Accuracy: 0.881 \n",
      "F1 score: 0.924 \n",
      "AUC score: 0.931\n"
     ]
    }
   ],
   "source": [
    "print(f\"Accuracy: {results['Accuracy']:.3f} \\nF1 score: {results['F1']:.3f} \\nAUC score: {results['AUC']:.3f}\")"
   ]
  },
  {
   "cell_type": "markdown",
   "metadata": {},
   "source": [
    "Model 4:"
   ]
  },
  {
   "cell_type": "code",
   "execution_count": 31,
   "metadata": {},
   "outputs": [],
   "source": [
    "model4 = LinearSVC(C=1, class_weight=None, dual=True, fit_intercept=True,\n",
    "          intercept_scaling=1, loss='squared_hinge', max_iter=1000,\n",
    "          multi_class='ovr', penalty='l2', random_state=None, tol=0.0001,\n",
    "          verbose=0)"
   ]
  },
  {
   "cell_type": "code",
   "execution_count": 35,
   "metadata": {},
   "outputs": [],
   "source": [
    "fitted_model,results = model_eval(model4,X_train_vect_SVD,y_train,X_test_vect_SVD,y_test,predict_proba = False)"
   ]
  },
  {
   "cell_type": "code",
   "execution_count": 36,
   "metadata": {},
   "outputs": [
    {
     "name": "stdout",
     "output_type": "stream",
     "text": [
      "Accuracy: 0.882 \n",
      "F1 score: 0.925 \n"
     ]
    }
   ],
   "source": [
    "print(f\"Accuracy: {results['Accuracy']:.3f} \\nF1 score: {results['F1']:.3f} \")"
   ]
  },
  {
   "cell_type": "markdown",
   "metadata": {},
   "source": [
    "We will choose model 4 for a balance of computational expense and classification accuracy"
   ]
  },
  {
   "cell_type": "code",
   "execution_count": null,
   "metadata": {},
   "outputs": [],
   "source": []
  }
 ],
 "metadata": {
  "kernelspec": {
   "display_name": "Python 3",
   "language": "python",
   "name": "python3"
  },
  "language_info": {
   "codemirror_mode": {
    "name": "ipython",
    "version": 3
   },
   "file_extension": ".py",
   "mimetype": "text/x-python",
   "name": "python",
   "nbconvert_exporter": "python",
   "pygments_lexer": "ipython3",
   "version": "3.7.3"
  }
 },
 "nbformat": 4,
 "nbformat_minor": 2
}
